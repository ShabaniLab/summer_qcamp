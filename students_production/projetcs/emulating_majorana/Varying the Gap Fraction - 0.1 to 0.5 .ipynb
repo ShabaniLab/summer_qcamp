{
 "cells": [
  {
   "cell_type": "code",
   "execution_count": 1,
   "metadata": {},
   "outputs": [],
   "source": [
    "import numpy as np\n",
    "import matplotlib.pyplot as plt\n",
    "from qiskit.circuit import QuantumCircuit, QuantumRegister, ClassicalRegister\n",
    "from ising_kitaev import initialize_chain, run_adiabatic_zeeman_change, rotate_to_measurement_basis, add_measurement\n",
    "from ising_kitaev import move_chain"
   ]
  },
  {
   "cell_type": "code",
   "execution_count": 2,
   "metadata": {},
   "outputs": [],
   "source": [
    "zeeman_ferro = 0.01  # value of on-site magnetic field for ferromagnetic domain\n",
    "zeeman_para = 10  # value of on-site magnetic field for paramagnetic domain\n",
    "initial_config = np.array([zeeman_ferro, zeeman_ferro, zeeman_ferro, zeeman_para, zeeman_para, zeeman_para])\n",
    "final_config = np.array([zeeman_para, zeeman_para, zeeman_para, zeeman_ferro, zeeman_ferro, zeeman_ferro])\n",
    "qreg = QuantumRegister(6)\n",
    "creg = ClassicalRegister(3)\n",
    "qcirc = QuantumCircuit(qreg, creg)\n",
    "\n",
    "from qiskit import Aer, execute"
   ]
  },
  {
   "cell_type": "code",
   "execution_count": 3,
   "metadata": {},
   "outputs": [
    {
     "data": {
      "image/png": "[encoded data removed]",
      "text/plain": [
       "<Figure size 432x288 with 1 Axes>"
      ]
     },
     "metadata": {
      "needs_background": "light"
     },
     "output_type": "display_data"
    }
   ],
   "source": [
    "dict = {}\n",
    "for i in range(100, 500):\n",
    "    qcirc = QuantumCircuit(qreg, creg)\n",
    "    initialize_chain(qcirc, qreg, initial_config, 'logical_zero')\n",
    "    # moving ferromagenetic domain to one end\n",
    "    move_chain(qcirc, qreg, initial_config, final_config, 0, 0.001 * i, 0.25, 2, 10, method = \"both\")\n",
    "    # moving back the ferromagnetic domain\n",
    "    rotate_to_measurement_basis(qcirc, qreg, [3, 4, 5]) # measurement in logical basis\n",
    "    add_measurement(qcirc, qreg, creg, [3, 4, 5])\n",
    "    backend = Aer.get_backend('qasm_simulator')\n",
    "    job = execute(qcirc, backend, shots=2000)\n",
    "    result = job.result()\n",
    "    result.get_counts()\n",
    "    r = round(1 - result.get_counts().get('000', \"No way this will be returned\")/2000, 4)\n",
    "    dict[i] = r \n",
    "\n",
    "plt.xlabel('Gap Fraction x 1000', fontsize= 10)\n",
    "plt.ylabel('Error Rate', fontsize= 10)\n",
    "plt.bar(list(dict.keys()),dict.values(), color = 'g')\n",
    "plt.show()"
   ]
  },
  {
   "cell_type": "markdown",
   "metadata": {},
   "source": [
    "Gap fraction has an insignificant effect on the error rate, as the error rate is relatively stable at aroound 1-2 percent for both high and low values of gap fraction. "
   ]
  }
 ],
 "metadata": {
  "kernelspec": {
   "display_name": "Python 3",
   "language": "python",
   "name": "python3"
  },
  "language_info": {
   "codemirror_mode": {
    "name": "ipython",
    "version": 3
   },
   "file_extension": ".py",
   "mimetype": "text/x-python",
   "name": "python",
   "nbconvert_exporter": "python",
   "pygments_lexer": "ipython3",
   "version": "3.7.3"
  }
 },
 "nbformat": 4,
 "nbformat_minor": 2
}
