{
 "cells": [
  {
   "cell_type": "code",
   "execution_count": 1,
   "metadata": {},
   "outputs": [],
   "source": [
    "import numpy as np\n",
    "from math import pi\n",
    "from copy import deepcopy\n",
    "from qiskit import *\n",
    "# Tomography functions\n",
    "from qiskit.ignis.verification.tomography import state_tomography_circuits, StateTomographyFitter\n",
    "import qiskit.ignis.mitigation.measurement as mc"
   ]
  },
  {
   "cell_type": "markdown",
   "metadata": {},
   "source": [
    "For a one qubit system we have:\n",
    "$$\\rho = \\frac{1}{2}(c_{1}\\sigma_{x} + c_{2}\\sigma_{y} + c_{3}\\sigma_{z} + I)$$\n",
    "\n",
    "For a two qubit system we have the following equation:\n",
    "$$\\rho = \\frac{1}{4}(c_{1}I\\otimes\\tau_{x} + c_{2}I\\otimes\\tau_{y} + c_{3}I\\otimes\\tau_{z} + c_{4}\\sigma_{x}\\otimes I + c_{5}\\sigma_{y}\\otimes I + c_{6}\\sigma_{z}\\otimes I + c_{7}\\sigma_{x}\\otimes\\tau_{x} + c_{8}\\sigma_{x}\\otimes\\tau_{y} + c_{9}\\sigma_{x}\\otimes\\tau_{z} + c_{10}\\sigma_{y}\\otimes\\tau_{x} + c_{11}\\sigma_{y}\\otimes\\tau_{y} + c_{12}\\sigma_{y}\\otimes\\tau_{z} + c_{13}\\sigma_{z}\\otimes\\tau_{x} + c_{14}\\sigma_{z}\\otimes\\tau_{y} + c_{15}\\sigma_{z}\\otimes\\tau_{z} + I\\otimes I)$$\n",
    "\n",
    "where $c_{i}$ are the expectation values."
   ]
  },
  {
   "cell_type": "markdown",
   "metadata": {},
   "source": [
    "The following function is used to calculate the expectation value. It takes four arguments including the counts, preference, and shots. \n",
    "\n",
    "The reason why this function takes in the dictionary of counts is to avoid measuring twice more for cases like: $$(I\\otimes\\tau_{x}) ; (\\sigma_{x}\\otimes I) ; (\\sigma_{x}\\otimes\\tau_{x})$$\n",
    "\n",
    "The prefence argument is meant to differentiate between expectation value calculations in which an operator is being applied to both qubits (Ex: $\\sigma_{z}\\otimes\\tau_{x}$), to the first qubit (Ex: $\\sigma_{x}\\otimes I$) and to the second (Ex:$I\\otimes\\tau_{z}$). It also helps to differentiate one-qubit and two-qubit cases."
   ]
  },
  {
   "cell_type": "code",
   "execution_count": 2,
   "metadata": {},
   "outputs": [],
   "source": [
    "#calculate expectation value of observables in a two-qubit system\n",
    "def expectationValue(counts,pref,shots):\n",
    "    if pref == 'one':\n",
    "        expectationValue = 1*counts.get('0', 0) + -1*counts.get('1' , 0)\n",
    "    else:\n",
    "        if pref == 'b':\n",
    "            expectationValue = 1*counts.get('00',0) + 1*counts.get('11',0) + -1*counts.get('10', 0) + -1*counts.get('01',0)\n",
    "        elif pref == 'f':\n",
    "            expectationValue = 1*counts.get('00',0) + -1*counts.get('11',0) + -1*counts.get('10', 0) + 1*counts.get('01',0)\n",
    "        else:\n",
    "            expectationValue = 1*counts.get('00',0) + -1*counts.get('11',0) + 1*counts.get('10', 0) + -1*counts.get('01',0)\n",
    "\n",
    "    return expectationValue/shots"
   ]
  },
  {
   "cell_type": "code",
   "execution_count": 3,
   "metadata": {},
   "outputs": [],
   "source": [
    "def getCounts(circuit,q,c,shots):\n",
    "    job = execute(circuit, backend = Aer.get_backend('qasm_simulator'), shots = shots)\n",
    "    counts = job.result().get_counts(circuit)\n",
    "    return counts"
   ]
  },
  {
   "cell_type": "markdown",
   "metadata": {},
   "source": [
    "The following function calculates the expectation values or the $c_{i}$ coefficients and stores them in a dictionary with appropriate labeling (similar to what the plot_state_paulivec does). Using the expectationValue function above, the densityMatrixComponents function performs 3 measurements for one-qubit systems and is optimized to perform only 9 measurements on 9 circuits for two-qubit systems because the expectationValue function just takes in the dictionary of counts which is already generated inside the densityMatrixComponents, so when used for the cases where there is the Idenitify operator, it does not make any extra measurements."
   ]
  },
  {
   "cell_type": "code",
   "execution_count": 23,
   "metadata": {},
   "outputs": [],
   "source": [
    "def densityMatrixComponents(circuit,q,c, shots):\n",
    "    eValues = {} #Store expectation values\n",
    "    circuits = [] #store deep-copies of input circuit to perform rotations and measurements\n",
    "    \n",
    "    #1-qubit\n",
    "    if q.size == 1:\n",
    "        for i in range(3):\n",
    "            circuits.append(deepcopy(circuit))\n",
    "        \n",
    "        circuits[0].ry(-pi/2, q)\n",
    "        circuits[0].measure(q,c)\n",
    "        counts0 = getCounts(circuits[0],q,c,shots)\n",
    "        eValues['X'] = expectationValue(counts0,'one', shots)\n",
    "        \n",
    "        circuits[1].rx(pi/2,q)\n",
    "        circuits[1].measure(q,c)\n",
    "        counts1 = getCounts(circuits[1],q,c,shots)\n",
    "        eValues['Y'] = expectationValue(counts1,'one', shots)\n",
    "        \n",
    "        circuits[2].measure(q,c)\n",
    "        counts2 = getCounts(circuits[2],q,c,shots)\n",
    "        eValues['Z'] = expectationValue(counts2,'one', shots)\n",
    "        \n",
    "        eValues['I'] = 1\n",
    "    #2-qubits\n",
    "    else:\n",
    "        for i in range(9):\n",
    "            circuits.append(deepcopy(circuit))\n",
    "\n",
    "        circuits[0].ry(-pi/2,1)\n",
    "        circuits[0].ry(-pi/2,0)\n",
    "        circuits[0].measure(q,c)\n",
    "        counts0 = getCounts(circuits[0],q,c,shots)\n",
    "    #Measureing XI and IX\n",
    "        eValues['XI'] = expectationValue(counts0,'f', shots)\n",
    "        eValues['IX'] = expectationValue(counts0,'s', shots)\n",
    "\n",
    "    #Measure qubit 1 along X and vary qubit 2    \n",
    "        eValues['XX'] = expectationValue(counts0,'b', shots)\n",
    "\n",
    "        circuits[1].ry(-pi/2,1)\n",
    "        circuits[1].rx(pi/2,0)\n",
    "        circuits[1].measure(q,c)\n",
    "        counts1 = getCounts(circuits[1],q,c,shots)\n",
    "        eValues['XY'] = expectationValue(counts1,'b', shots)\n",
    "\n",
    "        circuits[2].ry(-pi/2,1)\n",
    "        circuits[2].measure(q,c)\n",
    "        counts2 = getCounts(circuits[2],q,c,shots)\n",
    "        eValues['XZ'] = expectationValue(counts2,'b', shots)\n",
    "\n",
    "    #Measure qubit 1 along Y vary qubit 2\n",
    "        circuits[3].rx(pi/2,1)\n",
    "        circuits[3].ry(-pi/2,0)\n",
    "        circuits[3].measure(q,c)\n",
    "        counts3 = getCounts(circuits[3],q,c,shots)\n",
    "        eValues['YX'] =  expectationValue(counts3,'b', shots)\n",
    "\n",
    "        circuits[4].rx(pi/2,1)\n",
    "        circuits[4].rx(pi/2,0)\n",
    "        circuits[4].measure(q,c)\n",
    "        counts4 = getCounts(circuits[4],q,c,shots)\n",
    "        eValues['YI'] = expectationValue(counts4,'f', shots)\n",
    "        eValues['IY'] = expectationValue(counts4,'s', shots)\n",
    "        eValues['YY'] = expectationValue(counts4,'b', shots)\n",
    "        print(counts4)\n",
    "        circuits[5].rx(pi/2,1)\n",
    "        circuits[5].measure(q,c)\n",
    "        counts5 = getCounts(circuits[5],q,c,shots)\n",
    "        eValues['YZ'] = expectationValue(counts5,'b', shots)\n",
    "\n",
    "    #Measure qubit 1 along Z vary qubit 2\n",
    "\n",
    "        circuits[6].ry(-pi/2,0)\n",
    "        circuits[6].measure(q,c)\n",
    "        counts6 = getCounts(circuits[6],q,c,shots)\n",
    "        eValues['ZX'] = expectationValue(counts6,'b', shots)\n",
    "\n",
    "        circuits[7].rx(pi/2,0)\n",
    "        circuits[7].measure(q,c)\n",
    "        counts7 = getCounts(circuits[7],q,c,shots)\n",
    "        eValues['ZY'] = expectationValue(counts7,'b', shots)\n",
    "\n",
    "        circuits[8].measure(q,c)\n",
    "        counts8 = getCounts(circuits[8],q,c,shots)\n",
    "        eValues['ZI'] = expectationValue(counts8,'f', shots)\n",
    "        eValues['IZ'] = expectationValue(counts8,'s', shots)\n",
    "        eValues['ZZ'] = expectationValue(counts8,'b', shots)\n",
    "\n",
    "        eValues['II'] = 1\n",
    "        \n",
    "    for i in eValues:\n",
    "        eValues[i] = round(eValues[i],3)\n",
    "    \n",
    "    return eValues   "
   ]
  },
  {
   "cell_type": "code",
   "execution_count": 24,
   "metadata": {},
   "outputs": [
    {
     "name": "stdout",
     "output_type": "stream",
     "text": [
      "{'00': 4991, '11': 5009}\n"
     ]
    },
    {
     "data": {
      "image/png": "[encoded data removed]",
      "text/plain": [
       "<Figure size 301x258.86 with 1 Axes>"
      ]
     },
     "execution_count": 24,
     "metadata": {},
     "output_type": "execute_result"
    }
   ],
   "source": [
    "#Testing function on Triplet 0 state\n",
    "q = QuantumRegister(2)\n",
    "c = ClassicalRegister(2)\n",
    "circT = QuantumCircuit(q,c)\n",
    "circT.x(0)  #flip second qubit\n",
    "circT.ry(pi/2, 1) #superposes first qubit\n",
    "circT.cx(q[1],q[0])\n",
    "\n",
    "densityMatrixComponents(circT,q,c, 10000)\n",
    "circT.draw(output ='mpl')"
   ]
  },
  {
   "cell_type": "code",
   "execution_count": 25,
   "metadata": {},
   "outputs": [
    {
     "data": {
      "text/plain": [
       "{'X': 0.487, 'Y': 0.007, 'Z': 0.862, 'I': 1}"
      ]
     },
     "execution_count": 25,
     "metadata": {},
     "output_type": "execute_result"
    }
   ],
   "source": [
    "#Testing function for 1 qubit\n",
    "q = QuantumRegister(1)\n",
    "c = ClassicalRegister(1)\n",
    "circ = QuantumCircuit(q,c)\n",
    "circ.h(q)\n",
    "circ.ry(pi/3,q)\n",
    "circ.rx(pi,q)\n",
    "\n",
    "densityMatrixComponents(circ,q,c,10000)"
   ]
  },
  {
   "cell_type": "markdown",
   "metadata": {},
   "source": [
    "The following function uses the densityMatrixComponents function to print out the final density matrix for one-qubit and two-qubit systems."
   ]
  },
  {
   "cell_type": "code",
   "execution_count": 26,
   "metadata": {},
   "outputs": [],
   "source": [
    "def getDensityMatrix(circuit,q,c):\n",
    "    components = densityMatrixComponents(circuit,q,c, 50000)\n",
    "    \n",
    "    #Pauli operators are stored in a dictionary\n",
    "    X = np.array([[0.+0.j, 1.+0.j], [1.+0.j, 0.+0.j]])\n",
    "    Y = np.array([[0.+0.j, 0.-1.j], [0.+1.j, 0.+0.j]])\n",
    "    Z = np.array([[1.+0.j, 0.+0.j], [0.+0.j, -1.+0.j]])\n",
    "    I = np.array([[1.+0.j, 0.+0.j], [0.+0.j, 1.+0.j]])\n",
    "    pauli = {'I': I, 'X': X, 'Y': Y, 'Z': Z}\n",
    "    \n",
    "    densityMatrix = 0\n",
    "    for i,j in pauli.items():\n",
    "        if q.size == 1:\n",
    "            densityMatrix += j*components.get(i)\n",
    "        else:\n",
    "            for k,l in pauli.items():\n",
    "                densityMatrix += np.kron(j, l)*components.get(i+k)\n",
    "            \n",
    "    print(np.round_(densityMatrix*(1/2**(q.size)),3))"
   ]
  },
  {
   "cell_type": "code",
   "execution_count": 27,
   "metadata": {},
   "outputs": [
    {
     "name": "stdout",
     "output_type": "stream",
     "text": [
      "[[0.5+0.j    0.5-0.001j]\n",
      " [0.5+0.001j 0.5+0.j   ]]\n"
     ]
    }
   ],
   "source": [
    "#Simple one-qubit test\n",
    "q = QuantumRegister(1)\n",
    "c = ClassicalRegister(1)\n",
    "circ = QuantumCircuit(q,c)\n",
    "circ.h(q)\n",
    "\n",
    "getDensityMatrix(circ,q,c)"
   ]
  },
  {
   "cell_type": "code",
   "execution_count": 28,
   "metadata": {},
   "outputs": [
    {
     "name": "stdout",
     "output_type": "stream",
     "text": [
      "[[0.852+0.j    0.356+0.002j]\n",
      " [0.356-0.002j 0.148+0.j   ]]\n"
     ]
    }
   ],
   "source": [
    "#One-qubit test\n",
    "q = QuantumRegister(1)\n",
    "c = ClassicalRegister(1)\n",
    "circ = QuantumCircuit(q,c)\n",
    "circ.h(q)\n",
    "circ.ry(pi/4,q)\n",
    "circ.rx(pi,q)\n",
    "\n",
    "getDensityMatrix(circ,q,c)"
   ]
  },
  {
   "cell_type": "code",
   "execution_count": 29,
   "metadata": {},
   "outputs": [
    {
     "name": "stdout",
     "output_type": "stream",
     "text": [
      "[[0.852+0.j    0.356-0.004j]\n",
      " [0.356+0.004j 0.148+0.j   ]]\n"
     ]
    }
   ],
   "source": [
    "#Comparison with my getDensityMatrix Result\n",
    "q1 = QuantumRegister(1)\n",
    "c1 = ClassicalRegister(1)\n",
    "circ1 = QuantumCircuit(q1,c1)\n",
    "circ1.h(q1)\n",
    "circ1.ry(np.pi/4,q1)\n",
    "circ1.rx(np.pi,q1)\n",
    "\n",
    "qst_bell = state_tomography_circuits(circ1, q1)\n",
    "job = qiskit.execute(qst_bell, Aer.get_backend('qasm_simulator'), shots=5000)\n",
    "\n",
    "tomo_bell = StateTomographyFitter(job.result(), qst_bell)\n",
    "\n",
    "print(np.round_(tomo_bell.fit(),3))"
   ]
  },
  {
   "cell_type": "code",
   "execution_count": 30,
   "metadata": {},
   "outputs": [
    {
     "name": "stdout",
     "output_type": "stream",
     "text": [
      "{'10': 24926, '01': 25074}\n",
      "[[ 0.   +0.j    -0.001+0.j     0.001+0.j     0.   -0.001j]\n",
      " [-0.001-0.j     0.5  +0.j    -0.5  +0.001j  0.002-0.002j]\n",
      " [ 0.001+0.j    -0.5  -0.001j  0.5  +0.j    -0.002+0.001j]\n",
      " [ 0.   +0.001j  0.002+0.002j -0.002-0.001j  0.   +0.j   ]]\n"
     ]
    }
   ],
   "source": [
    "#Test Singlet State\n",
    "q = QuantumRegister(2)\n",
    "c = ClassicalRegister(2)\n",
    "circS = QuantumCircuit(q,c)\n",
    "circS.x(0)  #flip second qubit\n",
    "circS.ry(-pi/2, 1) #superposes first qubit\n",
    "circS.cx(q[1],q[0])\n",
    "\n",
    "getDensityMatrix(circS,q,c)       "
   ]
  },
  {
   "cell_type": "code",
   "execution_count": 31,
   "metadata": {},
   "outputs": [
    {
     "name": "stdout",
     "output_type": "stream",
     "text": [
      "{'00': 24945, '11': 25055}\n",
      "[[-0.   +0.j    -0.   +0.002j  0.   -0.002j  0.   +0.001j]\n",
      " [-0.   -0.002j  0.5  +0.j     0.5  -0.002j  0.002+0.002j]\n",
      " [ 0.   +0.002j  0.5  +0.002j  0.5  +0.j     0.002-0.001j]\n",
      " [ 0.   -0.001j  0.002-0.002j  0.002+0.001j  0.   +0.j   ]]\n"
     ]
    }
   ],
   "source": [
    "#Test Triplet State\n",
    "q = QuantumRegister(2)\n",
    "c = ClassicalRegister(2)\n",
    "circT = QuantumCircuit(q,c)\n",
    "circT.x(0)  #flip second qubit\n",
    "circT.ry(pi/2, 1) #superposes first qubit\n",
    "circT.cx(q[1],q[0])\n",
    "\n",
    "getDensityMatrix(circT,q,c) "
   ]
  },
  {
   "cell_type": "code",
   "execution_count": null,
   "metadata": {},
   "outputs": [],
   "source": []
  },
  {
   "cell_type": "code",
   "execution_count": null,
   "metadata": {},
   "outputs": [],
   "source": []
  }
 ],
 "metadata": {
  "kernelspec": {
   "display_name": "Python 3",
   "language": "python",
   "name": "python3"
  },
  "language_info": {
   "codemirror_mode": {
    "name": "ipython",
    "version": 3
   },
   "file_extension": ".py",
   "mimetype": "text/x-python",
   "name": "python",
   "nbconvert_exporter": "python",
   "pygments_lexer": "ipython3",
   "version": "3.7.3"
  }
 },
 "nbformat": 4,
 "nbformat_minor": 2
}
