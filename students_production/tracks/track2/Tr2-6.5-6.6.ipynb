{
 "cells": [
  {
   "cell_type": "code",
   "execution_count": 2,
   "metadata": {},
   "outputs": [],
   "source": [
    "import numpy as np\n",
    "from math import *\n",
    "from qiskit import *\n",
    "from qiskit.tools.visualization import iplot_state_city\n",
    "import matplotlib.pyplot as plt"
   ]
  },
  {
   "cell_type": "code",
   "execution_count": 3,
   "metadata": {},
   "outputs": [],
   "source": [
    "#Helper function to find state\n",
    "def getStateVector(circ):\n",
    "    result = execute(circ, backend = BasicAer.get_backend('statevector_simulator')).result()\n",
    "    psi = result.get_statevector(circ)\n",
    "    return psi"
   ]
  },
  {
   "cell_type": "markdown",
   "metadata": {},
   "source": [
    "***Exercise 6.5:***\n",
    "\n",
    "$\\newcommand{\\ket}[1]{\\left|{#1}\\right\\rangle}\n",
    "\\newcommand{\\bra}[1]{\\left\\langle{#1}\\right|}$\n",
    "a. Prove the following theorem:\n",
    "\n",
    "    When any one of Alice’s or Bob’s spin operators acts on a\n",
    "    product state, the result is still a product state.\n",
    "    \n",
    "The code below shows that the effect of applying an X-gate to flip the second qubit (Bob) still results in a product state vector with four components. Symbolically, this is:\n",
    "\n",
    "$\\tau _{x} \\ket{00} = \\ket{01}$\n",
    "\n",
    "b. Show that in a product state, the expectation value of any component of σ or τ is exactly the same as it would be in the individual single-spin states.\n",
    "\n",
    "So if we had an individual spin state , $\\ket{0}$ , the expectation value of $\\tau_{x}$ would be $\\bra{0} \\tau_{x}\\ket{0}$.\n",
    "\n",
    "$\\bra{0} \\tau_{x} \\ket{0} = \\begin{bmatrix}   \n",
    "                    1&&0 \n",
    "                    \\end{bmatrix} \\begin{bmatrix}   \n",
    "                                    0&&1\\\\\n",
    "                                     1&&0\n",
    "                                    \\end{bmatrix} \\begin{bmatrix}   \n",
    "                                                        1 \\\\\n",
    "                                                        0 \n",
    "                                                        \\end{bmatrix} = 0$\n",
    "                                                        \n",
    "Similarly, for the product state $\\ket{00}$, the expecation value of $\\tau_{x}$ would be $\\bra{00} \\tau_{x} \\ket{00}$.\n",
    "\n",
    "$\\bra{00} \\tau_{x} \\ket{ 00} = \\begin{bmatrix}   \n",
    "                    1&&0&&0&&0\n",
    "                    \\end{bmatrix} (I \\otimes \\tau_{x}) \\begin{bmatrix}   \n",
    "                                                        1 \\\\\n",
    "                                                        0 \\\\\n",
    "                                                        0 \\\\\n",
    "                                                        0 \n",
    "                                                        \\end{bmatrix} = \\begin{bmatrix}   \n",
    "                                                                        1&&0&&0&&0\n",
    "                                                                        \\end{bmatrix} \\begin{bmatrix}   \n",
    "                                                                                        0 \\\\\n",
    "                                                                                        1 \\\\\n",
    "                                                                                        0 \\\\\n",
    "                                                                                        0 \n",
    "                                                                                        \\end{bmatrix} =0$"
   ]
  },
  {
   "cell_type": "code",
   "execution_count": 4,
   "metadata": {},
   "outputs": [
    {
     "name": "stdout",
     "output_type": "stream",
     "text": [
      "State Vector: [0.70710678+0.j 0.70710678+0.j 0.        +0.j 0.        +0.j]\n",
      "{'01': 42, '00': 58}\n"
     ]
    },
    {
     "data": {
      "image/png": "[encoded data removed]",
      "text/plain": [
       "<Figure size 421.4x258.86 with 1 Axes>"
      ]
     },
     "execution_count": 4,
     "metadata": {},
     "output_type": "execute_result"
    }
   ],
   "source": [
    "q = QuantumRegister(2)\n",
    "c = ClassicalRegister(2)\n",
    "\n",
    "circ = QuantumCircuit(q,c) #the state is |00>\n",
    "circ.h(0) #flips the second qubit so the state becomes |01>\n",
    "\n",
    "print('State Vector:' , getStateVector(circ))\n",
    "\n",
    "meas = QuantumCircuit(q,c)\n",
    "meas.measure(q,c)\n",
    "\n",
    "final = circ + meas\n",
    "shots = 100\n",
    "job = execute(final, backend = Aer.get_backend('qasm_simulator'), shots = shots)\n",
    "counts = job.result().get_counts(final)\n",
    "print(counts)\n",
    "final.draw(output='mpl')"
   ]
  },
  {
   "cell_type": "markdown",
   "metadata": {},
   "source": [
    "***Exercise 6.6:***\n",
    "\n",
    "$\\newcommand{\\ket}[1]{\\left|{#1}\\right\\rangle}\n",
    "\\newcommand{\\bra}[1]{\\left\\langle{#1}\\right|}$\n",
    "Assume Charlie has prepared the two spins in the singlet state. This time, Bob measures $τ_{y}$ and Alice measures $σ_{x}$. What is the expectation value of $σ_{x} τ_{y}$? What does this say about the correlation between the two measurements?\n",
    "\n",
    "Below we first prepare a singlet state described by:\n",
    "\n",
    "$\\ket{sing} = \\frac {1}{\\sqrt{2}} (\\ket{01} - \\ket{10})$\n",
    "\n",
    "Then, we applied the a Y-gate to the second qubit and then an X-gate to the first qubit, and found the expectation value of $\\bra{sing}σ_{x}τ_{y}\\ket{sing}$.\n",
    "\n",
    "$\\bra{sing}σ_{x}τ_{y}\\ket{sing} = \\begin{bmatrix}   \n",
    "                            0&&\\frac{1}{\\sqrt{2}}&&-\\frac{1}{\\sqrt{2}}&&0\n",
    "                            \\end{bmatrix} (σ_{x} \\otimes \\tau_{y}) \\begin{bmatrix}   \n",
    "                                                                0 \\\\\n",
    "                                                                \\frac{1}{\\sqrt{2}}\\\\\n",
    "                                                                -\\frac{1}{\\sqrt{2}} \\\\\n",
    "                                                                0 \n",
    "                                                                \\end{bmatrix} = \\begin{bmatrix}   \n",
    "                                                                                0&&\\frac{1}{\\sqrt{2}}&&-\\frac{1}{\\sqrt{2}}&&0\n",
    "                                                                                    \\end{bmatrix} \\begin{bmatrix}   \n",
    "                                                                                                0 \\\\\n",
    "                                                                                                -\\frac{i}{\\sqrt{2}} \\\\\n",
    "                                                                                                -\\frac{i}{\\sqrt{2}} \\\\\n",
    "                                                                                                0 \n",
    "                                                                                                \\end{bmatrix} = 0$"
   ]
  },
  {
   "cell_type": "code",
   "execution_count": 5,
   "metadata": {
    "scrolled": true
   },
   "outputs": [
    {
     "name": "stdout",
     "output_type": "stream",
     "text": [
      "State Vector: [ 0.        +0.j  0.70710678+0.j -0.70710678+0.j  0.        +0.j]\n",
      "Counts: {'10': 49, '01': 51}\n"
     ]
    },
    {
     "data": {
      "text/html": [
       "\n",
       "    <p>\n",
       "        <div id=\"content_15628593440327086\" style=\"position: absolute; z-index: 1;\">\n",
       "            <div id=\"cities_15628593440327086\"></div>\n",
       "        </div>\n",
       "    </p>\n",
       "    \n",
       "    <script>\n",
       "        requirejs.config({\n",
       "            paths: {\n",
       "                qVisualization: \"https://qvisualization.mybluemix.net/q-visualizations\"\n",
       "            }\n",
       "        });\n",
       "\n",
       "        require([\"qVisualization\"], function(qVisualizations) {\n",
       "            data = {\n",
       "                real: [[0.0, 0.0, 0.0, 0.0], [0.0, 0.5000000000000001, -0.5000000000000001, 0.0], [0.0, -0.5000000000000001, 0.5000000000000001, 0.0], [0.0, 0.0, 0.0, 0.0]],\n",
       "                titleReal: \"Real.[rho]\",\n",
       "                imaginary: [[0.0, 0.0, -0.0, 0.0], [0.0, 0.0, -0.0, 0.0], [0.0, 0.0, 0.0, 0.0], [0.0, 0.0, -0.0, 0.0]],\n",
       "                titleImaginary: \"Im.[rho]\",\n",
       "                qbits: 4\n",
       "            };\n",
       "            qVisualizations.plotState(\"cities_15628593440327086\",\n",
       "                                      \"cities\",\n",
       "                                      data,\n",
       "                                      {});\n",
       "        });\n",
       "    </script>\n",
       "    "
      ],
      "text/plain": [
       "<IPython.core.display.HTML object>"
      ]
     },
     "metadata": {},
     "output_type": "display_data"
    }
   ],
   "source": [
    "#Preparing Singlet State\n",
    "q = QuantumRegister(2)\n",
    "c = ClassicalRegister(2)\n",
    "\n",
    "circS = QuantumCircuit(q,c)\n",
    "circS.x(1) \n",
    "circS.x(0)\n",
    "circS.h(1)\n",
    "circS.cx(q[1],q[0])\n",
    "\n",
    "print('State Vector:' , getStateVector(circS))\n",
    "\n",
    "#Measuring Singlet State\n",
    "circ2 = QuantumCircuit(q,c)\n",
    "circ2.measure(q,c)\n",
    "\n",
    "singlet = circS + circ2\n",
    "\n",
    "shots = 100\n",
    "job = execute(singlet, backend = Aer.get_backend('qasm_simulator'), shots = shots)\n",
    "counts = job.result().get_counts(singlet)\n",
    "\n",
    "print('Counts:' , counts)\n",
    "iplot_state_city(getStateVector(circS))"
   ]
  },
  {
   "cell_type": "code",
   "execution_count": 6,
   "metadata": {},
   "outputs": [
    {
     "name": "stdout",
     "output_type": "stream",
     "text": [
      "Counts: {'10': 9, '01': 11}\n",
      "State Vector After tao_y and sigma_x: [0.+0.j         0.-0.70710678j 0.-0.70710678j 0.+0.j        ]\n",
      "Singlet State: [ 0.        +0.j  0.70710678+0.j -0.70710678+0.j  0.        +0.j]\n",
      "Expectation Value, <sigma_x.tao_y>: 0j\n"
     ]
    }
   ],
   "source": [
    "#Apply the X and Y gates\n",
    "circ3 = QuantumCircuit(q,c)\n",
    "circ3.y(0)\n",
    "circ3.x(1)\n",
    "\n",
    "tao_y = circS + circ3\n",
    "\n",
    "#Measure\n",
    "circ4 = QuantumCircuit(q,c)\n",
    "circ4.measure(q,c)\n",
    "\n",
    "tao_y_meas = circS + circ3 + circ4\n",
    "\n",
    "shots = 20\n",
    "job = execute(tao_y_meas, backend = Aer.get_backend('qasm_simulator'), shots = shots)\n",
    "counts = job.result().get_counts(tao_y_meas)\n",
    "print('Counts:' , counts)\n",
    "\n",
    "print('State Vector After tao_y and sigma_x:' , getStateVector(tao_y))\n",
    "print('Singlet State:' , getStateVector(circS))\n",
    "\n",
    "print('Expectation Value, <sigma_x.tao_y>:' , np.transpose(getStateVector(circS))@getStateVector(tao_y))\n"
   ]
  }
 ],
 "metadata": {
  "kernelspec": {
   "display_name": "Python 3",
   "language": "python",
   "name": "python3"
  },
  "language_info": {
   "codemirror_mode": {
    "name": "ipython",
    "version": 3
   },
   "file_extension": ".py",
   "mimetype": "text/x-python",
   "name": "python",
   "nbconvert_exporter": "python",
   "pygments_lexer": "ipython3",
   "version": "3.7.3"
  }
 },
 "nbformat": 4,
 "nbformat_minor": 2
}
