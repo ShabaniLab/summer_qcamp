{
 "cells": [
  {
   "cell_type": "code",
   "execution_count": 1,
   "metadata": {},
   "outputs": [],
   "source": [
    "import numpy as np\n",
    "import math \n",
    "from qiskit import(\n",
    "  QuantumCircuit,\n",
    "  execute,\n",
    "  Aer)\n",
    "from qiskit import *\n",
    "from qiskit.visualization import *\n",
    "import matplotlib as pyplot\n",
    "# Use Aer's qasm_simulator\n",
    "backend = BasicAer.get_backend('statevector_simulator')\n",
    "simulator = Aer.get_backend('qasm_simulator') \n",
    "# Use Aer's qasm_simulator"
   ]
  },
  {
   "cell_type": "code",
   "execution_count": 2,
   "metadata": {},
   "outputs": [
    {
     "name": "stdout",
     "output_type": "stream",
     "text": [
      "{'01': 24886, '00': 24966, '10': 25122, '11': 25026}\n"
     ]
    }
   ],
   "source": [
    "q = QuantumRegister(2)\n",
    "c = ClassicalRegister(2)\n",
    "Circuit = QuantumCircuit(q, c)\n",
    "\n",
    "Circuit.h(q[0])\n",
    "Circuit.cx(q[0], q[1])\n",
    "Circuit.x(q[0])\n",
    "Circuit.z(q[1])\n",
    "\n",
    "job1 = execute(Circuit, backend) \n",
    "result = job1.result() \n",
    "\n",
    "Circuit.ry(math.pi/2, q[0])\n",
    "Circuit.rx(math.pi/2,q[1])\n",
    "\n",
    "Circuit.measure(q, c)\n",
    "                                                                                                                                                                                                                                                                                                             \n",
    "job = execute(Circuit, simulator, shots=100000)\n",
    "\n",
    "result = job.result()\n",
    "\n",
    "counts = result.get_counts(Circuit)\n",
    "\n",
    "print(counts)"
   ]
  },
  {
   "cell_type": "markdown",
   "metadata": {},
   "source": [
    "Mathematically, we calcualted the expectation value for any product state by applying the Pauli matrices for the respective components to the singlet/triplet states. Then, we found the inner product of the result with the bra of the singlet or triplet state. \n",
    "\n",
    "The expectation value of the product of the x-component of the first qubit and the y-component of the second qubit is calculated to be zero. The results of this simulation give an equal distribution of 01, 11, 10, 00. Two of these give a product of -1 (10 and 01) and the other two give a product of 1 (11 and 00). The average of these products is zero, which matches the calculations.  "
   ]
  },
  {
   "cell_type": "code",
   "execution_count": 3,
   "metadata": {},
   "outputs": [
    {
     "name": "stdout",
     "output_type": "stream",
     "text": [
      "{'10': 49839, '01': 50161}\n"
     ]
    }
   ],
   "source": [
    "q = QuantumRegister(2)\n",
    "c = ClassicalRegister(2)\n",
    "\n",
    "Circuit = QuantumCircuit(q, c)\n",
    "\n",
    "Circuit.h(q[0])\n",
    "Circuit.cx(q[0], q[1])\n",
    "Circuit.x(q[0])\n",
    "Circuit.z(q[1])\n",
    "\n",
    "Circuit.ry(math.pi/2, q)\n",
    "\n",
    "Circuit.measure(q[0], c[0])\n",
    "Circuit.measure(q[1], c[1])\n",
    "\n",
    "job = execute(Circuit, simulator, shots=100000)\n",
    "\n",
    "result = job.result()\n",
    "\n",
    "counts = result.get_counts(Circuit)\n",
    "\n",
    "print(counts)"
   ]
  },
  {
   "cell_type": "markdown",
   "metadata": {},
   "source": [
    "This time, the expectation value for the product of the first qubit's x-component and the second qubit's x-component is calculated to be -1, which works given the experimental results.  Half of the measurement results are 1 and -1 and the other half are 1 and -1. "
   ]
  },
  {
   "cell_type": "code",
   "execution_count": 4,
   "metadata": {},
   "outputs": [
    {
     "name": "stdout",
     "output_type": "stream",
     "text": [
      "{'10': 50059, '01': 49941}\n"
     ]
    }
   ],
   "source": [
    "q = QuantumRegister(2)\n",
    "c = ClassicalRegister(2)\n",
    "Circuit = QuantumCircuit(q, c)\n",
    "\n",
    "Circuit.h(q[0])\n",
    "Circuit.cx(q[0], q[1])\n",
    "Circuit.x(q[0])\n",
    "Circuit.z(q[1])\n",
    "\n",
    "Circuit.rx(math.pi/2, q)\n",
    "\n",
    "Circuit.measure(q, c)\n",
    "                                                                                                                                                                                                                                                                                                            \n",
    "job = execute(Circuit, simulator, shots=100000)\n",
    "\n",
    "result = job.result()\n",
    "\n",
    "counts = result.get_counts(Circuit)\n",
    "\n",
    "print(counts)"
   ]
  },
  {
   "cell_type": "markdown",
   "metadata": {},
   "source": [
    "This time, the expectation value for the product of the first qubit's y-component and the second qubit's y-component is calculated to be -1, which works given the experimental results.  Half of the measurement results are 1 and -1 and the other half are 1 and -1, which both have a product of -1. "
   ]
  },
  {
   "cell_type": "code",
   "execution_count": 5,
   "metadata": {},
   "outputs": [
    {
     "name": "stdout",
     "output_type": "stream",
     "text": [
      "{'10': 49720, '01': 50280}\n"
     ]
    }
   ],
   "source": [
    "q = QuantumRegister(2)\n",
    "c = ClassicalRegister(2)\n",
    "\n",
    "Circuit = QuantumCircuit(q, c)\n",
    "\n",
    "Circuit.h(q[0])\n",
    "Circuit.cx(q[0], q[1])\n",
    "Circuit.x(q[0])\n",
    "Circuit.z(q[1])\n",
    "\n",
    "Circuit.measure(q[0], c[0])\n",
    "Circuit.measure(q[1], c[1])\n",
    "                                                                                                                                                                                                                                                                                                             \n",
    "job = execute(Circuit, simulator, shots=100000)\n",
    "\n",
    "result = job.result()\n",
    "\n",
    "counts = result.get_counts(Circuit)\n",
    "\n",
    "print(counts)"
   ]
  },
  {
   "cell_type": "markdown",
   "metadata": {},
   "source": [
    "This time, the expectation value for the product of the first qubit's z-component and the second qubit's z-component is calculated to be -1, which works given the experimental results.  Half of the measurement results are 1 and -1 and the other half are -1 and 1, which both have a product of -1. "
   ]
  }
 ],
 "metadata": {
  "kernelspec": {
   "display_name": "Python 3",
   "language": "python",
   "name": "python3"
  },
  "language_info": {
   "codemirror_mode": {
    "name": "ipython",
    "version": 3
   },
   "file_extension": ".py",
   "mimetype": "text/x-python",
   "name": "python",
   "nbconvert_exporter": "python",
   "pygments_lexer": "ipython3",
   "version": "3.7.3"
  }
 },
 "nbformat": 4,
 "nbformat_minor": 2
}
