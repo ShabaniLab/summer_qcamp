{
 "cells": [
  {
   "cell_type": "code",
   "execution_count": 5,
   "metadata": {},
   "outputs": [],
   "source": [
    "import numpy as np\n",
    "from qiskit import *\n",
    "from qiskit.visualization import *\n",
    "import math\n",
    "import matplotlib as mpl"
   ]
  },
  {
   "cell_type": "code",
   "execution_count": 6,
   "metadata": {},
   "outputs": [],
   "source": [
    "backend = BasicAer.get_backend('statevector_simulator') # the device to run on\n",
    "simulator = Aer.get_backend('qasm_simulator')\n",
    "\n",
    "q0 = QuantumRegister(2)\n",
    "c0 = ClassicalRegister(2)\n",
    "q1 = QuantumRegister(2)\n",
    "c1 = ClassicalRegister(2)\n",
    "\n",
    "circuitS = QuantumCircuit(q0, c0)\n",
    "circuitT = QuantumCircuit(q1, c1)"
   ]
  },
  {
   "cell_type": "code",
   "execution_count": 7,
   "metadata": {},
   "outputs": [],
   "source": [
    "def findState(circuit):\n",
    "    job = execute(circuit, backend)\n",
    "    result = job.result()\n",
    "    #counts = result.get_counts(circuit)\n",
    "    psi = result.get_statevector(circuit)\n",
    "    return psi\n",
    "    #plot_state_city(psi)"
   ]
  },
  {
   "cell_type": "code",
   "execution_count": 8,
   "metadata": {},
   "outputs": [
    {
     "data": {
      "text/plain": [
       "'Singlet state'"
      ]
     },
     "execution_count": 8,
     "metadata": {},
     "output_type": "execute_result"
    }
   ],
   "source": [
    "#Creating the singlet state\n",
    "circuitS.x(0)\n",
    "circuitS.x(1)\n",
    "circuitS.h(1)\n",
    "circuitS.cx(q0[1], q0[0])\n",
    "\n",
    "#Creating the triplet state\n",
    "circuitT.h(1)\n",
    "circuitT.x(0)\n",
    "circuitT.cx(q1[1], q1[0])\n",
    "#print(\"Triplet state 1: \", findState(circuitT0))\n",
    "\n",
    "#Getting the y components of both states\n",
    "circuitS.rx(np.pi/2, 0)\n",
    "circuitS.rx(np.pi/2, 1)\n",
    "circuitT.rx(np.pi/2, 0)\n",
    "circuitT.rx(np.pi/2, 1)\n",
    "\n",
    "circuitT.measure(q1, c1)\n",
    "circuitS.measure(q0, c0)\n",
    "\n",
    "\n",
    "def stateType(circuit):\n",
    "    job = execute(circuit, backend = Aer.get_backend('qasm_simulator'), shots = 1)\n",
    "    counts = job.result().get_counts(circuit)\n",
    "    if(list(counts.keys())[0] == '00' or list(counts.keys())[0] == '11'):\n",
    "        return \"Triplet state\"\n",
    "    else:\n",
    "        return \"Singlet state\"\n",
    "    \n",
    "stateType(circuitS)"
   ]
  }
 ],
 "metadata": {
  "kernelspec": {
   "display_name": "Python 3",
   "language": "python",
   "name": "python3"
  },
  "language_info": {
   "codemirror_mode": {
    "name": "ipython",
    "version": 3
   },
   "file_extension": ".py",
   "mimetype": "text/x-python",
   "name": "python",
   "nbconvert_exporter": "python",
   "pygments_lexer": "ipython3",
   "version": "3.7.3"
  }
 },
 "nbformat": 4,
 "nbformat_minor": 2
}
