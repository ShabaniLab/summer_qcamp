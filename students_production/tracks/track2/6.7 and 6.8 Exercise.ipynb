{
 "cells": [
  {
   "cell_type": "code",
   "execution_count": 1,
   "metadata": {
    "scrolled": true
   },
   "outputs": [],
   "source": [
    "import numpy as np\n",
    "from qiskit import *\n",
    "from qiskit.visualization import *\n",
    "from copy import deepcopy\n",
    "import math\n",
    "import matplotlib as mpl"
   ]
  },
  {
   "cell_type": "code",
   "execution_count": 2,
   "metadata": {},
   "outputs": [],
   "source": [
    "backend = BasicAer.get_backend('statevector_simulator') # the device to run on\n",
    "simulator = Aer.get_backend('qasm_simulator')\n",
    "\n",
    "q0 = QuantumRegister(2)\n",
    "c0 = ClassicalRegister(2)\n",
    "q1 = QuantumRegister(2)\n",
    "c1 = ClassicalRegister(2)\n",
    "q2 = QuantumRegister(2)\n",
    "c2 = ClassicalRegister(2)\n",
    "\n",
    "\n",
    "circuitT0 = QuantumCircuit(q0, c0)\n",
    "circuitT1 = QuantumCircuit(q1, c1)\n",
    "circuitT2 = QuantumCircuit(q2, c2)"
   ]
  },
  {
   "cell_type": "code",
   "execution_count": 3,
   "metadata": {},
   "outputs": [],
   "source": [
    "def findState(circuit):\n",
    "    job = execute(circuit, backend)\n",
    "    result = job.result()\n",
    "    #counts = result.get_counts(circuit)\n",
    "    psi = result.get_statevector(circuit)\n",
    "    return psi\n",
    "    #plot_state_city(psi)"
   ]
  },
  {
   "cell_type": "code",
   "execution_count": 4,
   "metadata": {},
   "outputs": [],
   "source": [
    "def getExpectValue(circ):\n",
    "    #Creating x, y, and z circuits\n",
    "    circuitZ = deepcopy(circ)\n",
    "    circuitX = deepcopy(circ)\n",
    "    circuitY = deepcopy(circ)\n",
    "\n",
    "    #applying x, y, and z gates\n",
    "    \n",
    "    circuitZ.z(1)\n",
    "    circuitZ.z(0)\n",
    "    circuitX.x(1)\n",
    "    circuitX.x(0)\n",
    "    circuitY.y(1)\n",
    "    circuitY.y(0)\n",
    "    \n",
    "    TZ = circuitZ\n",
    "    print(\"Expectation value of triplet state z: \", round(np.transpose(findState(deepcopy(circ)))@findState(TZ)))\n",
    "    TX = circuitX\n",
    "    print(\"Expectation value of triplet state x: \", round(np.transpose(findState(deepcopy(circ)))@findState(TX)))\n",
    "    TY = circuitY\n",
    "    print(\"Expectation value of triplet state y: \", round(np.transpose(findState(deepcopy(circ)))@findState(TY)))"
   ]
  },
  {
   "cell_type": "code",
   "execution_count": 5,
   "metadata": {},
   "outputs": [
    {
     "name": "stdout",
     "output_type": "stream",
     "text": [
      "Triplet state 1:  [0.        +0.j 0.70710678+0.j 0.70710678+0.j 0.        +0.j]\n",
      "Triplet state 2:  [0.70710678+0.j 0.        +0.j 0.        +0.j 0.70710678+0.j]\n",
      "Triplet state 3:  [ 0.70710678+0.j  0.        +0.j  0.        +0.j -0.70710678+0.j]\n"
     ]
    }
   ],
   "source": [
    "#Creating the triplet states\n",
    "circuitT0.h(1)\n",
    "circuitT0.x(0)\n",
    "circuitT0.cx(q0[1], q0[0])\n",
    "print(\"Triplet state 1: \", findState(circuitT0))\n",
    "circuitT1.h(1)\n",
    "circuitT1.cx(q1[1], q1[0])\n",
    "print(\"Triplet state 2: \", findState(circuitT1))\n",
    "circuitT2.x(1)\n",
    "circuitT2.h(1)\n",
    "circuitT2.cx(q2[1], q2[0])\n",
    "print(\"Triplet state 3: \", findState(circuitT2))"
   ]
  },
  {
   "cell_type": "markdown",
   "metadata": {},
   "source": [
    "$\\newcommand{\\ket}[1]{\\left|{#1}\\right\\rangle}$\n",
    "$\\newcommand{\\bra}[1]{\\left\\langle{#1}\\right|}$\n",
    "**Three Triplet States:**\n",
    "\n",
    "Triplet state 1: $\\frac{1}{\\sqrt{2}}({\\ket{01} + \\ket{10}})$\n",
    "\n",
    "Triplet state 2: $\\frac{1}{\\sqrt{2}}({\\ket{11} + \\ket{00}})$\n",
    "\n",
    "Triplet state 3: $\\frac{1}{\\sqrt{2}}({\\ket{11} - \\ket{00}})$"
   ]
  },
  {
   "cell_type": "code",
   "execution_count": 6,
   "metadata": {
    "scrolled": true
   },
   "outputs": [
    {
     "name": "stdout",
     "output_type": "stream",
     "text": [
      "Expectation value of triplet state z:  (-1+0j)\n",
      "Expectation value of triplet state x:  (1+0j)\n",
      "Expectation value of triplet state y:  (1+0j)\n"
     ]
    }
   ],
   "source": [
    "#Triplet State 1\n",
    "getExpectValue(circuitT0)"
   ]
  },
  {
   "cell_type": "code",
   "execution_count": 7,
   "metadata": {
    "scrolled": true
   },
   "outputs": [
    {
     "name": "stdout",
     "output_type": "stream",
     "text": [
      "Expectation value of triplet state z:  (1+0j)\n",
      "Expectation value of triplet state x:  (1+0j)\n",
      "Expectation value of triplet state y:  (-1+0j)\n"
     ]
    }
   ],
   "source": [
    "#Triplet State 2\n",
    "getExpectValue(circuitT1)"
   ]
  },
  {
   "cell_type": "code",
   "execution_count": 8,
   "metadata": {},
   "outputs": [
    {
     "name": "stdout",
     "output_type": "stream",
     "text": [
      "Expectation value of triplet state z:  (1+0j)\n",
      "Expectation value of triplet state x:  (-1+0j)\n",
      "Expectation value of triplet state y:  (1+0j)\n"
     ]
    }
   ],
   "source": [
    "#Triplet state 3\n",
    "getExpectValue(circuitT2)"
   ]
  }
 ],
 "metadata": {
  "kernelspec": {
   "display_name": "Python 3",
   "language": "python",
   "name": "python3"
  },
  "language_info": {
   "codemirror_mode": {
    "name": "ipython",
    "version": 3
   },
   "file_extension": ".py",
   "mimetype": "text/x-python",
   "name": "python",
   "nbconvert_exporter": "python",
   "pygments_lexer": "ipython3",
   "version": "3.7.3"
  }
 },
 "nbformat": 4,
 "nbformat_minor": 2
}
