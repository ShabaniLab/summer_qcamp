{
 "cells": [
  {
   "cell_type": "code",
   "execution_count": 1,
   "metadata": {},
   "outputs": [],
   "source": [
    "import numpy as np\n",
    "from math import *\n",
    "from copy import deepcopy\n",
    "from qiskit import *\n",
    "import matplotlib.pyplot as plt"
   ]
  },
  {
   "cell_type": "markdown",
   "metadata": {},
   "source": [
    "Singlet states are states where a linked set of particles have a net angular momentum of zero, or their overall spin quantum number is 0. This result is one spectral line.\n",
    "\n",
    "Triplet states are states where the overall spin quantum number is 1 and this results in three spectral line."
   ]
  },
  {
   "cell_type": "code",
   "execution_count": 2,
   "metadata": {},
   "outputs": [
    {
     "name": "stdout",
     "output_type": "stream",
     "text": [
      "State Vector: [0.        +0.j 0.70710678+0.j 0.70710678+0.j 0.        +0.j]\n"
     ]
    }
   ],
   "source": [
    "#Prepared Triplet 0 state:\n",
    "q = QuantumRegister(2)\n",
    "c = ClassicalRegister(2)\n",
    "circT = QuantumCircuit(q,c)\n",
    "circT.x(0)  #flip second qubit\n",
    "circT.ry(pi/2, 1) #superposes first qubit\n",
    "circT.cx(q[1],q[0])\n",
    "\n",
    "result = execute(circT, backend = BasicAer.get_backend('statevector_simulator')).result()\n",
    "psi = result.get_statevector(circT)\n",
    "print('State Vector:' , psi)"
   ]
  },
  {
   "cell_type": "code",
   "execution_count": 3,
   "metadata": {},
   "outputs": [
    {
     "name": "stdout",
     "output_type": "stream",
     "text": [
      "State Vector: [ 0.        +0.j  0.70710678+0.j -0.70710678+0.j  0.        +0.j]\n"
     ]
    }
   ],
   "source": [
    "#Preparing Singlet State:\n",
    "q = QuantumRegister(2)\n",
    "c = ClassicalRegister(2)\n",
    "\n",
    "circS = QuantumCircuit(q,c)\n",
    "circS.x(0)  #flip second qubit\n",
    "circS.ry(-pi/2, 1) #superposes first qubit\n",
    "circS.cx(q[1],q[0])\n",
    "\n",
    "result = execute(circS, backend = BasicAer.get_backend('statevector_simulator')).result()\n",
    "psi = result.get_statevector(circS)\n",
    "print('State Vector:' , psi)"
   ]
  },
  {
   "cell_type": "markdown",
   "metadata": {},
   "source": [
    "$\\newcommand{\\ket}[1]{\\left|{#1}\\right\\rangle}\n",
    "\\newcommand{\\bra}[1]{\\left\\langle{#1}\\right|}$\n",
    "In order to differentiate the singlet state, $\\ket{S} = \\frac{1}{\\sqrt{2}}(\\ket{01} - \\ket{10})$, and triplet 0 state, $\\ket{T_{1}} = \\frac{1}{\\sqrt{2}}({\\ket{01} + \\ket{10}})$, we wrote a function that takes in a circuit and prints whether the circuit was in a singlet or triplet state.\n",
    "\n",
    "We also realized that this function works for differentiating $\\ket{T_{3}} =\\frac{1}{\\sqrt{2}}({\\ket{11} + \\ket{00}})$ but does not work for $\\ket{T_{2}} = \\frac{1}{\\sqrt{2}}({\\ket{11} - \\ket{00}})$ because that would require two measurements."
   ]
  },
  {
   "cell_type": "code",
   "execution_count": 4,
   "metadata": {},
   "outputs": [
    {
     "name": "stdout",
     "output_type": "stream",
     "text": [
      "Singlet State\n",
      "Triplet State\n"
     ]
    }
   ],
   "source": [
    "def singletOrTriplet(circ):\n",
    "    meas = deepcopy(circ)\n",
    "    meas.ry(-pi/2, 1)\n",
    "    meas.ry(-pi/2, 0)\n",
    "    meas.measure([0,1], [0,1])\n",
    "\n",
    "    shots = 1\n",
    "    job = execute(meas, backend = Aer.get_backend('qasm_simulator'), shots = shots)\n",
    "    counts = job.result().get_counts(meas)\n",
    "    state = list(counts.keys())[0]\n",
    "    if state[0] == state[1]:\n",
    "        print('Triplet State')\n",
    "    else:\n",
    "        print('Singlet State')\n",
    "        \n",
    "singletOrTriplet(circS)\n",
    "singletOrTriplet(circT)"
   ]
  },
  {
   "cell_type": "markdown",
   "metadata": {},
   "source": [
    "***State of 2-qubit system:***\n",
    "$\\newcommand{\\ket}[1]{\\left|{#1}\\right\\rangle}\n",
    "\\newcommand{\\bra}[1]{\\left\\langle{#1}\\right|}$\n",
    "\n",
    "To characterize the state of a 2-qubit system, we would have to find every component of the state vector or the density matrix.\n",
    "\n",
    "For any 2-qubit system we have the following equation under the standard basis:\n",
    "$$\\ket{\\psi} = \\alpha_{1}\\ket{00} + \\alpha_{2}\\ket{01} + \\alpha_{3}\\ket{10} + \\alpha_{4}\\ket{11}$$\n",
    "where the state vector is:\n",
    "$$\\ket{\\psi} =\\begin{bmatrix}   \n",
    "             \\alpha_{1}\\\\\n",
    "             \\alpha_{2} \\\\\n",
    "             \\alpha_{3} \\\\\n",
    "             \\alpha_{4} \n",
    "             \\end{bmatrix}$$\n",
    "For a two-qubit system, there will be four complex components to find in the state vector. The way this can be done is by rotating the measurement basis so that you measure the qubits along each basis vector. \n",
    "\n",
    "However, it will not always be possible to have complete knowledge of the state, so we can use the density matrix. The density matrix represents the lack of knowledge about the state of a qubit by including all the possible measurement outcomes. This is shown explicitly by:\n",
    "$$\\rho = \\Sigma_{i} p_{i}\\ket{\\psi_{i}}\\bra{\\psi_{i}}$$\n",
    "\n",
    "For a single state, the density matrix represents the maximum amount of knowledge one can have of the state.\n",
    "\n",
    "For example the density matrix of $\\ket{1}$ is:\n",
    "$$\\rho = \\ket{1}\\bra{1} = \\begin{bmatrix}   \n",
    "             0\\\\\n",
    "             1\n",
    "             \\end{bmatrix}\\begin{bmatrix}   \n",
    "             0&&1\n",
    "             \\end{bmatrix} = \\begin{bmatrix}   \n",
    "                             0&&0\\\\\n",
    "                             0&&1\n",
    "                             \\end{bmatrix}$$\n",
    "\n",
    "Generally, the density matrix will have a mixture of several projection operators, which represent a mixed state. Projection operators can be thought of as taking an arbitrary mixed state and finding its components of the pure states.\n",
    "\n",
    "A pure diagonal density matrix with equal matrix elements on the diagonal is referred to as a \"completely mixed state\". \n",
    "\n",
    "The nondiagonal elements of the matrix represent whether the qubits are in a superposition.\n",
    "\n",
    "The density matrix must have the following properties:\n",
    "\n",
    "   - $Tr(\\rho) = 1$ (Values along the diagonal are real)\n",
    "\n",
    "   - The eigenvalues of the density matrix are positive and lie between 0 and 1. (When $\\lambda = 1$, the vector is along one of the basis vectors with 100% probability.) \n",
    "   \n",
    "   - Eigenvalues are the expectation values of the different states.\n",
    "\n",
    "   - Since the matrix is Hermtian the triangular components are complex conjugates of each other.\n",
    "   \n",
    "   - For a pure state: \n",
    "   $$\\rho^{2} = \\rho$$\n",
    "   $$Tr(\\rho^{2}) = 1$$\n",
    "   \n",
    "   - For a mixed or entangled state:\n",
    "   $$\\rho^{2} \\neq \\rho$$\n",
    "   $$Tr(\\rho^{2}) < 1$$\n",
    "   \n",
    "For a two-qubit system we have the following density matrix:\n",
    "$$\\begin{bmatrix}   \n",
    "             a_{0}&&(b_{0}+b_{1}i)&&(c_{0}+c_{1}i)&&(d_{0}+d_{1}i)\\\\\n",
    "             (b_{0}-b_{1}i)&&a_{1}&&(e_{0}+e_{1}i)&&(f_{0}+f_{1}i) \\\\\n",
    "             (c_{0}-c_{1}i)&&(e_{0}-e_{1}i)&&a_{2}&&(g_{0}+g_{1}i) \\\\\n",
    "             (d_{0}-d_{1}i)&&(f_{0}-f_{1}i)&&(g_{0}-g_{1}i)&& a_{3} \n",
    "             \\end{bmatrix}$$\n",
    "Considering these properties of the density matrix, we have 15 unknown parameters. Quantum State Tomography can be used to find these unknown parameters and construct the density matrix.\n",
    "\n",
    "The number of parameters goes as $4^{n} - 1$ where n is the number of qubits."
   ]
  }
 ],
 "metadata": {
  "kernelspec": {
   "display_name": "Python 3",
   "language": "python",
   "name": "python3"
  },
  "language_info": {
   "codemirror_mode": {
    "name": "ipython",
    "version": 3
   },
   "file_extension": ".py",
   "mimetype": "text/x-python",
   "name": "python",
   "nbconvert_exporter": "python",
   "pygments_lexer": "ipython3",
   "version": "3.7.3"
  }
 },
 "nbformat": 4,
 "nbformat_minor": 2
}
