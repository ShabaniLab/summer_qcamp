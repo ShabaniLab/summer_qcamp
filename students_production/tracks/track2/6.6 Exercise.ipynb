{
 "cells": [
  {
   "cell_type": "markdown",
   "metadata": {},
   "source": [
    "• Assume Charlie has prepared the two spins in the singlet state. This time, Bob measures τy and Alice measures σx. What is the expectation value of σxτy?\n",
    "\n",
    "• What does this say about the correlation between the two measurements?"
   ]
  },
  {
   "cell_type": "code",
   "execution_count": 2,
   "metadata": {},
   "outputs": [],
   "source": [
    "import numpy as np\n",
    "from qiskit import *\n",
    "from qiskit.visualization import *\n",
    "import math\n",
    "import matplotlib as mpl"
   ]
  },
  {
   "cell_type": "code",
   "execution_count": 3,
   "metadata": {},
   "outputs": [],
   "source": [
    "backend = BasicAer.get_backend('statevector_simulator') # the device to run on\n",
    "simulator = Aer.get_backend('qasm_simulator')\n",
    "\n",
    "q = QuantumRegister(2)\n",
    "c = ClassicalRegister(2)\n",
    "\n",
    "circuit0 = QuantumCircuit(q, c)"
   ]
  },
  {
   "cell_type": "code",
   "execution_count": 4,
   "metadata": {},
   "outputs": [
    {
     "data": {
      "text/plain": [
       "<qiskit.extensions.standard.cx.CnotGate at 0x1a1fe01518>"
      ]
     },
     "execution_count": 4,
     "metadata": {},
     "output_type": "execute_result"
    }
   ],
   "source": [
    "#Creating the singlet state\n",
    "\n",
    "circuit0.x(0)\n",
    "circuit0.x(1)\n",
    "circuit0.h(1)\n",
    "\n",
    "\n",
    "circuit0.cx(q[1], q[0])\n",
    "\n",
    "# circuit.h(0)\n",
    "# circuit.rx(np.pi/2, q[1])\n",
    "# circuit.rx(-np.pi/2, q[1])"
   ]
  },
  {
   "cell_type": "code",
   "execution_count": 5,
   "metadata": {
    "scrolled": false
   },
   "outputs": [
    {
     "data": {
      "text/html": [
       "\n",
       "    <p>\n",
       "        <div id=\"content_1562853428960971\" style=\"position: absolute; z-index: 1;\">\n",
       "            <div id=\"cities_1562853428960971\"></div>\n",
       "        </div>\n",
       "    </p>\n",
       "    \n",
       "    <script>\n",
       "        requirejs.config({\n",
       "            paths: {\n",
       "                qVisualization: \"https://qvisualization.mybluemix.net/q-visualizations\"\n",
       "            }\n",
       "        });\n",
       "\n",
       "        require([\"qVisualization\"], function(qVisualizations) {\n",
       "            data = {\n",
       "                real: [[0.0, 0.0, 0.0, 0.0], [0.0, 0.4999999999999999, -0.5, 0.0], [0.0, -0.5, 0.5000000000000001, 0.0], [0.0, 0.0, 0.0, 0.0]],\n",
       "                titleReal: \"Real.[rho]\",\n",
       "                imaginary: [[0.0, 0.0, -0.0, 0.0], [0.0, 0.0, -0.0, 0.0], [0.0, 0.0, 0.0, 0.0], [0.0, 0.0, -0.0, 0.0]],\n",
       "                titleImaginary: \"Im.[rho]\",\n",
       "                qbits: 4\n",
       "            };\n",
       "            qVisualizations.plotState(\"cities_1562853428960971\",\n",
       "                                      \"cities\",\n",
       "                                      data,\n",
       "                                      {});\n",
       "        });\n",
       "    </script>\n",
       "    "
      ],
      "text/plain": [
       "<IPython.core.display.HTML object>"
      ]
     },
     "metadata": {},
     "output_type": "display_data"
    }
   ],
   "source": [
    "job0 = execute(circuit0, backend)\n",
    "result0 = job0.result()\n",
    "#counts = result.get_counts(circuit)\n",
    "psi0 = result0.get_statevector(circuit0)\n",
    "iplot_state_city(psi0)"
   ]
  },
  {
   "cell_type": "code",
   "execution_count": 6,
   "metadata": {
    "scrolled": true
   },
   "outputs": [
    {
     "name": "stdout",
     "output_type": "stream",
     "text": [
      "{'00': 1}\n",
      "State of singlet state:  [ 0.        +0.j  0.70710678+0.j -0.70710678+0.j  0.        +0.j]\n",
      "State of new vector:  [0.+0.j         0.-0.70710678j 0.-0.70710678j 0.+0.j        ]\n",
      "Expectation value,  0j\n"
     ]
    }
   ],
   "source": [
    "q1 = QuantumRegister(2)\n",
    "c1 = ClassicalRegister(2)\n",
    "circuit1 = QuantumCircuit(q1, c1)\n",
    "circuit1.x(0)\n",
    "circuit1.x(1)\n",
    "circuit1.h(1)\n",
    "circuit1.cx(q1[1], q1[0])\n",
    "\n",
    "circuit1.y(0)\n",
    "circuit1.x(1)\n",
    "\n",
    "\n",
    "\n",
    "job1 = execute(circuit1, backend)\n",
    "result1 = job1.result()\n",
    "psi1 = result1.get_statevector(circuit1)\n",
    "counts = result1.get_counts(circuit1)\n",
    "\n",
    "print(counts)\n",
    "print(\"State of singlet state: \", psi0)\n",
    "print(\"State of new vector: \", psi1)\n",
    "\n",
    "\n",
    "print(\"Expectation value, \", np.transpose(psi0)@psi1)"
   ]
  },
  {
   "cell_type": "code",
   "execution_count": null,
   "metadata": {},
   "outputs": [],
   "source": []
  },
  {
   "cell_type": "raw",
   "metadata": {},
   "source": []
  }
 ],
 "metadata": {
  "kernelspec": {
   "display_name": "Python 3",
   "language": "python",
   "name": "python3"
  },
  "language_info": {
   "codemirror_mode": {
    "name": "ipython",
    "version": 3
   },
   "file_extension": ".py",
   "mimetype": "text/x-python",
   "name": "python",
   "nbconvert_exporter": "python",
   "pygments_lexer": "ipython3",
   "version": "3.7.3"
  }
 },
 "nbformat": 4,
 "nbformat_minor": 2
}
