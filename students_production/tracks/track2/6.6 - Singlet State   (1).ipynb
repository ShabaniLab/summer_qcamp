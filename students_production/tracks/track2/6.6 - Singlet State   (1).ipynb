{
 "cells": [
  {
   "cell_type": "code",
   "execution_count": 3,
   "metadata": {},
   "outputs": [],
   "source": [
    "import numpy as np\n",
    "import math \n",
    "from qiskit import(\n",
    "  QuantumCircuit,\n",
    "  execute,\n",
    "  Aer)\n",
    "from qiskit import *\n",
    "from qiskit.visualization import *\n",
    "import matplotlib as pyplot\n",
    "# Use Aer's qasm_simulator\n",
    "backend = BasicAer.get_backend('statevector_simulator')\n",
    "simulator = Aer.get_backend('qasm_simulator') \n",
    "# Use Aer's qasm_simulator\n",
    "\n",
    "q = QuantumRegister(2)\n",
    "c = ClassicalRegister(2)\n",
    "Circuit2 = QuantumCircuit(q, c)\n",
    "\n",
    "\n",
    "\n",
    "\n"
   ]
  },
  {
   "cell_type": "code",
   "execution_count": 5,
   "metadata": {},
   "outputs": [
    {
     "name": "stdout",
     "output_type": "stream",
     "text": [
      "[ 0.        +0.j  0.70710678+0.j -0.70710678+0.j  0.        +0.j]\n",
      "{'01': 25186, '10': 24978, '00': 24889, '11': 24947}\n"
     ]
    }
   ],
   "source": [
    "q = QuantumRegister(2)\n",
    "c = ClassicalRegister(2)\n",
    "Circuit3 = QuantumCircuit(q, c)\n",
    "\n",
    "\n",
    "Circuit3.h(q[0])\n",
    "Circuit3.cx(q[0], q[1])\n",
    "Circuit3.x(q[0])\n",
    "Circuit3.z(q[1])\n",
    "\n",
    "job1 = execute(Circuit3, backend) \n",
    "result = job1.result() \n",
    "print(result.get_statevector(Circuit3))\n",
    "\n",
    "Circuit3.ry(math.pi/2, q[0])\n",
    "Circuit3.rx(math.pi/2,q[1])\n",
    "\n",
    "Circuit3.measure(q, c)\n",
    "\n",
    "\n",
    "\n",
    "                                                                                                                                                                                                                                                                                                                \n",
    "job = execute(Circuit3, simulator, shots=100000)\n",
    "\n",
    "\n",
    "result = job.result()\n",
    "\n",
    "counts = result.get_counts(Circuit3)\n",
    "\n",
    "print(counts)\n",
    "\n"
   ]
  },
  {
   "cell_type": "markdown",
   "metadata": {},
   "source": [
    " The results of this simulation give an equal distribution of 01, 11, 10, 00. Two of these give a product of -1 and the other two give a product of 1. The average product is thus 0. "
   ]
  },
  {
   "cell_type": "code",
   "execution_count": 6,
   "metadata": {},
   "outputs": [
    {
     "name": "stdout",
     "output_type": "stream",
     "text": [
      "{'01': 49700, '10': 50300}\n"
     ]
    }
   ],
   "source": [
    "q = QuantumRegister(2)\n",
    "c = ClassicalRegister(2)\n",
    "Circuit4 = QuantumCircuit(q, c)\n",
    "\n",
    "\n",
    "Circuit4.h(q[0])\n",
    "Circuit4.cx(q[0], q[1])\n",
    "Circuit4.x(q[0])\n",
    "Circuit4.z(q[1])\n",
    "\n",
    "Circuit4.rx(math.pi/2, q)\n",
    "\n",
    "Circuit4.measure(q, c)\n",
    "                                                                                                                                                                                                                                                                                                            \n",
    "  \n",
    "job = execute(Circuit4, simulator, shots=100000)\n",
    "\n",
    "\n",
    "\n",
    "result = job.result()\n",
    "\n",
    "counts = result.get_counts(Circuit4)\n",
    "\n",
    "print(counts)\n",
    "\n",
    "\n"
   ]
  },
  {
   "cell_type": "markdown",
   "metadata": {},
   "source": [
    "Half of the results give a product of 1 * -1 = -1, and the other half of the results give a component product of -1 * 1 = -1. Therefore, it suffices to say that indeed the average product of the y-components is -1. "
   ]
  },
  {
   "cell_type": "code",
   "execution_count": 7,
   "metadata": {},
   "outputs": [
    {
     "name": "stdout",
     "output_type": "stream",
     "text": [
      "{'01': 50122, '10': 49878}\n"
     ]
    }
   ],
   "source": [
    "q = QuantumRegister(2)\n",
    "c = ClassicalRegister(2)\n",
    "\n",
    "Circuit9 = QuantumCircuit(q, c)\n",
    "\n",
    "Circuit9.h(q[0])\n",
    "Circuit9.cx(q[0], q[1])\n",
    "Circuit9.x(q[0])\n",
    "Circuit9.z(q[1])\n",
    "\n",
    "\n",
    "Circuit9.measure(q[0], c[0])\n",
    "Circuit9.measure(q[1], c[1])\n",
    "\n",
    "                                                                                                                                                                                                                                                                                                                 \n",
    "job = execute(Circuit9, simulator, shots=100000)\n",
    "\n",
    "\n",
    "result = job.result()\n",
    "\n",
    "counts = result.get_counts(Circuit9)\n",
    "\n",
    "print(counts)"
   ]
  },
  {
   "cell_type": "markdown",
   "metadata": {},
   "source": [
    "Here, once again the average product is -1, confirming that the average product of the z-components for a singlet state is -1. "
   ]
  },
  {
   "cell_type": "code",
   "execution_count": 15,
   "metadata": {},
   "outputs": [
    {
     "name": "stdout",
     "output_type": "stream",
     "text": [
      "{'00': 49752, '11': 50248}\n"
     ]
    }
   ],
   "source": [
    "q = QuantumRegister(2)\n",
    "c = ClassicalRegister(2)\n",
    "\n",
    "\n",
    "Circuit5 = QuantumCircuit(q, c)\n",
    "\n",
    "Circuit5.h(q[0])\n",
    "Circuit5.cx(q[0], q[1])\n",
    "Circuit5.x(q[0])\n",
    "Circuit5.z(q[1])\n",
    "\n",
    "Circuit5.ry(math.pi/2, q[0])\n",
    "Circuit5.ry(math.pi/2, q[0])\n",
    "\n",
    "Circuit5.measure(q[0], c[0])\n",
    "Circuit5.measure(q[1], c[1])\n",
    "\n",
    "\n",
    "  \n",
    "job = execute(Circuit5, simulator, shots=100000)\n",
    "\n",
    "\n",
    "result = job.result()\n",
    "\n",
    "counts = result.get_counts(Circuit5)\n",
    "\n",
    "print(counts)\n",
    "\n"
   ]
  },
  {
   "cell_type": "markdown",
   "metadata": {},
   "source": [
    "THe average product of the x-components is 1. After all, half of them are -1 * -1 = 1 and the other half are 1 * 1 = 1. Overall, then, the average is 1. \n",
    "\n",
    "Mathematically, we calcualted the expectation value for all of the states, by applying the Pauli matrices for the respective components to the singlet or triplet states. Then, we found the inner product of the result with the bra of the singlet or triplet state. "
   ]
  }
 ],
 "metadata": {
  "kernelspec": {
   "display_name": "Python 3",
   "language": "python",
   "name": "python3"
  },
  "language_info": {
   "codemirror_mode": {
    "name": "ipython",
    "version": 3
   },
   "file_extension": ".py",
   "mimetype": "text/x-python",
   "name": "python",
   "nbconvert_exporter": "python",
   "pygments_lexer": "ipython3",
   "version": "3.7.3"
  }
 },
 "nbformat": 4,
 "nbformat_minor": 2
}
