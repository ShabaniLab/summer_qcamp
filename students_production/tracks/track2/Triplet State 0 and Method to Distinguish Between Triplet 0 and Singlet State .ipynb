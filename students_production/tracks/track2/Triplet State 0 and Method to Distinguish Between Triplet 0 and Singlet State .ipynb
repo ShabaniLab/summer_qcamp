{
 "cells": [
  {
   "cell_type": "code",
   "execution_count": 1,
   "metadata": {},
   "outputs": [],
   "source": [
    "import numpy as np\n",
    "import math \n",
    "from qiskit import(\n",
    "  QuantumCircuit,\n",
    "  execute,\n",
    "  Aer)\n",
    "from qiskit import *\n",
    "from qiskit.visualization import *\n",
    "import matplotlib as pyplot\n",
    "# Use Aer's qasm_simulator\n",
    "backend = BasicAer.get_backend('statevector_simulator')\n",
    "simulator = Aer.get_backend('qasm_simulator') \n",
    "\n",
    "# Use Aer's qasm_simulator"
   ]
  },
  {
   "cell_type": "code",
   "execution_count": 2,
   "metadata": {},
   "outputs": [
    {
     "name": "stdout",
     "output_type": "stream",
     "text": [
      "{'00': 50366, '11': 49634}\n"
     ]
    }
   ],
   "source": [
    "q = QuantumRegister(2)\n",
    "c = ClassicalRegister(2)\n",
    "Circuit = QuantumCircuit(q, c)\n",
    "\n",
    "Circuit.h(q[0])\n",
    "Circuit.cx(q[0], q[1])\n",
    "Circuit.x(q[0])\n",
    "\n",
    "#the first triplet state \n",
    "\n",
    "Circuit.ry(math.pi/2,q)\n",
    "\n",
    "#Rotate to measure in the x. \n",
    "\n",
    "Circuit.measure(q,c)\n",
    "\n",
    "job = execute(Circuit, simulator, shots=100000)\n",
    "\n",
    "result = job.result()\n",
    "\n",
    "counts = result.get_counts(Circuit)\n",
    "\n",
    "print(counts)"
   ]
  },
  {
   "cell_type": "markdown",
   "metadata": {},
   "source": [
    "This time, the expectation value for the product of the first qubit's x-component and the second qubit's x-component is calculated to be 1, which works given the experimental results.  Half of the measurement results are 1 and 1 and the other half are -1 and -1, which both have a product of 1. "
   ]
  },
  {
   "cell_type": "code",
   "execution_count": 3,
   "metadata": {},
   "outputs": [
    {
     "name": "stdout",
     "output_type": "stream",
     "text": [
      "{'00': 49861, '11': 50139}\n"
     ]
    }
   ],
   "source": [
    "q = QuantumRegister(2)\n",
    "c = ClassicalRegister(2)\n",
    "Circuit = QuantumCircuit(q, c)\n",
    "\n",
    "Circuit.h(q[0])\n",
    "Circuit.cx(q[0], q[1])\n",
    "Circuit.x(q[0])\n",
    "\n",
    "#the first triplet state \n",
    "\n",
    "Circuit.rx(math.pi/2, q)\n",
    "#Rotate to measure the y. \n",
    "\n",
    "Circuit.measure(q[0], c[0])\n",
    "Circuit.measure(q[1], c[1])\n",
    "\n",
    "job = execute(Circuit, simulator, shots=100000)\n",
    "\n",
    "result = job.result()\n",
    "\n",
    "counts = result.get_counts(Circuit)\n",
    "\n",
    "print(counts)"
   ]
  },
  {
   "cell_type": "markdown",
   "metadata": {},
   "source": [
    "This time, the expectation value for the product of the first qubit's y-component and the second qubit's y-component is calculated to be 1, which works given the experimental results.  Half of the measurement results are 1 and 1 and the other half are -1 and -1, which both have a product of 1. \n",
    "\n",
    "Fortunately, this also gives us the answer to one of the track questions. It is clear that the expectation value of the product of the first qubit's y-component and the second qubit's y-component give different results for the singlet and triplet 0 state. \n",
    "\n",
    "So one simply has to rotate an unknown circuit's two qubits by 90 degrees, and then measure the qubits. You will see that the measurement results are 00 11, or 10 01. \n",
    "\n",
    "This will allow you to immediately ascertain whether it is a singlet or triplet 0 gate. \n",
    "\n",
    "In order words, what we do is that we measure the y-components. According to our calculations the expectation value of the product should be 1 if the state is a triplet 0 state, and -1 if the state is a singlet state."
   ]
  },
  {
   "cell_type": "code",
   "execution_count": 4,
   "metadata": {},
   "outputs": [
    {
     "name": "stdout",
     "output_type": "stream",
     "text": [
      "{'01': 50005, '10': 49995}\n"
     ]
    }
   ],
   "source": [
    "q = QuantumRegister(2)\n",
    "c = ClassicalRegister(2)\n",
    "Circuit = QuantumCircuit(q, c)\n",
    "\n",
    "Circuit.h(q[0])\n",
    "Circuit.cx(q[0], q[1])\n",
    "Circuit.x(q[0])\n",
    "\n",
    "#the first triplet state \n",
    "\n",
    "Circuit.measure(q[0], c[0])\n",
    "Circuit.measure(q[1], c[1])\n",
    "                                                                                                                                                                                                                                                                                                       \n",
    "job = execute(Circuit, simulator, shots=100000)\n",
    "\n",
    "result = job.result()\n",
    "\n",
    "counts = result.get_counts(Circuit)\n",
    "\n",
    "print(counts)"
   ]
  },
  {
   "cell_type": "markdown",
   "metadata": {},
   "source": [
    "This time, the expectation value for the product of the first qubit's z-component and the second qubit's z-component is calculated to be -1, which works given the experimental results.  Half of the measurement results are -1 and 1 and the other half are 1 and -1, which both have a product of -1. "
   ]
  },
  {
   "cell_type": "markdown",
   "metadata": {},
   "source": [
    "OVERALL: The product of the two qubits' x-components is 1, the product of the two qubits' y-components is 1, and the product of the two qubits' z-components is -1.  \n",
    "\n",
    "The expected product of the y-components and the expected product of the x-components are both different from the corresponding product for the triplet state. So to distinguish between the two, just rotate both of the two qubits by 90-degrees along either the x-axis or y-axis before a single measurement. This single measurement allows you to distinguish between Triplet State 0 and a Singlet State. "
   ]
  },
  {
   "cell_type": "code",
   "execution_count": 5,
   "metadata": {},
   "outputs": [],
   "source": [
    "def isTriplet(circuit, classicalReg, register): \n",
    "    \n",
    "    circuit.ry(math.pi/2, register) \n",
    "    circuit.measure(register, classicalReg)\n",
    "    job = execute(circuit, simulator, shots = 1) \n",
    "    result = job.result() \n",
    "    count = result.get_counts(circuit)\n",
    "    if count.get('00', 5) == 5 and count.get('11', 5) == 5 :\n",
    "        return False \n",
    "    else :\n",
    "        return True \n",
    "    \n",
    "#Instantaneously determines whether something is the triplet 0 state, or the singlet state. "
   ]
  },
  {
   "cell_type": "code",
   "execution_count": 6,
   "metadata": {},
   "outputs": [
    {
     "name": "stdout",
     "output_type": "stream",
     "text": [
      "False\n"
     ]
    }
   ],
   "source": [
    "#Tester: We Test the Singlet State here. \n",
    "\n",
    "qr = QuantumRegister(2)\n",
    "cr = ClassicalRegister(2)\n",
    "\n",
    "circ = QuantumCircuit(qr, cr)\n",
    "\n",
    "circ.h(qr[0])\n",
    "circ.cx(qr[0], qr[1])\n",
    "circ.x(qr[0])\n",
    "circ.z(qr[0])\n",
    "\n",
    "print(isTriplet(circ, cr, qr))\n"
   ]
  }
 ],
 "metadata": {
  "kernelspec": {
   "display_name": "Python 3",
   "language": "python",
   "name": "python3"
  },
  "language_info": {
   "codemirror_mode": {
    "name": "ipython",
    "version": 3
   },
   "file_extension": ".py",
   "mimetype": "text/x-python",
   "name": "python",
   "nbconvert_exporter": "python",
   "pygments_lexer": "ipython3",
   "version": "3.7.3"
  }
 },
 "nbformat": 4,
 "nbformat_minor": 2
}
