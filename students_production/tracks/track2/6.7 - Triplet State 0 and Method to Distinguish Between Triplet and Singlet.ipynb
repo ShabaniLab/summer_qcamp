{
 "cells": [
  {
   "cell_type": "code",
   "execution_count": 18,
   "metadata": {},
   "outputs": [
    {
     "name": "stdout",
     "output_type": "stream",
     "text": [
      "{'00': 49697, '11': 50303}\n"
     ]
    }
   ],
   "source": [
    "import numpy as np\n",
    "import math \n",
    "from qiskit import(\n",
    "  QuantumCircuit,\n",
    "  execute,\n",
    "  Aer)\n",
    "from qiskit import *\n",
    "from qiskit.visualization import *\n",
    "import matplotlib as pyplot\n",
    "# Use Aer's qasm_simulator\n",
    "backend = BasicAer.get_backend('statevector_simulator')\n",
    "simulator = Aer.get_backend('qasm_simulator') \n",
    "\n",
    "# Use Aer's qasm_simulator\n",
    "\n",
    "q = QuantumRegister(2)\n",
    "c = ClassicalRegister(2)\n",
    "Circuit2 = QuantumCircuit(q, c)\n",
    "\n",
    "\n",
    "Circuit2.h(q[0])\n",
    "Circuit2.cx(q[0], q[1])\n",
    "Circuit2.x(q[0])\n",
    "\n",
    "#the first triplet state \n",
    "\n",
    "\n",
    "Circuit2.ry(math.pi/2,q)\n",
    "\n",
    "#Rotate to measure in the x. \n",
    "\n",
    "\n",
    "Circuit2.measure(q,c)\n",
    "\n",
    "  \n",
    "job = execute(Circuit2, simulator, shots=100000)\n",
    "\n",
    "\n",
    "result = job.result()\n",
    "\n",
    "counts = result.get_counts(Circuit2)\n",
    "\n",
    "print(counts)\n",
    "\n",
    "\n"
   ]
  },
  {
   "cell_type": "markdown",
   "metadata": {},
   "source": [
    "Calculations render the expectation value to be one. Indeed, it gives one. Half of the spins are -1 * -1, the other half are 1 * 1. They all have a product of one. \n"
   ]
  },
  {
   "cell_type": "code",
   "execution_count": 7,
   "metadata": {},
   "outputs": [
    {
     "name": "stdout",
     "output_type": "stream",
     "text": [
      "{'11': 50227, '00': 49773}\n"
     ]
    }
   ],
   "source": [
    "q = QuantumRegister(2)\n",
    "c = ClassicalRegister(2)\n",
    "Circuit2 = QuantumCircuit(q, c)\n",
    "\n",
    "\n",
    "\n",
    "\n",
    "Circuit2.h(q[0])\n",
    "Circuit2.cx(q[0], q[1])\n",
    "Circuit2.x(q[0])\n",
    "\n",
    "#the first triplet state \n",
    "\n",
    "\n",
    "Circuit2.rx(math.pi/2, q[0])\n",
    "Circuit2.rx(math.pi/2,q[1])\n",
    "\n",
    "#Rotate to measure the y. \n",
    "\n",
    "\n",
    "Circuit2.measure(q[0], c[0])\n",
    "Circuit2.measure(q[1], c[1])\n",
    "\n",
    "\n",
    "\n",
    "  \n",
    "job = execute(Circuit2, simulator, shots=100000)\n",
    "\n",
    "\n",
    "result = job.result()\n",
    "\n",
    "counts = result.get_counts(Circuit2)\n",
    "\n",
    "\n",
    "\n",
    "print(counts)\n"
   ]
  },
  {
   "cell_type": "markdown",
   "metadata": {},
   "source": [
    "Fortunately, this also gives us the answer to one of the track questions. Its clear that the product states sigma y and tau y give different results for the singlet and triplet state. \n",
    "So one simply has to rotate an unknown circuits' two qubits by 90 degrees, and then measure the circuit. You will see that it gives 00 11, or 10 01. \n",
    "This will allow you to immediately ascertain whether it is a singlet or triplet 0 gate. \n",
    "Essentially, what we do is that we measure the y components. According to our calculations the expectation value of the product should be one. Indeed, they are."
   ]
  },
  {
   "cell_type": "code",
   "execution_count": 8,
   "metadata": {},
   "outputs": [
    {
     "name": "stdout",
     "output_type": "stream",
     "text": [
      "{'01': 50338, '10': 49662}\n"
     ]
    }
   ],
   "source": [
    "q = QuantumRegister(2)\n",
    "c = ClassicalRegister(2)\n",
    "Circuit2 = QuantumCircuit(q, c)\n",
    "\n",
    "\n",
    "Circuit2.h(q[0])\n",
    "Circuit2.cx(q[0], q[1])\n",
    "Circuit2.x(q[0])\n",
    "\n",
    "#the first triplet state \n",
    "\n",
    "\n",
    "\n",
    "\n",
    "\n",
    "Circuit2.measure(q[0], c[0])\n",
    "Circuit2.measure(q[1], c[1])\n",
    "\n",
    "\n",
    "                                                                                                                                                                                                                                                                                                        \n",
    "job = execute(Circuit2, simulator, shots=100000)\n",
    "\n",
    "result = job.result()\n",
    "\n",
    "counts = result.get_counts(Circuit2)\n",
    "\n",
    "print(counts)\n",
    "\n",
    "\n"
   ]
  },
  {
   "cell_type": "markdown",
   "metadata": {},
   "source": [
    "This time, the expectation value for the product sigma z tau z is calculated to once again be -1, which works given the experimental results.  Half are -1 and 1 and the other half are 1 and -1. "
   ]
  },
  {
   "cell_type": "markdown",
   "metadata": {},
   "source": [
    "OVERALL: X is 1, Y is 1, and Z is -1.  You realize, that both the expected x and y are different. So just rotate either one before a single measurement and see what happens, and you can distinguish between Triplet State 0 and a Singlet State. "
   ]
  },
  {
   "cell_type": "code",
   "execution_count": 13,
   "metadata": {},
   "outputs": [],
   "source": [
    "def isTriplet(circuit, classicalReg, register): \n",
    "    \n",
    "    circuit.ry(math.pi/2, register) \n",
    "    circuit.measure(register, classicalReg)\n",
    "    job = execute(circuit, simulator, shots = 1) \n",
    "    result = job.result() \n",
    "    count = result.get_counts(circuit)\n",
    "    if count.get('00', 5) == 5 and count.get('11', 5) == 5 :\n",
    "        return False \n",
    "    else :\n",
    "        return True \n",
    "    \n",
    "    \n",
    "    #Instantaneously determines whether something is the triplet 0 state, or the singlet state. "
   ]
  },
  {
   "cell_type": "code",
   "execution_count": 17,
   "metadata": {},
   "outputs": [
    {
     "name": "stdout",
     "output_type": "stream",
     "text": [
      "False\n"
     ]
    }
   ],
   "source": [
    "#Tester We Test the Singlet State here. \n",
    "\n",
    "\n",
    "r = QuantumRegister(2)\n",
    "s = ClassicalRegister(2)\n",
    "\n",
    "n = QuantumCircuit(r, s)\n",
    "\n",
    "n.h(r[0])\n",
    "n.cx(r[0], r[1])\n",
    "n.x(r[0])\n",
    "n.z(r[0])\n",
    "\n",
    "print(isTriplet(n, s, r))"
   ]
  }
 ],
 "metadata": {
  "kernelspec": {
   "display_name": "Python 3",
   "language": "python",
   "name": "python3"
  },
  "language_info": {
   "codemirror_mode": {
    "name": "ipython",
    "version": 3
   },
   "file_extension": ".py",
   "mimetype": "text/x-python",
   "name": "python",
   "nbconvert_exporter": "python",
   "pygments_lexer": "ipython3",
   "version": "3.7.3"
  }
 },
 "nbformat": 4,
 "nbformat_minor": 2
}
