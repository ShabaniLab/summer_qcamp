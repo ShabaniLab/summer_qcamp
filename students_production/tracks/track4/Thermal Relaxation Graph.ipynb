{
 "cells": [
  {
   "cell_type": "code",
   "execution_count": 131,
   "metadata": {
    "scrolled": false
   },
   "outputs": [],
   "source": [
    "import numpy as np\n",
    "from scipy import optimize\n",
    "import matplotlib.pyplot as plt\n",
    "import pylab\n",
    "from scipy.optimize import curve_fit\n",
    "#from matplotlib import *\n",
    "from qiskit import execute, QuantumCircuit, QuantumRegister, ClassicalRegister\n",
    "from qiskit.quantum_info.operators import Kraus, SuperOp\n",
    "from qiskit.providers.aer import QasmSimulator\n",
    "from qiskit.tools.visualization import plot_histogram\n",
    "\n",
    "# Qiskit Aer noise module imports\n",
    "from qiskit import *\n",
    "from qiskit.providers.aer.noise import NoiseModel\n",
    "from qiskit.providers.aer.noise.errors import *"
   ]
  },
  {
   "cell_type": "markdown",
   "metadata": {},
   "source": [
    "**Created function that prepares the initial state of the qubit. In this case we prepare it in the singlet state**"
   ]
  },
  {
   "cell_type": "code",
   "execution_count": null,
   "metadata": {},
   "outputs": [],
   "source": []
  },
  {
   "cell_type": "code",
   "execution_count": 132,
   "metadata": {
    "scrolled": true
   },
   "outputs": [],
   "source": [
    "q = QuantumRegister(1)\n",
    "c = ClassicalRegister(1)\n",
    "circ = QuantumCircuit(q, c)\n",
    "\n",
    "simulator = Aer.get_backend('qasm_simulator')"
   ]
  },
  {
   "cell_type": "markdown",
   "metadata": {},
   "source": [
    "# Thermal Relaxation: "
   ]
  },
  {
   "cell_type": "code",
   "execution_count": 133,
   "metadata": {
    "scrolled": true
   },
   "outputs": [],
   "source": [
    "circ = QuantumCircuit(q, c)\n",
    "circ.x(0)\n",
    "\n",
    "thermalCounts = []\n",
    "timeStep = 50\n",
    "rangeVal = 80\n",
    "for i in range(rangeVal):\n",
    "    # T1 and T2 values for qubits 0-3\n",
    "    T1s = np.random.normal(50e3, 10e3, 4) # Is a bell curve with the center at the first parameter with a distribution of the second parameter\n",
    "    T2s = np.random.normal(70e3, 10e3, 4)  # same thing\n",
    "\n",
    "    # Truncate random T2s <= T1s\n",
    "    T2s = np.array([min(T2s[j], 2 * T1s[j]) for j in range(4)])\n",
    "\n",
    "    # Instruction times (in nanoseconds)\n",
    "    time_u1 = 0   # virtual gate\n",
    "    time_u2 = 50  # (single X90 pulse)\n",
    "    time_u3 = 100 # (two X90 pulses)\n",
    "    time_cx = 300\n",
    "    time_reset = 1000  # 1 microsecond\n",
    "    time_measure = timeStep * i # 1 microsecond # was originally 1000\n",
    "\n",
    "    # QuantumError objects\n",
    "    errors_reset = [thermal_relaxation_error(t1, t2, time_reset)\n",
    "                    for t1, t2 in zip(T1s, T2s)]\n",
    "    errors_measure = [thermal_relaxation_error(t1, t2, time_measure)\n",
    "                      for t1, t2 in zip(T1s, T2s)]\n",
    "    errors_u1  = [thermal_relaxation_error(t1, t2, time_u1)\n",
    "                  for t1, t2 in zip(T1s, T2s)]\n",
    "    errors_u2  = [thermal_relaxation_error(t1, t2, time_u2)\n",
    "                  for t1, t2 in zip(T1s, T2s)]\n",
    "    errors_u3  = [thermal_relaxation_error(t1, t2, time_u3)\n",
    "                  for t1, t2 in zip(T1s, T2s)]\n",
    "    errors_cx = [[thermal_relaxation_error(t1a, t2a, time_cx).expand(\n",
    "                 thermal_relaxation_error(t1b, t2b, time_cx))\n",
    "                  for t1a, t2a in zip(T1s, T2s)]\n",
    "                   for t1b, t2b in zip(T1s, T2s)]\n",
    "\n",
    "    # Add errors to noise model\n",
    "    noise_thermal = NoiseModel()\n",
    "    for j in range(4):\n",
    "        noise_thermal.add_quantum_error(errors_reset[j], \"reset\", [j])\n",
    "        noise_thermal.add_quantum_error(errors_measure[j], \"measure\", [j])\n",
    "        noise_thermal.add_quantum_error(errors_u1[j], \"u1\", [j])\n",
    "        noise_thermal.add_quantum_error(errors_u2[j], \"u2\", [j])\n",
    "        noise_thermal.add_quantum_error(errors_u3[j], \"u3\", [j])\n",
    "        for k in range(4):\n",
    "            noise_thermal.add_quantum_error(errors_cx[j][k], \"cx\", [j, k])\n",
    "    circ.measure(q, c)\n",
    "    #print(noise_thermal)\n",
    "    # Run the noisy simulation\n",
    "    job = execute(circ, simulator,\n",
    "                  basis_gates=noise_thermal.basis_gates,\n",
    "                  noise_model=noise_thermal)\n",
    "    result_thermal = job.result()\n",
    "    counts_thermal = result_thermal.get_counts(0)\n",
    "    # Plot noisy output\n",
    "    #plot_histogram(counts_thermal)\n",
    "    thermalCounts.append(counts_thermal)\n",
    "    plot_histogram(counts_thermal, title=\"Thermal Relaxation Error\")\n",
    "\n",
    "    \n",
    "#print(thermalCounts)\n",
    "#######This will prove the relationship between time waited to measure and the state of the qubit#######\n",
    "xPoints = []\n",
    "yPoints = []\n",
    "for i in range(len(thermalCounts)):\n",
    "    xPoints.append(i*timeStep)\n",
    "    yPoints.append(thermalCounts[i].get('0', 0)/(thermalCounts[i].get('0', 0) + thermalCounts[i].get('1', 0)))\n",
    "\n",
    "# print(xPoints)\n",
    "# print(yPoints)\n",
    "\n"
   ]
  },
  {
   "cell_type": "markdown",
   "metadata": {},
   "source": [
    "**Plotting the temperature-time relationship**\n",
    "\n",
    "As a fun side experiment I decided to plot the influence of temperature relaxation on a single qubit (how close the qubit is to it's 0 or 1 state) after a certian amount of time. Currently it is commented out but before I made a plot that showed that the state would increase quickly to the 0 state and then level off.\n",
    "\n",
    "\n",
    "**Info about the graph**\n",
    "\n",
    "1.0 = |0> state and 0.0 = |1> state\n",
    "\n",
    "Time is measured in microseconds"
   ]
  },
  {
   "cell_type": "code",
   "execution_count": 134,
   "metadata": {},
   "outputs": [],
   "source": [
    "def sigmoid(x, a, b):\n",
    "    return 1.0 / (1.0 + np.exp(-a*(x-b)))"
   ]
  },
  {
   "cell_type": "code",
   "execution_count": 143,
   "metadata": {
    "scrolled": false
   },
   "outputs": [
    {
     "data": {
      "image/png": "[encoded data removed]",
      "text/plain": [
       "<Figure size 432x288 with 1 Axes>"
      ]
     },
     "metadata": {
      "needs_background": "light"
     },
     "output_type": "display_data"
    }
   ],
   "source": [
    "plt.axis([0, rangeVal * timeStep, 0, 1])\n",
    "plt.xlabel('microseconds')\n",
    "plt.ylabel('Probability of being in the |0> state')\n",
    "plt.plot(xPoints, yPoints, \".\")\n",
    "\n",
    "z = np.polyfit(xPoints, yPoints, 3)\n",
    "f = np.poly1d(z)\n",
    "x_new = np.linspace(xPoints[0], xPoints[-1], 50)\n",
    "y_new = f(x_new)\n",
    "\n",
    "\n",
    "plt.plot(xPoints, yPoints,'.', x_new, y_new)\n",
    "plt.xlim([xPoints[0]-1, xPoints[-1] + 1 ])\n",
    "\n",
    "plt.show()"
   ]
  },
  {
   "cell_type": "code",
   "execution_count": null,
   "metadata": {},
   "outputs": [],
   "source": []
  },
  {
   "cell_type": "code",
   "execution_count": null,
   "metadata": {},
   "outputs": [],
   "source": []
  }
 ],
 "metadata": {
  "kernelspec": {
   "display_name": "Python 3",
   "language": "python",
   "name": "python3"
  },
  "language_info": {
   "codemirror_mode": {
    "name": "ipython",
    "version": 3
   },
   "file_extension": ".py",
   "mimetype": "text/x-python",
   "name": "python",
   "nbconvert_exporter": "python",
   "pygments_lexer": "ipython3",
   "version": "3.7.3"
  }
 },
 "nbformat": 4,
 "nbformat_minor": 2
}
