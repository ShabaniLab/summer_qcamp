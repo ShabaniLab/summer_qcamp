{
 "cells": [
  {
   "cell_type": "code",
   "execution_count": 1,
   "metadata": {},
   "outputs": [],
   "source": [
    "import numpy as np\n",
    "from math import pi\n",
    "from qiskit import *\n",
    "from qiskit.quantum_info.operators import Kraus, SuperOp\n",
    "from qiskit.providers.aer import QasmSimulator\n",
    "from qiskit.tools.visualization import plot_histogram\n",
    "\n",
    "# Qiskit Aer noise module imports\n",
    "from qiskit.providers.aer.noise import NoiseModel\n",
    "from qiskit.providers.aer.noise.errors import QuantumError, ReadoutError\n",
    "from qiskit.providers.aer.noise.errors import pauli_error, amplitude_damping_error\n",
    "from qiskit.providers.aer.noise.errors import depolarizing_error, phase_damping_error\n",
    "from qiskit.providers.aer.noise.errors import thermal_relaxation_error"
   ]
  },
  {
   "cell_type": "code",
   "execution_count": 2,
   "metadata": {},
   "outputs": [],
   "source": [
    "def getCounts(circuit,q,c,shots):\n",
    "    job = execute(circuit, backend = Aer.get_backend('qasm_simulator'), shots = shots)\n",
    "    counts = job.result().get_counts(circuit)\n",
    "    return plot_histogram(counts)"
   ]
  },
  {
   "cell_type": "code",
   "execution_count": 3,
   "metadata": {},
   "outputs": [],
   "source": [
    "def prepareState(q,c,pref):\n",
    "    if pref == 'singlet':\n",
    "        circ = QuantumCircuit(q,c)\n",
    "        circ.x(0)\n",
    "        circ.ry(-pi/2,1)\n",
    "        circ.cx(q[1],q[0])\n",
    "        #circ.h(0)\n",
    "        #circ.cx(q[0],q[1])\n",
    "        #circ.x(0)\n",
    "        #circ.z(1)\n",
    "        #circS.measure(q,c)\n",
    "        return circ\n",
    "    elif pref == 'triplet0':\n",
    "        circ = QuantumCircuit(q,c)\n",
    "        circ.x(0)\n",
    "        circ.ry(pi/2,1)\n",
    "        circ.cx(q[1],q[0])\n",
    "        #circ.h(0)\n",
    "        #circ.cx(q[1],q[0])\n",
    "        #circ.x(0)\n",
    "        #circ.z(1)\n",
    "        #circ.measure(q,c)\n",
    "        return circ\n",
    "    else:\n",
    "        circ = QuantumCircuit(q,c)\n",
    "        circ.x(0)\n",
    "        #circ.measure(q,c)\n",
    "        return circ"
   ]
  },
  {
   "cell_type": "markdown",
   "metadata": {},
   "source": [
    "**Simulating Bit-Flip Error:**\n",
    "\n",
    "A bit-flip error is a common type of noise that can occur spontaneously. Below we are simulating a bit-flip error at different stages. For example, when applying a single-qubit gate it would flip the state of the qubit with probability p_gate1, and when applying 2-qubit gates, it would apply single-qubit gates error to each qubit. Lastly, when measuring the qubit, it would flip the state before, with probability p_meas. "
   ]
  },
  {
   "cell_type": "code",
   "execution_count": 4,
   "metadata": {},
   "outputs": [
    {
     "name": "stdout",
     "output_type": "stream",
     "text": [
      "NoiseModel:\n",
      "  Basis gates: ['cx', 'id', 'u1', 'u2', 'u3']\n",
      "  Instructions with noise: ['u2', 'measure', 'u1', 'cx', 'u3']\n",
      "  All-qubits errors: ['measure', 'u1', 'u2', 'u3', 'cx']\n"
     ]
    },
    {
     "data": {
      "image/png": "[encoded data removed]",
      "text/plain": [
       "<Figure size 504x360 with 1 Axes>"
      ]
     },
     "execution_count": 4,
     "metadata": {},
     "output_type": "execute_result"
    }
   ],
   "source": [
    "q = QuantumRegister(2)\n",
    "c = ClassicalRegister(2)\n",
    "circ = prepareState(q,c,'singlet')\n",
    "circ.ry(-pi/2,1)\n",
    "circ.ry(-pi/2,0)\n",
    "circ.measure(q,c)\n",
    "# Example error probabilities\n",
    "##p_reset = 1.0\n",
    "p_meas = 0.05\n",
    "p_gate1 = 0.05\n",
    "\n",
    "# QuantumError objects\n",
    "##error_reset = pauli_error([('X', p_reset), ('I', 1 - p_reset)])\n",
    "error_meas = pauli_error([('X',p_meas), ('I', 1 - p_meas)])\n",
    "error_gate1 = pauli_error([('X',p_gate1), ('I', 1 - p_gate1)])\n",
    "error_gate2 = error_gate1.tensor(error_gate1)\n",
    "\n",
    "# Add errors to noise model\n",
    "noise_bit_flip = NoiseModel()\n",
    "##noise_bit_flip.add_all_qubit_quantum_error(error_reset, \"reset\")\n",
    "noise_bit_flip.add_all_qubit_quantum_error(error_meas, \"measure\")\n",
    "noise_bit_flip.add_all_qubit_quantum_error(error_gate1, [\"u1\", \"u2\", \"u3\"])\n",
    "noise_bit_flip.add_all_qubit_quantum_error(error_gate2, [\"cx\"])\n",
    "\n",
    "print(noise_bit_flip)\n",
    "\n",
    "simulator = QasmSimulator()\n",
    "# Run the noisy simulation\n",
    "job = execute(circ, simulator,\n",
    "              basis_gates=noise_bit_flip.basis_gates,\n",
    "              noise_model=noise_bit_flip)\n",
    "result_bit_flip = job.result()\n",
    "counts_bit_flip = result_bit_flip.get_counts(0)\n",
    "\n",
    "# Plot noisy output\n",
    "plot_histogram(counts_bit_flip)"
   ]
  },
  {
   "cell_type": "markdown",
   "metadata": {},
   "source": [
    "**Simulating Phase Flip:**\n",
    "\n",
    "Using similar parameters to the bit-flip simulation, it seems that the measurement error is not affecting the result. However, an increased gate error affects the result similarly to a bit-flip error. "
   ]
  },
  {
   "cell_type": "code",
   "execution_count": 5,
   "metadata": {},
   "outputs": [
    {
     "name": "stdout",
     "output_type": "stream",
     "text": [
      "NoiseModel:\n",
      "  Basis gates: ['cx', 'id', 'u1', 'u2', 'u3']\n",
      "  Instructions with noise: ['u2', 'measure', 'u1', 'cx', 'u3']\n",
      "  All-qubits errors: ['measure', 'u1', 'u2', 'u3', 'cx']\n"
     ]
    },
    {
     "data": {
      "image/png": "[encoded data removed]",
      "text/plain": [
       "<Figure size 504x360 with 1 Axes>"
      ]
     },
     "execution_count": 5,
     "metadata": {},
     "output_type": "execute_result"
    }
   ],
   "source": [
    "q = QuantumRegister(2)\n",
    "c = ClassicalRegister(2)\n",
    "circ = prepareState(q,c,'singlet')\n",
    "#Measure about x\n",
    "circ.ry(-pi/2,0) \n",
    "circ.ry(-pi/2,1) \n",
    "circ.measure(q,c)\n",
    "# Example error probabilities\n",
    "##p_reset = 1.0\n",
    "p_meas = 0.5\n",
    "p_gate1 = 0.05\n",
    "\n",
    "# QuantumError objects\n",
    "##error_reset = pauli_error([('X', p_reset), ('I', 1 - p_reset)])\n",
    "error_meas = pauli_error([('Z',p_meas), ('I', 1 - p_meas)])\n",
    "error_gate1 = pauli_error([('Z',p_gate1), ('I', 1 - p_gate1)])\n",
    "error_gate2 = error_gate1.tensor(error_gate1)\n",
    "\n",
    "# Add errors to noise model\n",
    "noise_phase_flip = NoiseModel()\n",
    "##noise_bit_flip.add_all_qubit_quantum_error(error_reset, \"reset\")\n",
    "noise_phase_flip.add_all_qubit_quantum_error(error_meas, \"measure\")\n",
    "noise_phase_flip.add_all_qubit_quantum_error(error_gate1, [\"u1\", \"u2\", \"u3\"])\n",
    "noise_phase_flip.add_all_qubit_quantum_error(error_gate2, [\"cx\"])\n",
    "\n",
    "print(noise_phase_flip)\n",
    "\n",
    "simulator = QasmSimulator()\n",
    "# Run the noisy simulation\n",
    "job = execute(circ, simulator,\n",
    "              basis_gates=noise_phase_flip.basis_gates,\n",
    "              noise_model=noise_phase_flip)\n",
    "result = job.result()\n",
    "counts = result.get_counts(0)\n",
    "\n",
    "# Plot noisy output\n",
    "plot_histogram(counts)"
   ]
  },
  {
   "cell_type": "markdown",
   "metadata": {},
   "source": [
    "**Simulating a Depolarization Error:**\n",
    "\n",
    "The effect of the depolarizing noise increases linearly where 100% depolarizing error means that when a qubit will be in a completely mixed state. The way this noise can be visualized, is that when you have a single qubit, represented as a Bloch sphere, the sphere will shrink and when at 100%, it will just be a point in the center, when means that all information about your qubit is lost."
   ]
  },
  {
   "cell_type": "code",
   "execution_count": 6,
   "metadata": {},
   "outputs": [
    {
     "name": "stdout",
     "output_type": "stream",
     "text": [
      "NoiseModel:\n",
      "  Basis gates: ['cx', 'id', 'u1', 'u2', 'u3']\n",
      "  Instructions with noise: ['u2', 'u1', 'cx', 'u3']\n",
      "  All-qubits errors: ['u1', 'u2', 'u3', 'cx']\n"
     ]
    },
    {
     "data": {
      "image/png": "[encoded data removed]",
      "text/plain": [
       "<Figure size 504x360 with 1 Axes>"
      ]
     },
     "execution_count": 6,
     "metadata": {},
     "output_type": "execute_result"
    }
   ],
   "source": [
    "q = QuantumRegister(2)\n",
    "c = ClassicalRegister(2)\n",
    "circ = prepareState(q,c,'singlet')\n",
    "circ.measure(q,c)\n",
    "\n",
    "# Create an empty noise model\n",
    "noise_model = NoiseModel()\n",
    "\n",
    "# Add depolarizing error to all single qubit u1, u2, u3 gates\n",
    "error = depolarizing_error(0.05, 1)\n",
    "error2 = error.tensor(error)\n",
    "noise_model.add_all_qubit_quantum_error(error, ['u1', 'u2', 'u3'])\n",
    "noise_model.add_all_qubit_quantum_error(error2, [\"cx\"])\n",
    "# Print noise model info\n",
    "print(noise_model)\n",
    "\n",
    "simulator = QasmSimulator()\n",
    "# Run the noisy simulation\n",
    "job = execute(circ, simulator,\n",
    "              basis_gates=noise_model.basis_gates,\n",
    "              noise_model=noise_model)\n",
    "result = job.result()\n",
    "counts = result.get_counts(0)\n",
    "\n",
    "# Plot noisy output\n",
    "plot_histogram(counts)"
   ]
  },
  {
   "cell_type": "markdown",
   "metadata": {},
   "source": [
    "**Simulating Phase Damping:**\n",
    "\n",
    "If you increase the phase damping to 100%, it results to being in a mixed state, where you have no information about your qubit."
   ]
  },
  {
   "cell_type": "code",
   "execution_count": 7,
   "metadata": {},
   "outputs": [
    {
     "data": {
      "image/png": "[encoded data removed]",
      "text/plain": [
       "<Figure size 504x360 with 1 Axes>"
      ]
     },
     "execution_count": 7,
     "metadata": {},
     "output_type": "execute_result"
    }
   ],
   "source": [
    "q = QuantumRegister(2)\n",
    "c = ClassicalRegister(2)\n",
    "circ = prepareState(q,c,'singlet')\n",
    "#Measure state along x\n",
    "circ.ry(-pi/2,1)\n",
    "circ.ry(-pi/2,0)\n",
    "circ.measure(q,c)\n",
    "# Create an empty noise model\n",
    "noise_model = NoiseModel()\n",
    "\n",
    "# Add depolarizing error to all single qubit u1, u2, u3 gates\n",
    "error = phase_damping_error(0.05, 1)\n",
    "error2 = error.tensor(error)\n",
    "noise_model.add_all_qubit_quantum_error(error, ['u1', 'u2', 'u3'])\n",
    "noise_model.add_all_qubit_quantum_error(error2, [\"cx\"])\n",
    "\n",
    "simulator = QasmSimulator()\n",
    "# Run the noisy simulation\n",
    "job = execute(circ, simulator,\n",
    "              basis_gates=noise_model.basis_gates,\n",
    "              noise_model=noise_model)\n",
    "result = job.result()\n",
    "counts = result.get_counts(0)\n",
    "\n",
    "# Plot noisy output\n",
    "plot_histogram(counts)"
   ]
  },
  {
   "cell_type": "markdown",
   "metadata": {},
   "source": [
    "**Simulating Amplitude Damping:**\n",
    "\n",
    "This is a type of energy dissipation, in which energy is lost from the quantum system.\n",
    "\n",
    "Amplitude damping can be visualized as the Bloch sphere shrinking towards the 0 state. Thus, the idea is that as you increase the amplitude damping error to 100%, the state of your qubit is just the lowest energy state. "
   ]
  },
  {
   "cell_type": "code",
   "execution_count": 8,
   "metadata": {},
   "outputs": [
    {
     "data": {
      "image/png": "[encoded data removed]",
      "text/plain": [
       "<Figure size 504x360 with 1 Axes>"
      ]
     },
     "execution_count": 8,
     "metadata": {},
     "output_type": "execute_result"
    }
   ],
   "source": [
    "q = QuantumRegister(2)\n",
    "c = ClassicalRegister(2)\n",
    "circ = prepareState(q,c,'singlet')\n",
    "#Measure state along x\n",
    "#circ.ry(-pi/2,1)\n",
    "#circ.ry(-pi/2,0)\n",
    "circ.measure(q,c)\n",
    "\n",
    "# Create an empty noise model\n",
    "noise_model = NoiseModel()\n",
    "\n",
    "# Add depolarizing error to all single qubit u1, u2, u3 gates\n",
    "error = amplitude_damping_error(0.1, 0, True)\n",
    "error2 = error.tensor(error)\n",
    "noise_model.add_all_qubit_quantum_error(error, ['u1', 'u2', 'u3'])\n",
    "noise_model.add_all_qubit_quantum_error(error2, [\"cx\"])\n",
    "\n",
    "simulator = QasmSimulator()\n",
    "# Run the noisy simulation\n",
    "job = execute(circ, simulator,\n",
    "              basis_gates=noise_model.basis_gates,\n",
    "              noise_model=noise_model)\n",
    "result = job.result()\n",
    "counts = result.get_counts(0)\n",
    "\n",
    "# Plot noisy output\n",
    "plot_histogram(counts)"
   ]
  },
  {
   "cell_type": "markdown",
   "metadata": {},
   "source": [
    "**Simulating Thermal Relaxation Error:**\n",
    "\n",
    "This error is a mixture of generalized amplitude and phase damping."
   ]
  },
  {
   "cell_type": "code",
   "execution_count": 9,
   "metadata": {},
   "outputs": [
    {
     "name": "stdout",
     "output_type": "stream",
     "text": [
      "NoiseModel:\n",
      "  Basis gates: ['cx', 'id', 'u2', 'u3']\n",
      "  Instructions with noise: ['u2', 'measure', 'reset', 'cx', 'u3']\n",
      "  Qubits with noise: [0, 1, 2, 3]\n",
      "  Specific qubit errors: [('reset', [0]), ('reset', [1]), ('reset', [2]), ('reset', [3]), ('measure', [0]), ('measure', [1]), ('measure', [2]), ('measure', [3]), ('u2', [0]), ('u2', [1]), ('u2', [2]), ('u2', [3]), ('u3', [0]), ('u3', [1]), ('u3', [2]), ('u3', [3]), ('cx', [0, 0]), ('cx', [0, 1]), ('cx', [0, 2]), ('cx', [0, 3]), ('cx', [1, 0]), ('cx', [1, 1]), ('cx', [1, 2]), ('cx', [1, 3]), ('cx', [2, 0]), ('cx', [2, 1]), ('cx', [2, 2]), ('cx', [2, 3]), ('cx', [3, 0]), ('cx', [3, 1]), ('cx', [3, 2]), ('cx', [3, 3])]\n"
     ]
    },
    {
     "data": {
      "image/png": "[encoded data removed]",
      "text/plain": [
       "<Figure size 504x360 with 1 Axes>"
      ]
     },
     "execution_count": 9,
     "metadata": {},
     "output_type": "execute_result"
    }
   ],
   "source": [
    "q = QuantumRegister(2)\n",
    "c = ClassicalRegister(2)\n",
    "circ = prepareState(q,c,'singlet')\n",
    "circ.measure(q,c)\n",
    "# T1 and T2 values for qubits 0-3\n",
    "T1s = np.random.normal(50e3, 10e3, 4) # Sampled from normal distribution mean 50 microsec\n",
    "T2s = np.random.normal(70e3, 10e3, 4)  # Sampled from normal distribution mean 50 microsec\n",
    "\n",
    "# Truncate random T2s <= T1s\n",
    "T2s = np.array([min(T2s[j], 2 * T1s[j]) for j in range(4)])\n",
    "\n",
    "# Instruction times (in nanoseconds)\n",
    "time_u1 = 0   # virtual gate\n",
    "time_u2 = 50  # (single X90 pulse)\n",
    "time_u3 = 100 # (two X90 pulses)\n",
    "time_cx = 300\n",
    "time_reset = 1000  # 1 microsecond\n",
    "time_measure = 1000 # 1 microsecond\n",
    "\n",
    "# QuantumError objects\n",
    "errors_reset = [thermal_relaxation_error(t1, t2, time_reset)\n",
    "                for t1, t2 in zip(T1s, T2s)]\n",
    "errors_measure = [thermal_relaxation_error(t1, t2, time_measure)\n",
    "                  for t1, t2 in zip(T1s, T2s)]\n",
    "errors_u1  = [thermal_relaxation_error(t1, t2, time_u1)\n",
    "              for t1, t2 in zip(T1s, T2s)]\n",
    "errors_u2  = [thermal_relaxation_error(t1, t2, time_u2)\n",
    "              for t1, t2 in zip(T1s, T2s)]\n",
    "errors_u3  = [thermal_relaxation_error(t1, t2, time_u3)\n",
    "              for t1, t2 in zip(T1s, T2s)]\n",
    "errors_cx = [[thermal_relaxation_error(t1a, t2a, time_cx).expand(\n",
    "             thermal_relaxation_error(t1b, t2b, time_cx))\n",
    "              for t1a, t2a in zip(T1s, T2s)]\n",
    "               for t1b, t2b in zip(T1s, T2s)]\n",
    "\n",
    "# Add errors to noise model\n",
    "noise_thermal = NoiseModel()\n",
    "for j in range(4):\n",
    "    noise_thermal.add_quantum_error(errors_reset[j], \"reset\", [j])\n",
    "    noise_thermal.add_quantum_error(errors_measure[j], \"measure\", [j])\n",
    "    noise_thermal.add_quantum_error(errors_u1[j], \"u1\", [j])\n",
    "    noise_thermal.add_quantum_error(errors_u2[j], \"u2\", [j])\n",
    "    noise_thermal.add_quantum_error(errors_u3[j], \"u3\", [j])\n",
    "    for k in range(4):\n",
    "        noise_thermal.add_quantum_error(errors_cx[j][k], \"cx\", [j, k])\n",
    "\n",
    "print(noise_thermal)\n",
    "\n",
    "# Run the noisy simulation\n",
    "job = execute(circ, simulator,\n",
    "              basis_gates=noise_thermal.basis_gates,\n",
    "              noise_model=noise_thermal)\n",
    "result_thermal = job.result()\n",
    "counts_thermal = result_thermal.get_counts(0)\n",
    "\n",
    "# Plot noisy output\n",
    "plot_histogram(counts_thermal)"
   ]
  },
  {
   "cell_type": "markdown",
   "metadata": {},
   "source": [
    "Hello I am Eva. I am cool. But Eric is cooler because he thinks that he can correct on everything but little he does know that I hate him and he is mean to me every day. "
   ]
  }
 ],
 "metadata": {
  "kernelspec": {
   "display_name": "Python 3",
   "language": "python",
   "name": "python3"
  },
  "language_info": {
   "codemirror_mode": {
    "name": "ipython",
    "version": 3
   },
   "file_extension": ".py",
   "mimetype": "text/x-python",
   "name": "python",
   "nbconvert_exporter": "python",
   "pygments_lexer": "ipython3",
   "version": "3.7.3"
  }
 },
 "nbformat": 4,
 "nbformat_minor": 2
}
