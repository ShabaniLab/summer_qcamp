{
 "cells": [
  {
   "cell_type": "code",
   "execution_count": 15,
   "metadata": {},
   "outputs": [],
   "source": [
    "# Needed for functions\n",
    "import numpy as np\n",
    "import time\n",
    "\n",
    "# Import QISKit classes\n",
    "from qiskit import *\n",
    "from copy import deepcopy\n",
    "from qiskit import *\n",
    "from qiskit.quantum_info import state_fidelity, process_fidelity, Chi, Choi, PTM, SuperOp\n",
    "from qiskit.tools.qi.qi import outer\n",
    "import qiskit.ignis.mitigation.measurement as mc\n",
    "from qiskit.tools.visualization import plot_histogram\n",
    "from qiskit.quantum_info.operators import Kraus, SuperOp\n",
    "from qiskit.providers.aer import QasmSimulator\n",
    "\n",
    "# Tomography functions\n",
    "from qiskit.ignis.verification.tomography import process_tomography_circuits, ProcessTomographyFitter\n",
    "\n",
    "# Qiskit Aer noise module imports\n",
    "from qiskit.providers.aer.noise import NoiseModel\n",
    "from qiskit.providers.aer.noise.errors import QuantumError, ReadoutError\n",
    "from qiskit.providers.aer.noise.errors import pauli_error, amplitude_damping_error\n",
    "from qiskit.providers.aer.noise.errors import depolarizing_error, phase_damping_error\n",
    "from qiskit.providers.aer.noise.errors import thermal_relaxation_error"
   ]
  },
  {
   "cell_type": "code",
   "execution_count": 33,
   "metadata": {},
   "outputs": [
    {
     "name": "stderr",
     "output_type": "stream",
     "text": [
      "No classical registers in circuit \"circuit1771\": result data will not contain counts.\n",
      "No measurements in circuit \"circuit1771\": count data will return all zeros.\n"
     ]
    },
    {
     "name": "stdout",
     "output_type": "stream",
     "text": [
      "Fit Fidelity (no correction) = 0.7264379811496932\n",
      "[[ 1.00000000e+00+0.j -7.88625243e-04+0.j -4.12102054e-03+0.j\n",
      "  -1.49646464e-05+0.j]\n",
      " [ 1.42659656e-05+0.j  1.13890674e-03+0.j  1.62996754e-04+0.j\n",
      "   9.98682690e-01+0.j]\n",
      " [ 4.50998367e-03+0.j -1.35610547e-02+0.j -9.99300193e-01+0.j\n",
      "  -3.38581603e-04+0.j]\n",
      " [-1.23604477e-03+0.j  9.98874042e-01+0.j -1.47946460e-02+0.j\n",
      "  -1.50511578e-03+0.j]]\n"
     ]
    }
   ],
   "source": [
    "# Process tomography of a Hadamard gate\n",
    "q = QuantumRegister(1)\n",
    "c = ClassicalRegister(1)\n",
    "circ = QuantumCircuit(q)\n",
    "circ.h(q[0])\n",
    "#circ.measure(q[0],c[0])\n",
    "\n",
    "noise_model = NoiseModel()\n",
    "\n",
    "# Run circuit on unitary simulator to find ideal unitary\n",
    "job = qiskit.execute(circ, Aer.get_backend('unitary_simulator'))\n",
    "ideal_unitary = job.result().get_unitary(circ)\n",
    "# convert to Choi-matrix in column-major convention\n",
    "choi_ideal = Choi(outer(ideal_unitary.ravel(order='F')))\n",
    "chi_ideal = Chi(choi_ideal)\n",
    "ptm_ideal = PTM(choi_ideal)\n",
    "superop_ideal = SuperOp(choi_ideal)\n",
    "# Generate process tomography circuits and run on qasm simulator\n",
    "qpt_circs = process_tomography_circuits(circ, q)\n",
    "job = qiskit.execute(qpt_circs, Aer.get_backend('qasm_simulator'), shots=100)\n",
    "\n",
    "# Extract tomography data so that counts are indexed by measurement configuration\n",
    "qpt_tomo = ProcessTomographyFitter(job.result(), qpt_circs)\n",
    "\n",
    "# Add depolarizing error to all single qubit u1, u2, u3 gates\n",
    "error = amplitude_damping_error(0.1, 0, True)\n",
    "error2 = error.tensor(error)\n",
    "noise_model.add_all_qubit_quantum_error(error, ['u1', 'u2', 'u3'])\n",
    "noise_model.add_all_qubit_quantum_error(error2, [\"cx\"])\n",
    "\n",
    "simulator = QasmSimulator()\n",
    "# Run the noisy simulation\n",
    "job = execute(circ, simulator,\n",
    "              basis_gates=noise_model.basis_gates,\n",
    "              noise_model=noise_model)\n",
    "result = job.result()\n",
    "\n",
    "meas_calibs, process_labels = mc.complete_meas_cal(qubit_list=[0,1])\n",
    "\n",
    "backend = Aer.get_backend('qasm_simulator')\n",
    "job_cal = qiskit.execute(meas_calibs, backend=backend, shots=15000, noise_model=noise_model)\n",
    "job_tomo = qiskit.execute(qpt_circs, backend=backend, shots=15000, noise_model=noise_model)\n",
    "\n",
    "meas_fitter = mc.CompleteMeasFitter(job_cal.result(),process_labels)\n",
    "\n",
    "tomo_bell = ProcessTomographyFitter(job_tomo.result(), qpt_circs)\n",
    "PTM_bell= PTM(tomo_bell.fit()).data\n",
    "\n",
    "PTM_ideal = qpt_tomo.fit().data\n",
    "F_bell = state_fidelity(PTM_ideal/2, PTM_bell/2)\n",
    "print('Fit Fidelity (no correction) =', F_bell)\n",
    "print(PTM_bell)"
   ]
  },
  {
   "cell_type": "markdown",
   "metadata": {},
   "source": [
    "Gate fidelity** "
   ]
  },
  {
   "cell_type": "code",
   "execution_count": null,
   "metadata": {},
   "outputs": [],
   "source": []
  }
 ],
 "metadata": {
  "kernelspec": {
   "display_name": "Python 3",
   "language": "python",
   "name": "python3"
  },
  "language_info": {
   "codemirror_mode": {
    "name": "ipython",
    "version": 3
   },
   "file_extension": ".py",
   "mimetype": "text/x-python",
   "name": "python",
   "nbconvert_exporter": "python",
   "pygments_lexer": "ipython3",
   "version": "3.7.3"
  }
 },
 "nbformat": 4,
 "nbformat_minor": 2
}
