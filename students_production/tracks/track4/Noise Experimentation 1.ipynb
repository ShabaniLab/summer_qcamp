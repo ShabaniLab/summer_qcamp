{
 "cells": [
  {
   "cell_type": "code",
   "execution_count": 2,
   "metadata": {
    "scrolled": false
   },
   "outputs": [],
   "source": [
    "import numpy as np\n",
    "import matplotlib.pyplot as plt\n",
    "from matplotlib import *\n",
    "from qiskit import execute, QuantumCircuit, QuantumRegister, ClassicalRegister\n",
    "from qiskit.quantum_info.operators import Kraus, SuperOp\n",
    "from qiskit.providers.aer import QasmSimulator\n",
    "from qiskit.tools.visualization import plot_histogram\n",
    "\n",
    "# Qiskit Aer noise module imports\n",
    "from qiskit import *\n",
    "from qiskit.providers.aer.noise import NoiseModel\n",
    "from qiskit.providers.aer.noise.errors import *"
   ]
  },
  {
   "cell_type": "markdown",
   "metadata": {},
   "source": [
    "**Created function that prepares the initial state of the qubit. In this case we prepare it in the singlet state**"
   ]
  },
  {
   "cell_type": "code",
   "execution_count": 3,
   "metadata": {},
   "outputs": [],
   "source": [
    "def prepareState(circ, q, c):\n",
    "    #Singlet state\n",
    "    circ.h(1)\n",
    "    circ.cx(q[1], q[0])\n",
    "    circ.x(0)\n",
    "    circ.z(1)\n",
    "    return circ"
   ]
  },
  {
   "cell_type": "code",
   "execution_count": 4,
   "metadata": {},
   "outputs": [],
   "source": [
    "q = QuantumRegister(2)\n",
    "c = ClassicalRegister(2)\n",
    "circ = QuantumCircuit(q, c)\n",
    "circ = prepareState(circ, q, c)\n",
    "\n",
    "simulator = Aer.get_backend('qasm_simulator')"
   ]
  },
  {
   "cell_type": "markdown",
   "metadata": {},
   "source": [
    "# Bit Flip Error and Custom \"Phase Flip Error\""
   ]
  },
  {
   "cell_type": "code",
   "execution_count": 5,
   "metadata": {
    "scrolled": true
   },
   "outputs": [
    {
     "name": "stdout",
     "output_type": "stream",
     "text": [
      "NoiseModel:\n",
      "  Basis gates: ['cx', 'id', 'u1', 'u2', 'u3']\n",
      "  Instructions with noise: ['cx', 'u2', 'measure', 'u1', 'reset', 'u3']\n",
      "  All-qubits errors: ['reset', 'measure', 'u1', 'u2', 'u3', 'cx']\n"
     ]
    }
   ],
   "source": [
    "# Example error probabilities\n",
    "p_reset = 0.1\n",
    "p_meas = 0.05\n",
    "p_gate1 = 0.05\n",
    "\n",
    "# QuantumError objects\n",
    "error_resetX = pauli_error([('X', p_reset), ('I', 1 - p_reset)])\n",
    "error_measX = pauli_error([('X',p_meas), ('I', 1 - p_meas)])\n",
    "error_gate1X = pauli_error([('X',p_gate1), ('I', 1 - p_gate1)])\n",
    "error_gate2X = error_gate1X.tensor(error_gate1X)\n",
    "\n",
    "# Add errors to noise model\n",
    "noise_bitflip = NoiseModel()\n",
    "noise_bitflip.add_all_qubit_quantum_error(error_resetX, \"reset\")\n",
    "noise_bitflip.add_all_qubit_quantum_error(error_measX, \"measure\")\n",
    "noise_bitflip.add_all_qubit_quantum_error(error_gate1X, [\"u1\", \"u2\", \"u3\"])\n",
    "noise_bitflip.add_all_qubit_quantum_error(error_gate2X, [\"cx\"])\n",
    "\n",
    "print(noise_bitflip)"
   ]
  },
  {
   "cell_type": "markdown",
   "metadata": {},
   "source": [
    "**Plotting the histogram for the bit flip error**"
   ]
  },
  {
   "cell_type": "code",
   "execution_count": 6,
   "metadata": {
    "scrolled": true
   },
   "outputs": [
    {
     "data": {
      "image/png": "[encoded data removed]",
      "text/plain": [
       "<Figure size 504x360 with 1 Axes>"
      ]
     },
     "execution_count": 6,
     "metadata": {},
     "output_type": "execute_result"
    }
   ],
   "source": [
    "# Run the noisy simulation\n",
    "circ.measure(q, c)\n",
    "job = execute(circ, simulator, basis_gates=noise_bitflip.basis_gates, noise_model=noise_bitflip)\n",
    "result_bit_flip = job.result()\n",
    "counts_bit_flip = result_bit_flip.get_counts(0)\n",
    "\n",
    "# Plot noisy output\n",
    "plot_histogram(counts_bit_flip, title='Bit Flip Error')"
   ]
  },
  {
   "cell_type": "markdown",
   "metadata": {},
   "source": [
    "**Creating noise model for phase flip with same probabilities as bit flip**"
   ]
  },
  {
   "cell_type": "code",
   "execution_count": 7,
   "metadata": {},
   "outputs": [],
   "source": [
    "#Using the same probabilities\n",
    "noise_phase = NoiseModel()\n",
    "#QuantumError objects\n",
    "error_gate1Z = pauli_error([('Z', p_gate1), ('I', 1 - p_gate1)])\n",
    "error_gate2Z = error_gate1Z.tensor(error_gate1Z)\n",
    "\n",
    "noise_phase.add_all_qubit_quantum_error(error_gate1Z, [\"u1\", \"u2\", \"u3\"])\n",
    "noise_phase.add_all_qubit_quantum_error(error_gate2X, [\"cx\"])"
   ]
  },
  {
   "cell_type": "code",
   "execution_count": 8,
   "metadata": {},
   "outputs": [
    {
     "data": {
      "image/png": "[encoded data removed]",
      "text/plain": [
       "<Figure size 504x360 with 1 Axes>"
      ]
     },
     "execution_count": 8,
     "metadata": {},
     "output_type": "execute_result"
    }
   ],
   "source": [
    "# Run the noisy simulation\n",
    "circ.measure(q, c)\n",
    "job = execute(circ, simulator, basis_gates=noise_phase.basis_gates, noise_model=noise_phase)\n",
    "result_phase_flip = job.result()\n",
    "counts_phase_flip = result_phase_flip.get_counts(0)\n",
    "\n",
    "# Plot noisy output\n",
    "plot_histogram(counts_phase_flip, title=\"Phase Flip Error\")"
   ]
  },
  {
   "cell_type": "markdown",
   "metadata": {},
   "source": [
    "# Thermal Relaxation: "
   ]
  },
  {
   "cell_type": "code",
   "execution_count": 11,
   "metadata": {
    "scrolled": false
   },
   "outputs": [
    {
     "ename": "TypeError",
     "evalue": "'<=' not supported between instances of 'list' and 'int'",
     "output_type": "error",
     "traceback": [
      "\u001b[0;31m---------------------------------------------------------------------------\u001b[0m",
      "\u001b[0;31mTypeError\u001b[0m                                 Traceback (most recent call last)",
      "\u001b[0;32m<ipython-input-11-53db82fbffd5>\u001b[0m in \u001b[0;36m<module>\u001b[0;34m\u001b[0m\n\u001b[1;32m     23\u001b[0m \u001b[0;31m# QuantumError objects\u001b[0m\u001b[0;34m\u001b[0m\u001b[0;34m\u001b[0m\u001b[0;34m\u001b[0m\u001b[0m\n\u001b[1;32m     24\u001b[0m errors_reset = [thermal_relaxation_error(t1, t2, time_reset)\n\u001b[0;32m---> 25\u001b[0;31m                 for t1, t2 in zip(T1s, T2s)]\n\u001b[0m\u001b[1;32m     26\u001b[0m errors_measure = [thermal_relaxation_error(t1, t2, time_measure)\n\u001b[1;32m     27\u001b[0m                   for t1, t2 in zip(T1s, T2s)]\n",
      "\u001b[0;32m<ipython-input-11-53db82fbffd5>\u001b[0m in \u001b[0;36m<listcomp>\u001b[0;34m(.0)\u001b[0m\n\u001b[1;32m     23\u001b[0m \u001b[0;31m# QuantumError objects\u001b[0m\u001b[0;34m\u001b[0m\u001b[0;34m\u001b[0m\u001b[0;34m\u001b[0m\u001b[0m\n\u001b[1;32m     24\u001b[0m errors_reset = [thermal_relaxation_error(t1, t2, time_reset)\n\u001b[0;32m---> 25\u001b[0;31m                 for t1, t2 in zip(T1s, T2s)]\n\u001b[0m\u001b[1;32m     26\u001b[0m errors_measure = [thermal_relaxation_error(t1, t2, time_measure)\n\u001b[1;32m     27\u001b[0m                   for t1, t2 in zip(T1s, T2s)]\n",
      "\u001b[0;32m~/anaconda3/lib/python3.7/site-packages/qiskit/providers/aer/noise/errors/standard_errors.py\u001b[0m in \u001b[0;36mthermal_relaxation_error\u001b[0;34m(t1, t2, time, excited_state_population)\u001b[0m\n\u001b[1;32m    379\u001b[0m     \u001b[0;32mif\u001b[0m \u001b[0mt1\u001b[0m \u001b[0;34m<=\u001b[0m \u001b[0;36m0\u001b[0m\u001b[0;34m:\u001b[0m\u001b[0;34m\u001b[0m\u001b[0;34m\u001b[0m\u001b[0m\n\u001b[1;32m    380\u001b[0m         \u001b[0;32mraise\u001b[0m \u001b[0mNoiseError\u001b[0m\u001b[0;34m(\u001b[0m\u001b[0;34m\"Invalid T_1 relaxation time parameter: T_1 <= 0.\"\u001b[0m\u001b[0;34m)\u001b[0m\u001b[0;34m\u001b[0m\u001b[0;34m\u001b[0m\u001b[0m\n\u001b[0;32m--> 381\u001b[0;31m     \u001b[0;32mif\u001b[0m \u001b[0mt2\u001b[0m \u001b[0;34m<=\u001b[0m \u001b[0;36m0\u001b[0m\u001b[0;34m:\u001b[0m\u001b[0;34m\u001b[0m\u001b[0;34m\u001b[0m\u001b[0m\n\u001b[0m\u001b[1;32m    382\u001b[0m         \u001b[0;32mraise\u001b[0m \u001b[0mNoiseError\u001b[0m\u001b[0;34m(\u001b[0m\u001b[0;34m\"Invalid T_2 relaxation time parameter: T_2 <= 0.\"\u001b[0m\u001b[0;34m)\u001b[0m\u001b[0;34m\u001b[0m\u001b[0;34m\u001b[0m\u001b[0m\n\u001b[1;32m    383\u001b[0m     \u001b[0;32mif\u001b[0m \u001b[0mt2\u001b[0m \u001b[0;34m-\u001b[0m \u001b[0;36m2\u001b[0m \u001b[0;34m*\u001b[0m \u001b[0mt1\u001b[0m \u001b[0;34m>\u001b[0m \u001b[0;36m0\u001b[0m\u001b[0;34m:\u001b[0m\u001b[0;34m\u001b[0m\u001b[0;34m\u001b[0m\u001b[0m\n",
      "\u001b[0;31mTypeError\u001b[0m: '<=' not supported between instances of 'list' and 'int'"
     ]
    }
   ],
   "source": [
    "circ = QuantumCircuit(q, c)\n",
    "circ = prepareState(circ, q, c)\n",
    "\n",
    "thermalCounts = []\n",
    "timeStep = 100\n",
    "rangeVal = 100\n",
    "# for i in range(rangeVal):\n",
    "# T1 and T2 values for qubits 0-3\n",
    "T1s = [30e3] # Is a bell curve with the center at the first parameter with a distribution of the second parameter\n",
    "T2s = [2 * T1s]  # same thing\n",
    "\n",
    "# Truncate random T2s <= T1s\n",
    "#T2s = np.array([min(T2s[j], 2 * T1s[j]) for j in range(4)])\n",
    "\n",
    "# Instruction times (in nanoseconds)\n",
    "time_u1 = 0   # virtual gate\n",
    "time_u2 = 50  # (single X90 pulse)\n",
    "time_u3 = 100 # (two X90 pulses)\n",
    "time_cx = 300\n",
    "time_reset = 14978.66136777  # 1 microsecond\n",
    "time_measure = timeStep # 1 microsecond # was originally 1000\n",
    "\n",
    "# QuantumError objects\n",
    "errors_reset = [thermal_relaxation_error(t1, t2, time_reset)\n",
    "                for t1, t2 in zip(T1s, T2s)]\n",
    "errors_measure = [thermal_relaxation_error(t1, t2, time_measure)\n",
    "                  for t1, t2 in zip(T1s, T2s)]\n",
    "errors_u1  = [thermal_relaxation_error(t1, t2, time_u1)\n",
    "              for t1, t2 in zip(T1s, T2s)]\n",
    "errors_u2  = [thermal_relaxation_error(t1, t2, time_u2)\n",
    "              for t1, t2 in zip(T1s, T2s)]\n",
    "errors_u3  = [thermal_relaxation_error(t1, t2, time_u3)\n",
    "              for t1, t2 in zip(T1s, T2s)]\n",
    "errors_cx = [[thermal_relaxation_error(t1a, t2a, time_cx).expand(\n",
    "             thermal_relaxation_error(t1b, t2b, time_cx))\n",
    "              for t1a, t2a in zip(T1s, T2s)]\n",
    "               for t1b, t2b in zip(T1s, T2s)]\n",
    "\n",
    "# Add errors to noise model\n",
    "noise_thermal = NoiseModel()\n",
    "for j in range(4):\n",
    "    noise_thermal.add_quantum_error(errors_reset[j], \"reset\", [j])\n",
    "    noise_thermal.add_quantum_error(errors_measure[j], \"measure\", [j])\n",
    "    noise_thermal.add_quantum_error(errors_u1[j], \"u1\", [j])\n",
    "    noise_thermal.add_quantum_error(errors_u2[j], \"u2\", [j])\n",
    "    noise_thermal.add_quantum_error(errors_u3[j], \"u3\", [j])\n",
    "    for k in range(4):\n",
    "        noise_thermal.add_quantum_error(errors_cx[j][k], \"cx\", [j, k])\n",
    "circ.measure(q, c)\n",
    "#print(noise_thermal)\n",
    "# Run the noisy simulation\n",
    "job = execute(circ, simulator,\n",
    "              basis_gates=noise_thermal.basis_gates,\n",
    "              noise_model=noise_thermal)\n",
    "result_thermal = job.result_thermal()\n",
    "counts_thermal = result_thermal.get_counts(0)\n",
    "# Plot noisy output\n",
    "#plot_histogram(counts_thermal)\n",
    "thermalCounts.append(counts_thermal)\n",
    "plot_histogram(counts_thermal, title=\"Thermal Relaxation Error\")\n",
    "\n",
    "    \n",
    "#print(thermalCounts)\n",
    "#######This will prove the relationship between time waited to measure and the state of the qubit#######\n",
    "# xPoints = []\n",
    "# yPoints = []\n",
    "# for i in range(len(thermalCounts)):\n",
    "#     xPoints.append(i*timeStep)\n",
    "#     yPoints.append(thermalCounts[i].get('0', 0)/(thermalCounts[i].get('0', 0) + thermalCounts[i].get('1', 0)))\n",
    "\n",
    "# print(xPoints)\n",
    "# print(yPoints)\n",
    "\n"
   ]
  },
  {
   "cell_type": "markdown",
   "metadata": {},
   "source": [
    "**Plotting the temperature-time relationship**\n",
    "\n",
    "As a fun side experiment I decided to plot the influence of temperature relaxation on a single qubit (how close the qubit is to it's 0 or 1 state) after a certian amount of time. Currently it is commented out but before I made a plot that showed that the state would increase quickly to the 0 state and then level off.\n",
    "\n",
    "\n",
    "**Info about the graph**\n",
    "\n",
    "1.0 = |0> state and 0.0 = |1> state\n",
    "\n",
    "Time is measured in microseconds"
   ]
  },
  {
   "cell_type": "code",
   "execution_count": null,
   "metadata": {
    "scrolled": true
   },
   "outputs": [],
   "source": [
    "# plt.plot(xPoints, yPoints, 'ro')\n",
    "# plt.axis([0, rangeVal * timeStep, 0, 1])\n",
    "# plt.show()"
   ]
  },
  {
   "cell_type": "markdown",
   "metadata": {},
   "source": [
    "# Depolarization"
   ]
  },
  {
   "cell_type": "code",
   "execution_count": null,
   "metadata": {
    "scrolled": true
   },
   "outputs": [],
   "source": [
    "circ = QuantumCircuit(q, c)\n",
    "circ = prepareState(circ, q, c)\n",
    "circ.measure(q, c)\n",
    "\n",
    "noiseDepolarising = NoiseModel()\n",
    "\n",
    "# Add depolarizing error on qubit 2 forall single qubit u1, u2, u3 gates on qubit 0 \n",
    "error = depolarizing_error(0.3, 1)\n",
    "noiseDepolarising.add_all_qubit_quantum_error(error, ['u1', 'u2', 'u3'])\n",
    "\n",
    "\n",
    "# Print noise model info\n",
    "#print(noiseDepolarising)\n",
    "\n",
    "job = execute(circ, simulator, basis_gates=noiseDepolarising.basis_gates, noise_model=noiseDepolarising)\n",
    "result_depolarize = job.result()\n",
    "counts_depolarize = result_depolarize.get_counts(0)\n",
    "#print(counts_depolarize)\n",
    "plot_histogram(counts_depolarize, title=\"Depolarization Error\")"
   ]
  },
  {
   "cell_type": "markdown",
   "metadata": {},
   "source": [
    "# Amplitude Damping"
   ]
  },
  {
   "cell_type": "code",
   "execution_count": null,
   "metadata": {
    "scrolled": true
   },
   "outputs": [],
   "source": [
    "circ = QuantumCircuit(q, c)\n",
    "circ = prepareState(circ, q, c)\n",
    "circ.measure(q, c)\n",
    "\n",
    "amplitudeNoise = NoiseModel()\n",
    "\n",
    "# Add amplitude error on qubit 2 foxxtrall single qubit u1, u2, u3 gates on qubit 0 \n",
    "error = amplitude_damping_error(0.05, 0, True)\n",
    "amplitudeNoise.add_all_qubit_quantum_error(error, ['u1', 'u2', 'u3'])\n",
    "\n",
    "# Print noise model info\n",
    "print(amplitudeNoise)\n",
    "\n",
    "job = execute(circ, simulator, basis_gates=amplitudeNoise.basis_gates, noise_model=amplitudeNoise)\n",
    "result_ampl = job.result()\n",
    "counts_ampl = result_ampl.get_counts(0)\n",
    "print(counts_ampl)\n",
    "plot_histogram(counts_ampl, title=\"Amplitude Damping Error\")"
   ]
  },
  {
   "cell_type": "markdown",
   "metadata": {},
   "source": [
    "# Phase Damping"
   ]
  },
  {
   "cell_type": "code",
   "execution_count": null,
   "metadata": {},
   "outputs": [],
   "source": [
    "circ = QuantumCircuit(q, c)\n",
    "circ = prepareState(circ, q, c)\n",
    "circ.ry(-np.pi/2, 0)\n",
    "circ.ry(-np.pi/2, 1)\n",
    "circ.measure(q, c)\n",
    "\n",
    "phaseDamp = NoiseModel()\n",
    "\n",
    "# Add amplitude error on qubit 2 foxxtrall single qubit u1, u2, u3 gates on qubit 0 \n",
    "error = phase_damping_error(0.3, 0)\n",
    "phaseDamp.add_all_qubit_quantum_error(error, ['u1', 'u2', 'u3'])\n",
    "\n",
    "# Print noise model info\n",
    "print(phaseDamp)\n",
    "\n",
    "job = execute(circ, simulator, basis_gates=phaseDamp.basis_gates, noise_model=phaseDamp)\n",
    "result_damp = job.result()\n",
    "counts_damp = result_damp.get_counts(0)\n",
    "print(counts_damp)\n",
    "plot_histogram(counts_damp, title=\"Phase Damping Error\")"
   ]
  },
  {
   "cell_type": "code",
   "execution_count": null,
   "metadata": {},
   "outputs": [],
   "source": []
  },
  {
   "cell_type": "code",
   "execution_count": null,
   "metadata": {},
   "outputs": [],
   "source": []
  }
 ],
 "metadata": {
  "kernelspec": {
   "display_name": "Python 3",
   "language": "python",
   "name": "python3"
  },
  "language_info": {
   "codemirror_mode": {
    "name": "ipython",
    "version": 3
   },
   "file_extension": ".py",
   "mimetype": "text/x-python",
   "name": "python",
   "nbconvert_exporter": "python",
   "pygments_lexer": "ipython3",
   "version": "3.7.3"
  }
 },
 "nbformat": 4,
 "nbformat_minor": 2
}
