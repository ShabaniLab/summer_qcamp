{
 "cells": [
  {
   "cell_type": "code",
   "execution_count": 1,
   "metadata": {
    "scrolled": true
   },
   "outputs": [],
   "source": [
    "import numpy as np\n",
    "from qiskit import execute, QuantumCircuit, QuantumRegister, ClassicalRegister\n",
    "from qiskit.quantum_info.operators import Kraus, SuperOp\n",
    "from qiskit.providers.aer import QasmSimulator\n",
    "from qiskit.tools.visualization import plot_histogram\n",
    "\n",
    "# Qiskit Aer noise module imports\n",
    "from qiskit.providers.aer.noise import *\n",
    "from qiskit.providers.aer.noise.errors import *\n",
    "\n",
    "from qiskit.ignis.verification.tomography import process_tomography_circuits, ProcessTomographyFitter\n",
    "# Tomography functions\n",
    "from qiskit.ignis.verification.tomography import state_tomography_circuits, StateTomographyFitter\n",
    "import qiskit.ignis.mitigation.measurement as mc\n",
    "\n",
    "import qiskit\n",
    "from qiskit import QuantumRegister, QuantumCircuit, Aer\n",
    "from qiskit.quantum_info import state_fidelity, process_fidelity\n",
    "from qiskit.tools.qi.qi import outer\n",
    "\n",
    "import time\n",
    "import math\n"
   ]
  },
  {
   "cell_type": "code",
   "execution_count": 2,
   "metadata": {},
   "outputs": [
    {
     "name": "stdout",
     "output_type": "stream",
     "text": [
      "         ┌───┐     ┌───┐┌───┐┌─┐\n",
      "q0_0: |0>┤ H ├──■──┤ X ├┤ Z ├┤M├\n",
      "         └───┘┌─┴─┐└┬─┬┘└───┘└╥┘\n",
      "q0_1: |0>─────┤ X ├─┤M├───────╫─\n",
      "              └───┘ └╥┘       ║ \n",
      " c0_0: 0 ════════════╬════════╩═\n",
      "                     ║          \n",
      " c0_1: 0 ════════════╩══════════\n",
      "                                \n"
     ]
    }
   ],
   "source": [
    "# Simulator\n",
    "simulator = QasmSimulator()\n",
    "\n",
    "# System Specification\n",
    "n_qubits = 2\n",
    "qr = QuantumRegister(n_qubits)\n",
    "cr = ClassicalRegister(n_qubits)\n",
    "circ = QuantumCircuit(qr, cr)\n",
    "\n",
    "# Test Circuit\n",
    "\n",
    "circ.h(qr[0])\n",
    "circ.cx(qr[0], qr[1])\n",
    "circ.x(qr[0])\n",
    "circ.z(qr[0])\n",
    "\n",
    "circ.measure(qr, cr)\n",
    "print(circ)"
   ]
  },
  {
   "cell_type": "code",
   "execution_count": 3,
   "metadata": {
    "scrolled": true
   },
   "outputs": [
    {
     "data": {
      "image/png": "[encoded data removed]",
      "text/plain": [
       "<Figure size 504x360 with 1 Axes>"
      ]
     },
     "execution_count": 3,
     "metadata": {},
     "output_type": "execute_result"
    }
   ],
   "source": [
    "# Ideal execution\n",
    "job = execute(circ, simulator)\n",
    "result_ideal = job.result()\n",
    "plot_histogram(result_ideal.get_counts(0))"
   ]
  },
  {
   "cell_type": "markdown",
   "metadata": {},
   "source": [
    "This is our ideal singlet state. We should get approxiamtely equal proportions of 10 and 01. "
   ]
  },
  {
   "cell_type": "markdown",
   "metadata": {},
   "source": [
    "Now we will create various kinds of errors: Bit-flip, Phase-Flip, Amplitude-Damping, and Thermal Relaxation. "
   ]
  },
  {
   "cell_type": "code",
   "execution_count": 4,
   "metadata": {},
   "outputs": [],
   "source": [
    "p_reset = 0.05\n",
    "p_meas = 0.05\n",
    "p_gate1 = 0.05\n",
    "\n",
    "error_reset = pauli_error([('X', p_reset), ('I', 1 - p_reset)])\n",
    "error_meas = pauli_error([('X',p_meas), ('I', 1 - p_meas)])\n",
    "error_gate1 = pauli_error([('X',p_gate1), ('I', 1 - p_gate1)])\n",
    "error_gate2 = error_gate1.tensor(error_gate1)\n",
    "\n",
    "# Add errors to noise model\n",
    "noise_bit_flip = NoiseModel()\n",
    "noise_bit_flip.add_all_qubit_quantum_error(error_reset, \"reset\")\n",
    "noise_bit_flip.add_all_qubit_quantum_error(error_meas, \"measure\")\n",
    "noise_bit_flip.add_all_qubit_quantum_error(error_gate1, [\"u1\", \"u2\", \"u3\"])\n",
    "noise_bit_flip.add_all_qubit_quantum_error(error_gate2, [\"cx\"])"
   ]
  },
  {
   "cell_type": "code",
   "execution_count": 5,
   "metadata": {},
   "outputs": [
    {
     "data": {
      "image/png": "[encoded data removed]",
      "text/plain": [
       "<Figure size 504x360 with 1 Axes>"
      ]
     },
     "execution_count": 5,
     "metadata": {},
     "output_type": "execute_result"
    }
   ],
   "source": [
    "# Run the noisy simulation\n",
    "job = execute(circ, simulator, basis_gates=noise_bit_flip.basis_gates,\n",
    "noise_model=noise_bit_flip)\n",
    "result_bit_flip = job.result()\n",
    "counts_bit_flip = result_bit_flip.get_counts(0)\n",
    "\n",
    "# Plot noisy output\n",
    "plot_histogram(counts_bit_flip)"
   ]
  },
  {
   "cell_type": "markdown",
   "metadata": {},
   "source": [
    "What we now see is that there are higher amounts of 00 and 11 than p = 0.05, as a bit flip can occur after each gate in the circuit, so the probabilities accumulate and the overall probability of an incorrect result exceeds .05.  "
   ]
  },
  {
   "cell_type": "markdown",
   "metadata": {},
   "source": [
    "Probability calculation: \n",
    "\n",
    "There are five points where a bit-flip can occur due to the design of the singlet-state circuit. Therefore, there is a .95 * .95 * .95 * .95 * .95 of having no bit flips at all. \n",
    "\n",
    "Thus, there is an approximately 77% chance that there is no bit-flip. That means that the proportions for the correct measurements of 01 and 10 should be around 0.38 for both. The probability that multiple bit-flips occur and still give the right result of 01 and 10 is insignificant, as that probability has at least two 0.05 values in the product (causing the value to be very small). This 77% chance of no bit-flip matches our histogram, as both 01 and 10 have approximately a 38% chance of occurring.  "
   ]
  },
  {
   "cell_type": "code",
   "execution_count": 6,
   "metadata": {},
   "outputs": [
    {
     "name": "stdout",
     "output_type": "stream",
     "text": [
      "         ┌───┐     ┌───┐┌───┐┌─┐\n",
      "q1_0: |0>┤ H ├──■──┤ X ├┤ Z ├┤M├\n",
      "         └───┘┌─┴─┐└┬─┬┘└───┘└╥┘\n",
      "q1_1: |0>─────┤ X ├─┤M├───────╫─\n",
      "              └───┘ └╥┘       ║ \n",
      " c1_0: 0 ════════════╬════════╩═\n",
      "                     ║          \n",
      " c1_1: 0 ════════════╩══════════\n",
      "                                \n"
     ]
    }
   ],
   "source": [
    "# Simulator\n",
    "simulator = QasmSimulator()\n",
    "\n",
    "# System Specification\n",
    "n_qubits = 2\n",
    "qr = QuantumRegister(n_qubits)\n",
    "cr = ClassicalRegister(n_qubits)\n",
    "circ = QuantumCircuit(qr, cr)\n",
    "\n",
    "# Test Circuit\n",
    "\n",
    "circ.h(qr[0])\n",
    "circ.cx(qr[0], qr[1])\n",
    "circ.x(qr[0])\n",
    "circ.z(qr[0])\n",
    "\n",
    "circ.measure(qr, cr)\n",
    "print(circ)\n",
    "\n",
    "p_reset = 0.95\n",
    "p_meas = 0.95\n",
    "p_gate1 = 0.95\n",
    "\n",
    "error_reset = pauli_error([('X', p_reset), ('I', 1 - p_reset)])\n",
    "error_meas = pauli_error([('X',p_meas), ('I', 1 - p_meas)])\n",
    "error_gate1 = pauli_error([('X',p_gate1), ('I', 1 - p_gate1)])\n",
    "error_gate2 = error_gate1.tensor(error_gate1)\n",
    "\n",
    "# Add errors to noise model\n",
    "noise_bit_flip = NoiseModel()\n",
    "noise_bit_flip.add_all_qubit_quantum_error(error_reset, \"reset\")\n",
    "noise_bit_flip.add_all_qubit_quantum_error(error_meas, \"measure\")\n",
    "noise_bit_flip.add_all_qubit_quantum_error(error_gate1, [\"u1\", \"u2\", \"u3\"])\n",
    "noise_bit_flip.add_all_qubit_quantum_error(error_gate2, [\"cx\"])\n"
   ]
  },
  {
   "cell_type": "code",
   "execution_count": 7,
   "metadata": {},
   "outputs": [
    {
     "data": {
      "image/png": "[encoded data removed]",
      "text/plain": [
       "<Figure size 504x360 with 1 Axes>"
      ]
     },
     "execution_count": 7,
     "metadata": {},
     "output_type": "execute_result"
    }
   ],
   "source": [
    "# Run the noisy simulation\n",
    "job = execute(circ, simulator,\n",
    "              basis_gates=noise_bit_flip.basis_gates,\n",
    "              noise_model=noise_bit_flip)\n",
    "result_bit_flip = job.result()\n",
    "counts_bit_flip = result_bit_flip.get_counts(0)\n",
    "\n",
    "# Plot noisy output\n",
    "plot_histogram(counts_bit_flip)"
   ]
  },
  {
   "cell_type": "markdown",
   "metadata": {},
   "source": [
    "Notice that a p = 0.95 creates the same results, due to the symmetricity of the bit-flips. A 95% chance of a bit-flip means that a bit-flip is essentially going to occur every time. However, in the case of the singlet state, if a bit-flip occurs every time that it can possibly occur, the end result is still measured as the correct 01 or 10. As a result, p-values close to 1 and p-values close to 0 result in less significant error. As the p approaches .5 from either end, the noise becomes more damaging.  "
   ]
  },
  {
   "cell_type": "markdown",
   "metadata": {},
   "source": [
    "Now we will test thermal relaxation. "
   ]
  },
  {
   "cell_type": "code",
   "execution_count": 8,
   "metadata": {},
   "outputs": [
    {
     "name": "stdout",
     "output_type": "stream",
     "text": [
      "         ┌───┐     ┌───┐┌───┐┌─┐\n",
      "q2_0: |0>┤ H ├──■──┤ X ├┤ Z ├┤M├\n",
      "         └───┘┌─┴─┐└┬─┬┘└───┘└╥┘\n",
      "q2_1: |0>─────┤ X ├─┤M├───────╫─\n",
      "              └───┘ └╥┘       ║ \n",
      " c2_0: 0 ════════════╬════════╩═\n",
      "                     ║          \n",
      " c2_1: 0 ════════════╩══════════\n",
      "                                \n",
      "NoiseModel:\n",
      "  Basis gates: ['cx', 'id', 'u2', 'u3']\n",
      "  Instructions with noise: ['reset', 'cx', 'measure', 'u3', 'u2']\n",
      "  Qubits with noise: [0, 1, 2, 3]\n",
      "  Specific qubit errors: [('reset', [0]), ('reset', [1]), ('reset', [2]), ('reset', [3]), ('measure', [0]), ('measure', [1]), ('measure', [2]), ('measure', [3]), ('u2', [0]), ('u2', [1]), ('u2', [2]), ('u2', [3]), ('u3', [0]), ('u3', [1]), ('u3', [2]), ('u3', [3]), ('cx', [0, 0]), ('cx', [0, 1]), ('cx', [0, 2]), ('cx', [0, 3]), ('cx', [1, 0]), ('cx', [1, 1]), ('cx', [1, 2]), ('cx', [1, 3]), ('cx', [2, 0]), ('cx', [2, 1]), ('cx', [2, 2]), ('cx', [2, 3]), ('cx', [3, 0]), ('cx', [3, 1]), ('cx', [3, 2]), ('cx', [3, 3])]\n"
     ]
    }
   ],
   "source": [
    "# Simulator\n",
    "simulator = QasmSimulator()\n",
    "\n",
    "# System Specification\n",
    "n_qubits = 2\n",
    "qr = QuantumRegister(n_qubits)\n",
    "cr = ClassicalRegister(n_qubits)\n",
    "circ = QuantumCircuit(qr, cr)\n",
    "\n",
    "# Test Circuit\n",
    "\n",
    "circ.h(qr[0])\n",
    "circ.cx(qr[0], qr[1])\n",
    "circ.x(qr[0])\n",
    "circ.z(qr[0])\n",
    "\n",
    "\n",
    "circ.measure(qr, cr)\n",
    "print(circ)\n",
    "# T1 and T2 values for qubits 0-3\n",
    "T1s = np.random.normal(50e3, 10e3, 4) # Sampled from normal distribution mean 50 microsec\n",
    "T2s = np.random.normal(70e3, 10e3, 4)  # Sampled from normal distribution mean 50 microsec\n",
    "\n",
    "# Truncate random T2s <= T1s\n",
    "T2s = np.array([min(T2s[j], 2 * T1s[j]) for j in range(4)])\n",
    "\n",
    "# Instruction times (in nanoseconds)\n",
    "time_u1 = 0 # virtual gate\n",
    "time_u2 = 50  # (single X90 pulse)\n",
    "time_u3 = 300 # (two X90 pulses)\n",
    "time_cx = 1000\n",
    "time_reset = 1000# 1 microsecond\n",
    "time_measure = 1000 # 1 microsecond\n",
    "\n",
    "# QuantumError objects\n",
    "errors_reset = [thermal_relaxation_error(t1, t2, time_reset)\n",
    "                for t1, t2 in zip(T1s, T2s)]\n",
    "errors_measure = [thermal_relaxation_error(t1, t2, time_measure)\n",
    "                  for t1, t2 in zip(T1s, T2s)]\n",
    "errors_u1  = [thermal_relaxation_error(t1, t2, time_u1)\n",
    "              for t1, t2 in zip(T1s, T2s)]\n",
    "errors_u2  = [thermal_relaxation_error(t1, t2, time_u2)\n",
    "              for t1, t2 in zip(T1s, T2s)]\n",
    "errors_u3  = [thermal_relaxation_error(t1, t2, time_u3)\n",
    "              for t1, t2 in zip(T1s, T2s)]\n",
    "errors_cx = [[thermal_relaxation_error(t1a, t2a, time_cx).expand(\n",
    "             thermal_relaxation_error(t1b, t2b, time_cx))\n",
    "              for t1a, t2a in zip(T1s, T2s)]\n",
    "               for t1b, t2b in zip(T1s, T2s)]\n",
    "\n",
    "# Add errors to noise model\n",
    "noise_thermal = NoiseModel()\n",
    "for j in range(4):\n",
    "    noise_thermal.add_quantum_error(errors_reset[j], \"reset\", [j])\n",
    "    noise_thermal.add_quantum_error(errors_measure[j], \"measure\", [j])\n",
    "    noise_thermal.add_quantum_error(errors_u1[j], \"u1\", [j])\n",
    "    noise_thermal.add_quantum_error(errors_u2[j], \"u2\", [j])\n",
    "    noise_thermal.add_quantum_error(errors_u3[j], \"u3\", [j])\n",
    "    for k in range(4):\n",
    "        noise_thermal.add_quantum_error(errors_cx[j][k], \"cx\", [j, k])\n",
    "\n",
    "print(noise_thermal)"
   ]
  },
  {
   "cell_type": "code",
   "execution_count": 9,
   "metadata": {
    "scrolled": true
   },
   "outputs": [
    {
     "data": {
      "image/png": "[encoded data removed]",
      "text/plain": [
       "<Figure size 504x360 with 1 Axes>"
      ]
     },
     "execution_count": 9,
     "metadata": {},
     "output_type": "execute_result"
    }
   ],
   "source": [
    "# Run the noisy simulation\n",
    "job = execute(circ, simulator,\n",
    "              basis_gates=noise_thermal.basis_gates,\n",
    "              noise_model=noise_thermal)\n",
    "result_thermal = job.result()\n",
    "counts_thermal = result_thermal.get_counts(0)\n",
    "\n",
    "# Plot noisy output\n",
    "plot_histogram(counts_thermal)"
   ]
  },
  {
   "cell_type": "code",
   "execution_count": 10,
   "metadata": {
    "scrolled": true
   },
   "outputs": [
    {
     "name": "stdout",
     "output_type": "stream",
     "text": [
      "         ┌───┐         ┌───┐     ┌───┐┌────────────┐┌─┐\n",
      "q3_0: |0>┤ H ├──■──────┤ X ├─────┤ Z ├┤ Ry(1.5708) ├┤M├\n",
      "         └───┘┌─┴─┐┌───┴───┴────┐└┬─┬┘└────────────┘└╥┘\n",
      "q3_1: |0>─────┤ X ├┤ Ry(1.5708) ├─┤M├────────────────╫─\n",
      "              └───┘└────────────┘ └╥┘                ║ \n",
      " c3_0: 0 ══════════════════════════╬═════════════════╩═\n",
      "                                   ║                   \n",
      " c3_1: 0 ══════════════════════════╩═══════════════════\n",
      "                                                       \n",
      "NoiseModel:\n",
      "  Basis gates: ['cx', 'id', 'u2', 'u3']\n",
      "  Instructions with noise: ['reset', 'cx', 'measure', 'u3', 'u2']\n",
      "  Qubits with noise: [0, 1, 2, 3]\n",
      "  Specific qubit errors: [('reset', [0]), ('reset', [1]), ('reset', [2]), ('reset', [3]), ('measure', [0]), ('measure', [1]), ('measure', [2]), ('measure', [3]), ('u2', [0]), ('u2', [1]), ('u2', [2]), ('u2', [3]), ('u3', [0]), ('u3', [1]), ('u3', [2]), ('u3', [3]), ('cx', [0, 0]), ('cx', [0, 1]), ('cx', [0, 2]), ('cx', [0, 3]), ('cx', [1, 0]), ('cx', [1, 1]), ('cx', [1, 2]), ('cx', [1, 3]), ('cx', [2, 0]), ('cx', [2, 1]), ('cx', [2, 2]), ('cx', [2, 3]), ('cx', [3, 0]), ('cx', [3, 1]), ('cx', [3, 2]), ('cx', [3, 3])]\n"
     ]
    }
   ],
   "source": [
    "# Simulator\n",
    "simulator = QasmSimulator()\n",
    "\n",
    "# System Specification\n",
    "n_qubits = 2\n",
    "qr = QuantumRegister(n_qubits)\n",
    "cr = ClassicalRegister(n_qubits)\n",
    "circ = QuantumCircuit(qr, cr)\n",
    "\n",
    "# Test Circuit\n",
    "\n",
    "circ.h(qr[0])\n",
    "circ.cx(qr[0], qr[1])\n",
    "circ.x(qr[0])\n",
    "circ.z(qr[0])\n",
    "\n",
    "circ.ry(math.pi/2, qr)\n",
    "\n",
    "circ.measure(qr, cr)\n",
    "print(circ)\n",
    "# T1 and T2 values for qubits 0-3\n",
    "T1s = np.random.normal(50e3, 10e3, 4) # Sampled from normal distribution mean 50 microsec\n",
    "T2s = np.random.normal(70e3, 10e3, 4)  # Sampled from normal distribution mean 50 microsec\n",
    "\n",
    "# Truncate random T2s <= T1s\n",
    "T2s = np.array([min(T2s[j], 2 * T1s[j]) for j in range(4)])\n",
    "\n",
    "# Instruction times (in nanoseconds)\n",
    "time_u1 = 0 # virtual gate\n",
    "time_u2 = 50  # (single X90 pulse)\n",
    "time_u3 = 300 # (two X90 pulses)\n",
    "time_cx = 1000\n",
    "time_reset = 1000 # 1 microsecond\n",
    "time_measure =  1000 # 1 microsecond\n",
    "\n",
    "# QuantumError objects\n",
    "errors_reset = [thermal_relaxation_error(t1, t2, time_reset)\n",
    "                for t1, t2 in zip(T1s, T2s)]\n",
    "errors_measure = [thermal_relaxation_error(t1, t2, time_measure)\n",
    "                  for t1, t2 in zip(T1s, T2s)]\n",
    "errors_u1  = [thermal_relaxation_error(t1, t2, time_u1)\n",
    "              for t1, t2 in zip(T1s, T2s)]\n",
    "errors_u2  = [thermal_relaxation_error(t1, t2, time_u2)\n",
    "              for t1, t2 in zip(T1s, T2s)]\n",
    "errors_u3  = [thermal_relaxation_error(t1, t2, time_u3)\n",
    "              for t1, t2 in zip(T1s, T2s)]\n",
    "errors_cx = [[thermal_relaxation_error(t1a, t2a, time_cx).expand(\n",
    "             thermal_relaxation_error(t1b, t2b, time_cx))\n",
    "              for t1a, t2a in zip(T1s, T2s)]\n",
    "               for t1b, t2b in zip(T1s, T2s)]\n",
    "\n",
    "# Add errors to noise model\n",
    "noise_thermal = NoiseModel()\n",
    "for j in range(4):\n",
    "    noise_thermal.add_quantum_error(errors_reset[j], \"reset\", [j])\n",
    "    noise_thermal.add_quantum_error(errors_measure[j], \"measure\", [j])\n",
    "    noise_thermal.add_quantum_error(errors_u1[j], \"u1\", [j])\n",
    "    noise_thermal.add_quantum_error(errors_u2[j], \"u2\", [j])\n",
    "    noise_thermal.add_quantum_error(errors_u3[j], \"u3\", [j])\n",
    "    for k in range(4):\n",
    "        noise_thermal.add_quantum_error(errors_cx[j][k], \"cx\", [j, k])\n",
    "\n",
    "print(noise_thermal)"
   ]
  },
  {
   "cell_type": "code",
   "execution_count": 11,
   "metadata": {
    "scrolled": true
   },
   "outputs": [
    {
     "data": {
      "image/png": "[encoded data removed]",
      "text/plain": [
       "<Figure size 504x360 with 1 Axes>"
      ]
     },
     "execution_count": 11,
     "metadata": {},
     "output_type": "execute_result"
    }
   ],
   "source": [
    "# Run the noisy simulation\n",
    "job = execute(circ, simulator,\n",
    "              basis_gates=noise_thermal.basis_gates,\n",
    "              noise_model=noise_thermal)\n",
    "result_thermal = job.result()\n",
    "counts_thermal = result_thermal.get_counts(0)\n",
    "\n",
    "# Plot noisy output\n",
    "plot_histogram(counts_thermal)"
   ]
  },
  {
   "cell_type": "raw",
   "metadata": {},
   "source": [
    "It appears that the thermal noise has a less significant effect than bit flip noise. \n",
    "\n",
    "Note that 00 has a much higher probability than 11 because thermal relaxation is less likely to cause qubits to go into the higher energy-state of 1. \n",
    "\n",
    "The T1 represents the time for longitudinal shifting (from 1 to 0) and T2 represents the time for shifting phase. If you rotate the qubits about the y-axis to measure the x-components, you realize that indeed there was phase shifts, as you see a non-zero proportion of 00 (and to a lesser extent, 11), meaning that some of the qubit states had changed phase.   \n",
    "\n",
    "Specifically speaking, T1 represents the time for 63% (equivalently, (e-1)/e) of high energy states to decay into the low energy state. T2 represents the same amount of time for phase shifting. Then, if you want to shoot for a higher proportion of incorrect measurements, set the time to be closer to T1 and T2. And exceed 63% by setting time to be greater than T1 and T2. \n",
    "\n",
    "Now let's test the noise for depolarization and amplitude damping.   "
   ]
  },
  {
   "cell_type": "code",
   "execution_count": 12,
   "metadata": {},
   "outputs": [
    {
     "name": "stdout",
     "output_type": "stream",
     "text": [
      "         ┌───┐     ┌───┐┌───┐┌─┐\n",
      "q4_0: |0>┤ H ├──■──┤ X ├┤ Z ├┤M├\n",
      "         └───┘┌─┴─┐└┬─┬┘└───┘└╥┘\n",
      "q4_1: |0>─────┤ X ├─┤M├───────╫─\n",
      "              └───┘ └╥┘       ║ \n",
      " c4_0: 0 ════════════╬════════╩═\n",
      "                     ║          \n",
      " c4_1: 0 ════════════╩══════════\n",
      "                                \n",
      "NoiseModel:\n",
      "  Basis gates: ['cx', 'id', 'u1', 'u2', 'u3']\n",
      "  Instructions with noise: ['u1', 'u3', 'u2']\n",
      "  All-qubits errors: ['u1', 'u2', 'u3']\n"
     ]
    }
   ],
   "source": [
    "# Simulator\n",
    "simulator = QasmSimulator()\n",
    "\n",
    "# System Specification\n",
    "n_qubits = 2\n",
    "qr = QuantumRegister(n_qubits)\n",
    "cr = ClassicalRegister(n_qubits)\n",
    "circ = QuantumCircuit(qr, cr)\n",
    "\n",
    "# Test Circuit\n",
    "\n",
    "circ.h(qr[0])\n",
    "circ.cx(qr[0], qr[1])\n",
    "circ.x(qr[0])\n",
    "circ.z(qr[0])\n",
    "\n",
    "circ.measure(qr, cr)\n",
    "print(circ)\n",
    "# Create an empty noise model\n",
    "noise_modelAmplitude = NoiseModel()\n",
    "\n",
    "# Add amplitude error to all single qubit u1, u2, u3 gates\n",
    "ampDamp = amplitude_damping_error(.05, 0, True)\n",
    "noise_modelAmplitude.add_all_qubit_quantum_error(ampDamp, ['u1', 'u2', 'u3'])\n",
    "\n",
    "# Print noise model info\n",
    "print(noise_modelAmplitude)"
   ]
  },
  {
   "cell_type": "code",
   "execution_count": 13,
   "metadata": {
    "scrolled": true
   },
   "outputs": [
    {
     "data": {
      "image/png": "[encoded data removed]",
      "text/plain": [
       "<Figure size 504x360 with 1 Axes>"
      ]
     },
     "execution_count": 13,
     "metadata": {},
     "output_type": "execute_result"
    }
   ],
   "source": [
    "# Run the noisy simulation\n",
    "job = execute(circ, simulator,\n",
    "              basis_gates=noise_modelAmplitude.basis_gates,\n",
    "              noise_model=noise_modelAmplitude)\n",
    "result_amplitudeDamp = job.result()\n",
    "counts_amplitudeDamp = result_amplitudeDamp.get_counts(0)\n",
    "\n",
    "# Plot noisy output\n",
    "plot_histogram(counts_amplitudeDamp)"
   ]
  },
  {
   "cell_type": "markdown",
   "metadata": {},
   "source": [
    "As expected, no 11 states, as amplitude damping channels cause longitudinal relaxation (1 to 0). A small percent of 00 states were measured, equal to p. This probability increases as p increases. So the probability of 00 is essentially p (whether p is .95, .5, or .05), and the other results are evenly distributed between 10 and 01. This is unlike the bit-flip, because as the p increases and gets closer to 1, the erroneous measurement of 00 has a higher and higher proportion too. "
   ]
  },
  {
   "cell_type": "code",
   "execution_count": 14,
   "metadata": {},
   "outputs": [
    {
     "name": "stdout",
     "output_type": "stream",
     "text": [
      "         ┌───┐     ┌───┐┌───┐┌─┐\n",
      "q5_0: |0>┤ H ├──■──┤ X ├┤ Z ├┤M├\n",
      "         └───┘┌─┴─┐└┬─┬┘└───┘└╥┘\n",
      "q5_1: |0>─────┤ X ├─┤M├───────╫─\n",
      "              └───┘ └╥┘       ║ \n",
      " c5_0: 0 ════════════╬════════╩═\n",
      "                     ║          \n",
      " c5_1: 0 ════════════╩══════════\n",
      "                                \n"
     ]
    },
    {
     "data": {
      "image/png": "[encoded data removed]",
      "text/plain": [
       "<Figure size 504x360 with 1 Axes>"
      ]
     },
     "execution_count": 14,
     "metadata": {},
     "output_type": "execute_result"
    }
   ],
   "source": [
    "#Phase \n",
    "# Simulator\n",
    "simulator = QasmSimulator()\n",
    "\n",
    "# System Specification\n",
    "n_qubits = 2\n",
    "qr = QuantumRegister(n_qubits)\n",
    "cr = ClassicalRegister(n_qubits)\n",
    "circ = QuantumCircuit(qr, cr)\n",
    "\n",
    "# Test Circuit\n",
    "\n",
    "circ.h(qr[0])\n",
    "circ.cx(qr[0], qr[1])\n",
    "circ.x(qr[0])\n",
    "circ.z(qr[0])\n",
    "\n",
    "circ.measure(qr, cr)\n",
    "print(circ)\n",
    "\n",
    "\n",
    "p_meas = 0.05\n",
    "p_gate1 = 0.05\n",
    "\n",
    "error_meas = pauli_error([('Z',p_meas), ('I', 1 - p_meas)])\n",
    "error_gate1 = pauli_error([('Z',p_gate1), ('I', 1 - p_gate1)])\n",
    "error_gate2 = error_gate1.tensor(error_gate1)\n",
    "\n",
    "# Add errors to noise model\n",
    "noise_phase_flip = NoiseModel()\n",
    "noise_phase_flip.add_all_qubit_quantum_error(error_reset, \"reset\")\n",
    "noise_phase_flip.add_all_qubit_quantum_error(error_meas, \"measure\")\n",
    "noise_phase_flip.add_all_qubit_quantum_error(error_gate1, [\"u1\", \"u2\", \"u3\"])\n",
    "noise_phase_flip.add_all_qubit_quantum_error(error_gate2, [\"cx\"])\n",
    "\n",
    "\n",
    "# Run the noisy simulation\n",
    "job = execute(circ, simulator,\n",
    "              basis_gates=noise_phase_flip.basis_gates,\n",
    "              noise_model=noise_phase_flip)\n",
    "result_phase_flip = job.result()\n",
    "counts_phase_flip = result_phase_flip.get_counts(0)\n",
    "\n",
    "# Plot noisy output\n",
    "plot_histogram(counts_phase_flip)\n",
    "\n",
    "\n"
   ]
  },
  {
   "cell_type": "markdown",
   "metadata": {},
   "source": [
    "As expected, a phase flip has no effect on the measurements made. It simply changes the azimuthal position of the qubit, meaning that longitudally it stays at its original 1 or 0. Now, if we want to test to see if this error has created the triplet 0 state due to the phase flip, all we have to do is use the previous distinguishing test and rotate both qubits about the y-axis (or x-axis) by 90 degrees as follows. "
   ]
  },
  {
   "cell_type": "code",
   "execution_count": 15,
   "metadata": {},
   "outputs": [
    {
     "name": "stdout",
     "output_type": "stream",
     "text": [
      "         ┌───┐         ┌───┐     ┌───┐┌────────────┐┌─┐\n",
      "q6_0: |0>┤ H ├──■──────┤ X ├─────┤ Z ├┤ Ry(1.5708) ├┤M├\n",
      "         └───┘┌─┴─┐┌───┴───┴────┐└┬─┬┘└────────────┘└╥┘\n",
      "q6_1: |0>─────┤ X ├┤ Ry(1.5708) ├─┤M├────────────────╫─\n",
      "              └───┘└────────────┘ └╥┘                ║ \n",
      " c6_0: 0 ══════════════════════════╬═════════════════╩═\n",
      "                                   ║                   \n",
      " c6_1: 0 ══════════════════════════╩═══════════════════\n",
      "                                                       \n"
     ]
    },
    {
     "data": {
      "image/png": "[encoded data removed]",
      "text/plain": [
       "<Figure size 504x360 with 1 Axes>"
      ]
     },
     "execution_count": 15,
     "metadata": {},
     "output_type": "execute_result"
    }
   ],
   "source": [
    "#Phase and experiment with Triplet 0 Rotation measurements \n",
    "# Simulator\n",
    "simulator = QasmSimulator()\n",
    "\n",
    "# System Specification\n",
    "n_qubits = 2\n",
    "qr = QuantumRegister(n_qubits)\n",
    "cr = ClassicalRegister(n_qubits)\n",
    "circ = QuantumCircuit(qr, cr)\n",
    "\n",
    "# Test Circuit\n",
    "circ.h(qr[0])\n",
    "circ.cx(qr[0], qr[1])\n",
    "circ.x(qr[0])\n",
    "circ.z(qr[0])\n",
    "\n",
    "circ.ry(math.pi/2, qr)\n",
    "\n",
    "circ.measure(qr, cr)\n",
    "print(circ)\n",
    "\n",
    "p_reset = 0.05\n",
    "p_meas = 0.05\n",
    "p_gate1 = 0.05\n",
    "\n",
    "error_reset = pauli_error([('Z', p_reset), ('I', 1 - p_reset)])\n",
    "error_meas = pauli_error([('Z',p_meas), ('I', 1 - p_meas)])\n",
    "error_gate1 = pauli_error([('Z',p_gate1), ('I', 1 - p_gate1)])\n",
    "error_gate2 = error_gate1.tensor(error_gate1)\n",
    "\n",
    "# Add errors to noise model\n",
    "noise_phase_flip = NoiseModel()\n",
    "noise_phase_flip.add_all_qubit_quantum_error(error_reset, \"reset\")\n",
    "noise_phase_flip.add_all_qubit_quantum_error(error_meas, \"measure\")\n",
    "noise_phase_flip.add_all_qubit_quantum_error(error_gate1, [\"u1\", \"u2\", \"u3\"])\n",
    "noise_phase_flip.add_all_qubit_quantum_error(error_gate2, [\"cx\"])\n",
    "\n",
    "\n",
    "# Run the noisy simulation\n",
    "job = execute(circ, simulator,\n",
    "              basis_gates=noise_phase_flip.basis_gates,\n",
    "              noise_model=noise_phase_flip)\n",
    "result_phase_flip = job.result()\n",
    "counts_phase_flip = result_phase_flip.get_counts(0)\n",
    "\n",
    "# Plot noisy output\n",
    "plot_histogram(counts_phase_flip)"
   ]
  },
  {
   "cell_type": "markdown",
   "metadata": {},
   "source": [
    "As one can see, the phase flip causes some error. Some qubits end up becoming the triplet 0 state expected measurement after the rotation. After all, a rotation about the y-axis allows us to measure the x-components, which should be 00 or 11 for a triplet 0 state and remain at 10 and 01 for a singlet state. The concept of how the compounding of flips in a large number of gates increases the probability of incorrect measurements once again appears here. "
   ]
  },
  {
   "cell_type": "markdown",
   "metadata": {},
   "source": [
    "Test with State Tomography: "
   ]
  },
  {
   "cell_type": "code",
   "execution_count": 16,
   "metadata": {},
   "outputs": [
    {
     "name": "stdout",
     "output_type": "stream",
     "text": [
      "         ┌───┐     ┌───┐┌───┐\n",
      "q7_0: |0>┤ H ├──■──┤ X ├┤ Z ├\n",
      "         └───┘┌─┴─┐└───┘└───┘\n",
      "q7_1: |0>─────┤ X ├──────────\n",
      "              └───┘          \n",
      "[ 0.        +0.j -0.70710678+0.j  0.70710678+0.j  0.        +0.j]\n"
     ]
    }
   ],
   "source": [
    "q2 = QuantumRegister(2)\n",
    "bell = QuantumCircuit(q2)\n",
    "bell.h(q2[0])\n",
    "bell.cx(q2[0], q2[1])\n",
    "bell.x(q2[0])\n",
    "bell.z(q2[0])\n",
    "print(bell)\n",
    "\n",
    "job = qiskit.execute(bell, Aer.get_backend('statevector_simulator'))\n",
    "psi_bell = job.result().get_statevector(bell)\n",
    "print(psi_bell)"
   ]
  },
  {
   "cell_type": "code",
   "execution_count": 17,
   "metadata": {},
   "outputs": [
    {
     "name": "stdout",
     "output_type": "stream",
     "text": [
      "         ┌───┐     ┌───┐┌───┐\n",
      "q8_0: |0>┤ H ├──■──┤ X ├┤ Z ├\n",
      "         └───┘┌─┴─┐└───┘└───┘\n",
      "q8_1: |0>─────┤ X ├──────────\n",
      "              └───┘          \n"
     ]
    }
   ],
   "source": [
    "q2 = QuantumRegister(2)\n",
    "bell = QuantumCircuit(q2)\n",
    "bell.h(q2[0])\n",
    "bell.cx(q2[0], q2[1])\n",
    "bell.x(q2[0])\n",
    "bell.z(q2[0])\n",
    "print(bell)"
   ]
  },
  {
   "cell_type": "code",
   "execution_count": 18,
   "metadata": {},
   "outputs": [
    {
     "name": "stdout",
     "output_type": "stream",
     "text": [
      "Time taken: 0.08377504348754883\n"
     ]
    }
   ],
   "source": [
    "# Generate circuits and run on simulator\n",
    "t = time.time()\n",
    "# Generate the state tomography circuits. \n",
    "p_reset = 0.05\n",
    "p_meas = 0.05\n",
    "p_gate1 = 0.5\n",
    "\n",
    "error_reset = pauli_error([('X', p_reset), ('I', 1 - p_reset)])\n",
    "error_meas = pauli_error([('X',p_meas), ('I', 1 - p_meas)])\n",
    "error_gate1 = pauli_error([('X',p_gate1), ('I', 1 - p_gate1)])\n",
    "error_gate2 = error_gate1.tensor(error_gate1)\n",
    "\n",
    "# Add errors to noise model\n",
    "noise_bit_flip = NoiseModel()\n",
    "noise_bit_flip.add_all_qubit_quantum_error(error_reset, \"reset\")\n",
    "noise_bit_flip.add_all_qubit_quantum_error(error_meas, \"measure\")\n",
    "noise_bit_flip.add_all_qubit_quantum_error(error_gate1, [\"u1\", \"u2\", \"u3\"])\n",
    "noise_bit_flip.add_all_qubit_quantum_error(error_gate2, [\"cx\"])\n",
    "\n",
    "qst_bell = state_tomography_circuits(bell, [q2[0],q2[1]])     \n",
    "\n",
    "# Plot noisy output\n",
    "\n",
    "job2 = qiskit.execute(qst_bell, Aer.get_backend('qasm_simulator'), shots=5000, noise_model =  noise_bit_flip)                          \n",
    "print('Time taken:', time.time() - t)\n",
    "\n",
    "tomo_bell = StateTomographyFitter(job2.result(), qst_bell)"
   ]
  },
  {
   "cell_type": "code",
   "execution_count": 19,
   "metadata": {
    "scrolled": true
   },
   "outputs": [
    {
     "name": "stdout",
     "output_type": "stream",
     "text": [
      "Fit Fidelity = 0.44949394778069396\n",
      "[[ 0.25509719+0.j         -0.00515555-0.00041207j  0.00502858+0.00204017j\n",
      "  -0.20144635-0.00178695j]\n",
      " [-0.00515555+0.00041207j  0.24803098+0.j         -0.20373219-0.00399087j\n",
      "  -0.00447275+0.00383958j]\n",
      " [ 0.00502858-0.00204017j -0.20373219+0.00399087j  0.24349253+0.j\n",
      "   0.00898529+0.00101001j]\n",
      " [-0.20144635+0.00178695j -0.00447275-0.00383958j  0.00898529-0.00101001j\n",
      "   0.25337929+0.j        ]]\n",
      "<qiskit.ignis.verification.tomography.fitters.state_fitter.StateTomographyFitter object at 0x0000017EFB6AC048>\n"
     ]
    }
   ],
   "source": [
    "# Perform the tomography fit\n",
    "# which outputs a density matrix\n",
    "rho_bell = tomo_bell.fit()\n",
    "F_bell = state_fidelity(psi_bell, rho_bell)\n",
    "print('Fit Fidelity =', F_bell)\n",
    "print(rho_bell)\n",
    "print(tomo_bell)"
   ]
  },
  {
   "cell_type": "markdown",
   "metadata": {},
   "source": [
    "As expected, fit fidelity drops from 0.99 to 0.45 in the presence of noise. \n"
   ]
  },
  {
   "cell_type": "markdown",
   "metadata": {},
   "source": [
    "In summary: \n",
    "\n",
    "Bit-flip probabilities accumulate.  The bit-flip does the most damage to the singlet state due to the compounding of probabilities. \n",
    "\n",
    "Phase-flip produces inaccuracies when the y and x components are measured rather than the z due to the switch from the singlet state to the triplet 0 state. However, measuring the z-components, the noise has little to no effect at all. \n",
    "\n",
    "Thermal relaxation probability of 11 is negligible, and as for 00, it depends on the magnitude of the Time with regards to the entered T1. Higher times lead to higher amounts of 00. \n",
    "\n",
    "Amplitude Damping probability of 00 is equal to the entered probability, unlike bit-flip. At low values of p like p = 0.05, then, amplitude damping is less damaging than bit-flip.  "
   ]
  },
  {
   "cell_type": "markdown",
   "metadata": {},
   "source": [
    "Suggested Method to Quantify Accuracy: \n",
    "\n",
    "1 - (|P(11) + P(00)| + 0.5|P(10) - P(01)|) \n",
    "\n",
    "The closer to one this index gets, the worse. A perfect singlet state has index 1. An even distribution would have index 0.5. A completely opposite distribution (only 00 and 11) would have index 0. Similarly, the state of only 10 would have index 0.5, which is also bad. The 0.5 coefficient in the second term is to assign a higher weight to 11 and 00 states, which are completely wrong.\n",
    "\n",
    "This index can also take into account phase, expanding as follows: \n",
    "\n",
    "1 - (|P(11) + P(00)| + 0.5|P(10) - P(01)| + 0.5|P(11) after y-axis rotation by 90 degrees + P(00) after y-axis rotaton by 90 degrees|)\n"
   ]
  },
  {
   "cell_type": "markdown",
   "metadata": {},
   "source": []
  }
 ],
 "metadata": {
  "kernelspec": {
   "display_name": "Python 3",
   "language": "python",
   "name": "python3"
  },
  "language_info": {
   "codemirror_mode": {
    "name": "ipython",
    "version": 3
   },
   "file_extension": ".py",
   "mimetype": "text/x-python",
   "name": "python",
   "nbconvert_exporter": "python",
   "pygments_lexer": "ipython3",
   "version": "3.7.3"
  }
 },
 "nbformat": 4,
 "nbformat_minor": 2
}
