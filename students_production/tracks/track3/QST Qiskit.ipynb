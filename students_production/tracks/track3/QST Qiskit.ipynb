{
 "cells": [
  {
   "cell_type": "code",
   "execution_count": 1,
   "metadata": {},
   "outputs": [],
   "source": [
    "# Needed for functions\n",
    "import numpy as np\n",
    "import time\n",
    "from copy import deepcopy\n",
    "\n",
    "# Import Qiskit classes\n",
    "import qiskit \n",
    "from qiskit import QuantumRegister, QuantumCircuit, ClassicalRegister, Aer\n",
    "from qiskit.quantum_info import state_fidelity\n",
    "from qiskit.providers.aer import noise\n",
    "\n",
    "# Tomography functions\n",
    "from qiskit.ignis.verification.tomography import state_tomography_circuits, StateTomographyFitter\n",
    "import qiskit.ignis.mitigation.measurement as mc"
   ]
  },
  {
   "cell_type": "code",
   "execution_count": 11,
   "metadata": {},
   "outputs": [
    {
     "name": "stdout",
     "output_type": "stream",
     "text": [
      "         ┌───┐┌────────────┐┌────────────┐ ░ ┌─────┐┌───┐┌─┐\n",
      "q5_0: |0>┤ H ├┤ Ry(1.0472) ├┤ Rx(3.1416) ├─░─┤ Sdg ├┤ H ├┤M├\n",
      "         └───┘└────────────┘└────────────┘ ░ └─────┘└───┘└╥┘\n",
      " c8_0: 0 ═════════════════════════════════════════════════╩═\n",
      "                                                            \n",
      " c7_0: 0 ═══════════════════════════════════════════════════\n",
      "                                                            \n"
     ]
    }
   ],
   "source": [
    "#Comparison with my getDensityMatrix Result\n",
    "q = QuantumRegister(1)\n",
    "c = ClassicalRegister(1)\n",
    "circ = QuantumCircuit(q,c)\n",
    "circ.h(q)\n",
    "circ.ry(np.pi/3,q)\n",
    "circ.rx(np.pi,q)\n",
    "\n",
    "qst_bell = state_tomography_circuits(circ, q)\n",
    "job = qiskit.execute(qst_bell, Aer.get_backend('qasm_simulator'), shots=5000)\n",
    "\n",
    "tomo_bell = StateTomographyFitter(job.result(), qst_bell)\n",
    "\n",
    "tomo_bell.fit()"
   ]
  },
  {
   "cell_type": "markdown",
   "metadata": {},
   "source": [
    "Below is the ideal triplet 0 state, which has a density matrix:\n",
    "$$\\rho_{T} =\\begin{bmatrix}   \n",
    "          0&&0&&0&&0\\\\\n",
    "          0&&0.5&&0.5&&0\\\\\n",
    "          0&&0.5&&0.5&&0 \\\\\n",
    "          0&&0&&0&&0\n",
    "          \\end{bmatrix}$$"
   ]
  },
  {
   "cell_type": "code",
   "execution_count": 3,
   "metadata": {},
   "outputs": [
    {
     "name": "stdout",
     "output_type": "stream",
     "text": [
      "         ┌───┐     \n",
      "q1_0: |0>┤ H ├──■──\n",
      "         ├───┤┌─┴─┐\n",
      "q1_1: |0>┤ X ├┤ X ├\n",
      "         └───┘└───┘\n",
      "[0.        +0.j 0.70710678+0.j 0.70710678+0.j 0.        +0.j]\n"
     ]
    }
   ],
   "source": [
    "# Create the expected density matrix\n",
    "q2 = QuantumRegister(2)\n",
    "bell = QuantumCircuit(q2)\n",
    "bell.x(q2[1])\n",
    "bell.h(q2[0])\n",
    "bell.cx(q2[0], q2[1])\n",
    "print(bell)\n",
    "\n",
    "job = qiskit.execute(bell, Aer.get_backend('statevector_simulator'))\n",
    "psi_bell = job.result().get_statevector(bell)\n",
    "print(psi_bell)"
   ]
  },
  {
   "cell_type": "markdown",
   "metadata": {},
   "source": [
    "Below, an actual circuit is created where we run state tomography on 2 registers which is a reduced Hilbert space $2^{2}$ instead of $2^{6}$."
   ]
  },
  {
   "cell_type": "code",
   "execution_count": 4,
   "metadata": {},
   "outputs": [
    {
     "name": "stdout",
     "output_type": "stream",
     "text": [
      "                   \n",
      "q2_0: |0>──────────\n",
      "                   \n",
      "q2_1: |0>──────────\n",
      "                   \n",
      "q2_2: |0>──────────\n",
      "         ┌───┐     \n",
      "q2_3: |0>┤ H ├──■──\n",
      "         └───┘  │  \n",
      "q2_4: |0>───────┼──\n",
      "         ┌───┐┌─┴─┐\n",
      "q2_5: |0>┤ X ├┤ X ├\n",
      "         └───┘└───┘\n"
     ]
    }
   ],
   "source": [
    "# Create the actual circuit \n",
    "q2 = QuantumRegister(6)\n",
    "bell = QuantumCircuit(q2)\n",
    "bell.x(q2[5])\n",
    "bell.h(q2[3])\n",
    "bell.cx(q2[3], q2[5])\n",
    "print(bell)"
   ]
  },
  {
   "cell_type": "markdown",
   "metadata": {},
   "source": [
    "Below the qst_bell circuits are printed out in order to see the kinds of circuits QISKit is using to run the state tomography as opposed to what we used to code the density matrix. QISKit is using 9 circuits to which they apply the gates specified above, and then they run a measurement and apply an $H$ and $S^{t}$ and then do another measurement. The $H$ rotates a qubit 90 degrees about the Y-axis and 180 degrees about the X-axis, while the $S^{t}$ a clockwise $\\sqrt{Z}$ rotation. They are using Clifford gates to get the components of the density matrix while in our version of the Density Matrix Code we used the Pauli Matrices to rotate about each axis."
   ]
  },
  {
   "cell_type": "code",
   "execution_count": 5,
   "metadata": {
    "scrolled": true
   },
   "outputs": [
    {
     "name": "stdout",
     "output_type": "stream",
     "text": [
      "Time taken: 0.2920570373535156\n",
      "[<qiskit.circuit.quantumcircuit.QuantumCircuit object at 0x000001EF7FC49400>, <qiskit.circuit.quantumcircuit.QuantumCircuit object at 0x000001EF0C28B3C8>, <qiskit.circuit.quantumcircuit.QuantumCircuit object at 0x000001EF0C28B400>, <qiskit.circuit.quantumcircuit.QuantumCircuit object at 0x000001EF0C28B940>, <qiskit.circuit.quantumcircuit.QuantumCircuit object at 0x000001EF0C255898>, <qiskit.circuit.quantumcircuit.QuantumCircuit object at 0x000001EF0C2559B0>, <qiskit.circuit.quantumcircuit.QuantumCircuit object at 0x000001EF0C255400>, <qiskit.circuit.quantumcircuit.QuantumCircuit object at 0x000001EF0C255048>, <qiskit.circuit.quantumcircuit.QuantumCircuit object at 0x000001EF0C226940>]\n"
     ]
    },
    {
     "data": {
      "text/html": [
       "<pre style=\"word-wrap: normal;white-space: pre;line-height: 15px;\">                    ░                   \n",
       "q2_0: |0>───────────░───────────────────\n",
       "                    ░                   \n",
       "q2_1: |0>───────────░───────────────────\n",
       "                    ░                   \n",
       "q2_2: |0>───────────░───────────────────\n",
       "         ┌───┐      ░ ┌─────┐┌───┐┌─┐   \n",
       "q2_3: |0>┤ H ├──■───░─┤ Sdg ├┤ H ├┤M├───\n",
       "         └───┘  │   ░ └─────┘└───┘└╥┘   \n",
       "q2_4: |0>───────┼───░──────────────╫────\n",
       "         ┌───┐┌─┴─┐ ░ ┌─────┐┌───┐ ║ ┌─┐\n",
       "q2_5: |0>┤ X ├┤ X ├─░─┤ Sdg ├┤ H ├─╫─┤M├\n",
       "         └───┘└───┘ ░ └─────┘└───┘ ║ └╥┘\n",
       " c2_0: 0 ══════════════════════════╩══╬═\n",
       "                                      ║ \n",
       " c2_1: 0 ═════════════════════════════╩═\n",
       "                                        </pre>"
      ],
      "text/plain": [
       "<qiskit.visualization.text.TextDrawing at 0x1ef0c245dd8>"
      ]
     },
     "execution_count": 5,
     "metadata": {},
     "output_type": "execute_result"
    }
   ],
   "source": [
    "# Generate circuits and run on simulator\n",
    "t = time.time()\n",
    "# Generate the state tomography circuits. Only pass in the \n",
    "# registers we want to measure (in this case 3 and 5)\n",
    "qst_bell = state_tomography_circuits(bell, [q2[3],q2[5]])\n",
    "job = qiskit.execute(qst_bell, Aer.get_backend('qasm_simulator'), shots=5000)\n",
    "print('Time taken:', time.time() - t)\n",
    "\n",
    "tomo_bell = StateTomographyFitter(job.result(), qst_bell)\n",
    "print(qst_bell)\n",
    "qst_bell[4].draw()"
   ]
  },
  {
   "cell_type": "markdown",
   "metadata": {},
   "source": [
    "The fitter outputs a density matrix that corresponds to the number of registers passed in. This makes sense because there were only two registers passed in. The fit fidelity corresponds to the amount of state overlap between the theoretical state and the actual state."
   ]
  },
  {
   "cell_type": "code",
   "execution_count": 8,
   "metadata": {},
   "outputs": [
    {
     "name": "stdout",
     "output_type": "stream",
     "text": [
      "[[ 2.04952284e-03+0.j          4.43737244e-03-0.00373999j\n",
      "   3.82841738e-03-0.00426347j  1.67631195e-04+0.00206756j]\n",
      " [ 4.43737244e-03+0.00373999j  5.02730560e-01+0.j\n",
      "   4.97732362e-01-0.00016901j -6.33018959e-03+0.00550803j]\n",
      " [ 3.82841738e-03+0.00426347j  4.97732362e-01+0.00016901j\n",
      "   4.93101837e-01+0.j         -6.87714931e-03+0.00494208j]\n",
      " [ 1.67631195e-04-0.00206756j -6.33018959e-03-0.00550803j\n",
      "  -6.87714931e-03-0.00494208j  2.11807959e-03+0.j        ]]\n",
      "Fit Fidelity = 0.99564856117508\n"
     ]
    },
    {
     "data": {
      "text/plain": [
       "array([[ 0.  +0.j  ,  0.  -0.j  ,  0.  -0.j  ,  0.  +0.j  ],\n",
       "       [ 0.  +0.j  ,  0.5 +0.j  ,  0.5 -0.j  , -0.01+0.01j],\n",
       "       [ 0.  +0.j  ,  0.5 +0.j  ,  0.49+0.j  , -0.01+0.j  ],\n",
       "       [ 0.  -0.j  , -0.01-0.01j, -0.01-0.j  ,  0.  +0.j  ]])"
      ]
     },
     "execution_count": 8,
     "metadata": {},
     "output_type": "execute_result"
    }
   ],
   "source": [
    "# Perform the tomography fit\n",
    "# which outputs a density matrix\n",
    "rho_bell = tomo_bell.fit()\n",
    "F_bell = state_fidelity(psi_bell, rho_bell)\n",
    "print(rho_bell)# Density Matrix\n",
    "print('Fit Fidelity =', F_bell)\n",
    "\n",
    "np.round_(rho_bell,2)\n"
   ]
  },
  {
   "cell_type": "code",
   "execution_count": null,
   "metadata": {},
   "outputs": [],
   "source": []
  }
 ],
 "metadata": {
  "kernelspec": {
   "display_name": "Python 3",
   "language": "python",
   "name": "python3"
  },
  "language_info": {
   "codemirror_mode": {
    "name": "ipython",
    "version": 3
   },
   "file_extension": ".py",
   "mimetype": "text/x-python",
   "name": "python",
   "nbconvert_exporter": "python",
   "pygments_lexer": "ipython3",
   "version": "3.7.3"
  }
 },
 "nbformat": 4,
 "nbformat_minor": 2
}
