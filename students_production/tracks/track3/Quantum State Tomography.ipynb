{
 "cells": [
  {
   "cell_type": "code",
   "execution_count": 1,
   "metadata": {},
   "outputs": [],
   "source": [
    "# Needed for functions\n",
    "import numpy as np\n",
    "import time\n",
    "from copy import deepcopy\n",
    "\n",
    "# Import Qiskit classes\n",
    "import qiskit \n",
    "from qiskit import QuantumRegister, QuantumCircuit, ClassicalRegister, Aer\n",
    "from qiskit.quantum_info import state_fidelity\n",
    "from qiskit.providers.aer import noise\n",
    "\n",
    "# Tomography functions\n",
    "from qiskit.ignis.verification.tomography import state_tomography_circuits, StateTomographyFitter\n",
    "import qiskit.ignis.mitigation.measurement as mc"
   ]
  },
  {
   "cell_type": "code",
   "execution_count": 2,
   "metadata": {
    "scrolled": true
   },
   "outputs": [
    {
     "name": "stdout",
     "output_type": "stream",
     "text": [
      "[0.70710678+0.j 0.        +0.j 0.        +0.j 0.70710678+0.j]\n"
     ]
    }
   ],
   "source": [
    "q = QuantumRegister(2)\n",
    "c = ClassicalRegister(2)\n",
    "circ = QuantumCircuit(q, c)\n",
    "\n",
    "circ.h(0)\n",
    "circ.cx(q[0], q[1])\n",
    "\n",
    "job = qiskit.execute(circ, Aer.get_backend('statevector_simulator'))\n",
    "psi = job.result().get_statevector(circ)\n",
    "print(psi)"
   ]
  },
  {
   "cell_type": "code",
   "execution_count": 3,
   "metadata": {},
   "outputs": [
    {
     "name": "stdout",
     "output_type": "stream",
     "text": [
      "                   \n",
      "q1_0: |0>──────────\n",
      "                   \n",
      "q1_1: |0>──────────\n",
      "                   \n",
      "q1_2: |0>──────────\n",
      "         ┌───┐     \n",
      "q1_3: |0>┤ H ├──■──\n",
      "         └───┘  │  \n",
      "q1_4: |0>───────┼──\n",
      "              ┌─┴─┐\n",
      "q1_5: |0>─────┤ X ├\n",
      "              └───┘\n"
     ]
    }
   ],
   "source": [
    "q2 = QuantumRegister(6)\n",
    "circ1 = QuantumCircuit(q2)\n",
    "circ1.h(q2[3])\n",
    "circ1.cx(q2[3], q2[5])\n",
    "print(circ1)"
   ]
  },
  {
   "cell_type": "code",
   "execution_count": 4,
   "metadata": {},
   "outputs": [
    {
     "name": "stdout",
     "output_type": "stream",
     "text": [
      "Time taken: 0.3058938980102539\n"
     ]
    }
   ],
   "source": [
    "# Generate circuits and run on simulator\n",
    "t = time.time()\n",
    "# Generate the state tomography circuits. Only pass in the \n",
    "# registers we want to measure (in this case 3 and 5)\n",
    "qst_circ = state_tomography_circuits(circ1, [q2[3],q2[5]])\n",
    "job = qiskit.execute(qst_circ, Aer.get_backend('qasm_simulator'), shots=5000)\n",
    "tomo_bell = StateTomographyFitter(job.result(), qst_circ)\n",
    "print('Time taken:', time.time() - t)"
   ]
  },
  {
   "cell_type": "code",
   "execution_count": 5,
   "metadata": {},
   "outputs": [
    {
     "name": "stdout",
     "output_type": "stream",
     "text": [
      "[[ 0.49955096+0.j          0.00151405-0.0001381j  -0.00088404-0.00642248j\n",
      "   0.49588745-0.00799029j]\n",
      " [ 0.00151405+0.0001381j   0.00168417+0.j         -0.0006168 -0.001584j\n",
      "   0.00308251-0.00218284j]\n",
      " [-0.00088404+0.00642248j -0.0006168 +0.001584j    0.00176693+0.j\n",
      "   0.00078493+0.00870048j]\n",
      " [ 0.49588745+0.00799029j  0.00308251+0.00218284j  0.00078493-0.00870048j\n",
      "   0.49699794+0.j        ]]\n"
     ]
    }
   ],
   "source": [
    "rho_bell = tomo_bell.fit()\n",
    "print(rho_bell)"
   ]
  }
 ],
 "metadata": {
  "kernelspec": {
   "display_name": "Python 3",
   "language": "python",
   "name": "python3"
  },
  "language_info": {
   "codemirror_mode": {
    "name": "ipython",
    "version": 3
   },
   "file_extension": ".py",
   "mimetype": "text/x-python",
   "name": "python",
   "nbconvert_exporter": "python",
   "pygments_lexer": "ipython3",
   "version": "3.7.3"
  }
 },
 "nbformat": 4,
 "nbformat_minor": 2
}
