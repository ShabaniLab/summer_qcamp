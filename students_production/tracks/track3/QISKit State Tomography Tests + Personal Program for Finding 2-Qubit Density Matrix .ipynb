{
 "cells": [
  {
   "cell_type": "markdown",
   "metadata": {},
   "source": [
    "## QISKit STATE TOMOGRAPHY TESTS"
   ]
  },
  {
   "cell_type": "code",
   "execution_count": 1,
   "metadata": {},
   "outputs": [],
   "source": [
    "import numpy as np\n",
    "import math \n",
    "from qiskit import(\n",
    "  QuantumCircuit,\n",
    "  execute,\n",
    "  Aer)\n",
    "from qiskit import *\n",
    "from qiskit.visualization import *\n",
    "import matplotlib as pyplot\n",
    "\n",
    "# Needed for functions\n",
    "import numpy as np\n",
    "import time\n",
    "\n",
    "# Import QISKit classes\n",
    "import qiskit\n",
    "from qiskit import QuantumRegister, QuantumCircuit, Aer\n",
    "from qiskit.quantum_info import state_fidelity, process_fidelity\n",
    "from qiskit.tools.qi.qi import outer\n",
    "\n",
    "# Tomography functions\n",
    "from qiskit.ignis.verification.tomography import process_tomography_circuits, ProcessTomographyFitter\n",
    "\n",
    "# Needed for functions\n",
    "import numpy as np\n",
    "import time\n",
    "from copy import deepcopy\n",
    "\n",
    "# Import Qiskit classes\n",
    "import qiskit \n",
    "from qiskit import QuantumRegister, QuantumCircuit, ClassicalRegister, Aer\n",
    "from qiskit.quantum_info import state_fidelity\n",
    "from qiskit.providers.aer import noise\n",
    "\n",
    "# Tomography functions\n",
    "from qiskit.ignis.verification.tomography import state_tomography_circuits, StateTomographyFitter\n",
    "import qiskit.ignis.mitigation.measurement as mc"
   ]
  },
  {
   "cell_type": "markdown",
   "metadata": {},
   "source": [
    "Import all of the necessary statements. "
   ]
  },
  {
   "cell_type": "code",
   "execution_count": 2,
   "metadata": {},
   "outputs": [
    {
     "name": "stdout",
     "output_type": "stream",
     "text": [
      "         ┌───┐               \n",
      "q0_0: |0>┤ H ├──■────────────\n",
      "         └───┘┌─┴─┐┌───┐┌───┐\n",
      "q0_1: |0>─────┤ X ├┤ X ├┤ Z ├\n",
      "              └───┘└───┘└───┘\n",
      "[ 0.        +0.j  0.70710678+0.j -0.70710678+0.j  0.        +0.j]\n"
     ]
    }
   ],
   "source": [
    "q1 = QuantumRegister(2)\n",
    "bell = QuantumCircuit(q1)\n",
    "bell.h(q1[0])\n",
    "bell.cx(q1[0], q1[1])\n",
    "bell.x(q1[1])\n",
    "bell.z(q1[1])\n",
    "print(bell)\n",
    "\n",
    "job = qiskit.execute(bell, Aer.get_backend('statevector_simulator'))\n",
    "psi_bell = job.result().get_statevector(bell)\n",
    "print(psi_bell)"
   ]
  },
  {
   "cell_type": "code",
   "execution_count": 3,
   "metadata": {},
   "outputs": [
    {
     "name": "stdout",
     "output_type": "stream",
     "text": [
      "Time taken: 0.14138412475585938\n"
     ]
    }
   ],
   "source": [
    "# Generate circuits and run on simulator\n",
    "t = time.time()\n",
    "qst_bell = state_tomography_circuits(bell, [q1[0],q1[1]])                      \n",
    "job = qiskit.execute(qst_bell, Aer.get_backend('qasm_simulator'), shots=5000)                          \n",
    "print('Time taken:', time.time() - t)\n",
    "\n",
    "tomo_bell = StateTomographyFitter(job.result(), qst_bell)"
   ]
  },
  {
   "cell_type": "code",
   "execution_count": 4,
   "metadata": {},
   "outputs": [
    {
     "name": "stdout",
     "output_type": "stream",
     "text": [
      "Fit Fidelity = 0.9972534122393771\n",
      "[[ 7.33564413e-04+0.j          3.50309564e-03+0.00507433j\n",
      "  -2.43656684e-03-0.00575088j -2.75487759e-04+0.00064332j]\n",
      " [ 3.50309564e-03-0.00507433j  5.03208507e-01+0.j\n",
      "  -4.97965260e-01+0.00315219j  4.17776822e-04+0.00331181j]\n",
      " [-2.43656684e-03+0.00575088j -4.97965260e-01-0.00315219j\n",
      "   4.95367798e-01+0.j         -1.49148710e-03-0.00256557j]\n",
      " [-2.75487759e-04-0.00064332j  4.17776822e-04-0.00331181j\n",
      "  -1.49148710e-03+0.00256557j  6.90130373e-04+0.j        ]]\n",
      "<qiskit.ignis.verification.tomography.fitters.state_fitter.StateTomographyFitter object at 0x000001FDA922C0F0>\n"
     ]
    }
   ],
   "source": [
    "# Perform the tomography fit\n",
    "# which outputs a density matrix\n",
    "rho_bell = tomo_bell.fit()\n",
    "F_bell = state_fidelity(psi_bell, rho_bell)\n",
    "print('Fit Fidelity =', F_bell)\n",
    "print(rho_bell)\n",
    "print(tomo_bell)"
   ]
  },
  {
   "cell_type": "markdown",
   "metadata": {},
   "source": [
    "Singlet State Overall Density Matrix! It should be the following:              \n",
    "\n",
    "{0, 0, 0, 0},\n",
    "{0, .5, -.5, 0},\n",
    "{0, -.5, .5, 0},\n",
    "{0, 0, 0, 0}\n",
    "\n",
    "This density matrix was verified by hand by taking the outer product of the whole singlet state. This required using the distributive property to expand the product into 4 separate outer products and then calculating and summing each one. The basis vectors used to represent the states uu, ud, du, and dd were the four standard basis vectors. "
   ]
  },
  {
   "cell_type": "code",
   "execution_count": 5,
   "metadata": {},
   "outputs": [
    {
     "name": "stdout",
     "output_type": "stream",
     "text": [
      "         ┌───┐     ┌───┐\n",
      "q1_0: |0>┤ H ├──■──┤ X ├\n",
      "         └───┘┌─┴─┐└───┘\n",
      "q1_1: |0>─────┤ X ├─────\n",
      "              └───┘     \n",
      "[0.        +0.j 0.70710678+0.j 0.70710678+0.j 0.        +0.j]\n"
     ]
    }
   ],
   "source": [
    "q2 = QuantumRegister(2)\n",
    "bell = QuantumCircuit(q2)\n",
    "bell.h(q2[0])\n",
    "bell.cx(q2[0], q2[1])\n",
    "bell.x(q2[0])\n",
    "print(bell)\n",
    "\n",
    "job = qiskit.execute(bell, Aer.get_backend('statevector_simulator'))\n",
    "psi_bell = job.result().get_statevector(bell)\n",
    "print(psi_bell)"
   ]
  },
  {
   "cell_type": "code",
   "execution_count": 6,
   "metadata": {},
   "outputs": [
    {
     "name": "stdout",
     "output_type": "stream",
     "text": [
      "         ┌───┐          \n",
      "q2_0: |0>┤ H ├──■───────\n",
      "         └───┘┌─┴─┐┌───┐\n",
      "q2_1: |0>─────┤ X ├┤ X ├\n",
      "              └───┘└───┘\n"
     ]
    }
   ],
   "source": [
    "q2 = QuantumRegister(2)\n",
    "bell = QuantumCircuit(q2)\n",
    "bell.h(q2[0])\n",
    "bell.cx(q2[0], q2[1])\n",
    "bell.x(q2[1])\n",
    "print(bell)"
   ]
  },
  {
   "cell_type": "code",
   "execution_count": 7,
   "metadata": {},
   "outputs": [
    {
     "name": "stdout",
     "output_type": "stream",
     "text": [
      "Time taken: 0.12561631202697754\n"
     ]
    }
   ],
   "source": [
    "# Generate circuits and run on simulator\n",
    "t = time.time()\n",
    "qst_bell = state_tomography_circuits(bell, [q2[0],q2[1]])                      \n",
    "job = qiskit.execute(qst_bell, Aer.get_backend('qasm_simulator'), shots=5000)                       \n",
    "print('Time taken:', time.time() - t)\n",
    "\n",
    "tomo_bell = StateTomographyFitter(job.result(), qst_bell)"
   ]
  },
  {
   "cell_type": "code",
   "execution_count": 8,
   "metadata": {},
   "outputs": [
    {
     "name": "stdout",
     "output_type": "stream",
     "text": [
      "Fit Fidelity = 0.997494916041054\n",
      "[[ 6.23330756e-04+0.j          1.94411660e-03-0.000185j\n",
      "   1.15670610e-03+0.00077037j -1.26203280e-04-0.00060095j]\n",
      " [ 1.94411660e-03+0.000185j    5.03417832e-01+0.j\n",
      "   4.98115167e-01-0.00257822j  1.77879500e-03-0.00045765j]\n",
      " [ 1.15670610e-03-0.00077037j  4.98115167e-01+0.00257822j\n",
      "   4.95341666e-01+0.j          9.91310358e-04+0.00050877j]\n",
      " [-1.26203280e-04+0.00060095j  1.77879500e-03+0.00045765j\n",
      "   9.91310358e-04-0.00050877j  6.17171060e-04+0.j        ]]\n",
      "<qiskit.ignis.verification.tomography.fitters.state_fitter.StateTomographyFitter object at 0x000001FDA9257F28>\n"
     ]
    }
   ],
   "source": [
    "# Perform the tomography fit\n",
    "# which outputs a density matrix\n",
    "rho_bell = tomo_bell.fit()\n",
    "F_bell = state_fidelity(psi_bell, rho_bell)\n",
    "print('Fit Fidelity =', F_bell)\n",
    "print(rho_bell)\n",
    "print(tomo_bell)"
   ]
  },
  {
   "cell_type": "raw",
   "metadata": {},
   "source": [
    "Here, we have performed a Quantum State Tomography on a triplet 0 state. As expected, the density matrix is as follows: \n",
    "\n",
    "{0, 0, 0, 0} \n",
    "{0, .5, .5, 0} \n",
    "{0, .5, .5, 0} \n",
    "{0, 0, 0, 0} \n",
    "\n",
    "For the 4 non-zero elements, one of them was over-estimated, while the other 3 were under-estimated. \n",
    "\n",
    "This density matrix was verified by hand by taking the outer product of the whole triplet zero state. This required using the distributive property to expand the product into 4 separate outer products and then calculating and summing each one. The basis vectors used to represent the states uu, ud, du, and dd were the four standard basis vectors. "
   ]
  },
  {
   "cell_type": "code",
   "execution_count": 9,
   "metadata": {},
   "outputs": [
    {
     "name": "stdout",
     "output_type": "stream",
     "text": [
      "         ┌───┐\n",
      "q3_0: |0>┤ H ├\n",
      "         └───┘\n",
      "[0.70710678+0.j 0.70710678+0.j]\n"
     ]
    }
   ],
   "source": [
    "q3 = QuantumRegister(1)\n",
    "circuit = QuantumCircuit(q3)\n",
    "circuit.h(q3[0])\n",
    "print(circuit)\n",
    "\n",
    "job = qiskit.execute(circuit, Aer.get_backend('statevector_simulator'))\n",
    "psi = job.result().get_statevector(circuit)\n",
    "print(psi)"
   ]
  },
  {
   "cell_type": "code",
   "execution_count": 10,
   "metadata": {},
   "outputs": [
    {
     "name": "stdout",
     "output_type": "stream",
     "text": [
      "Time taken: 0.03858804702758789\n"
     ]
    }
   ],
   "source": [
    "t = time.time()\n",
    "qst = state_tomography_circuits(circuit, [q3[0]])                      \n",
    "job = qiskit.execute(qst, Aer.get_backend('qasm_simulator'), shots=5000)                          \n",
    "print('Time taken:', time.time() - t)\n",
    "tomo = StateTomographyFitter(job.result(), qst)"
   ]
  },
  {
   "cell_type": "code",
   "execution_count": 11,
   "metadata": {},
   "outputs": [
    {
     "name": "stdout",
     "output_type": "stream",
     "text": [
      "Fit Fidelity = 0.9999666833302974\n",
      "[[0.49440037+0.j         0.49996668+0.00139991j]\n",
      " [0.49996668-0.00139991j 0.50559963+0.j        ]]\n",
      "<qiskit.ignis.verification.tomography.fitters.state_fitter.StateTomographyFitter object at 0x000001FDA925E470>\n"
     ]
    }
   ],
   "source": [
    "# Perform the tomography fit\n",
    "# which outputs a density matrix\n",
    "rho = tomo.fit()\n",
    "F_bell = state_fidelity(psi, rho)\n",
    "print('Fit Fidelity =', F_bell)\n",
    "print(rho)\n",
    "print(tomo)"
   ]
  },
  {
   "cell_type": "raw",
   "metadata": {},
   "source": [
    "Now I tested it on a single qubit with a single H gate applied to it. Using the standard basis for two dimensions and an outer product expansion, I found that the expected density matrix is \n",
    "{.5, .5} \n",
    "{.5, .5}. \n",
    "\n",
    "This matches the results of the state tomography. Once again, density matrices come close to the expected density matrices for the various states that are prepared. The error will go down as the number of shots increases.  \n"
   ]
  },
  {
   "cell_type": "markdown",
   "metadata": {},
   "source": [
    "\n",
    "\n",
    "## PERSONAL PROGRAM FOR FINDING 2-QUBIT DENSITY MATRIX"
   ]
  },
  {
   "cell_type": "markdown",
   "metadata": {},
   "source": [
    "\n",
    "HOW THIS PROCESS WORKS: \n",
    "\n",
    "For a 2-qubit system, you have Stoke's Parameters, given by every possible combination of the I, x, y, and z components for both qubits. Find the expectation value of each one. (For example, the expectation value of iz is just the expectation value of the second qubit's z-component, as we are ignoring the first qubit's component value. The expectation value of xx is the expectation value of the product of the x-components of the first and second qubit).  Then, for a two-qubit system, you have the density matrix equalling the following: \n",
    "\n",
    "Sum of all <r, s> * (Tensor Product of r, s).  Note that the latter Tensor Product is a 4x4 matrix, as it is the tensor product of two 2x2 matrices. The former <r, s> represents the expectation value of the product of the r and s components. \n",
    " \n",
    "However, note that while r and s can be x, y, z, or I, both of them cannot be I, as you already know the value of that expectation value. So you have 4 * 4 - 1 necessary measurements. However, this can be reduced further to 9 measurements. The 6 product values with an i in them can be calculated without any new measurements. For example, the expectation value of iz can be just calculated by taking the average of the measured values in the second qubit when taking measurements on both z-components. Finding the expectation value of the product of the z-components also gives you the expectation value of either z-component alone (iz and zi). \n",
    "\n",
    "In the below cells, I have programmed my own version of a Density Matrix calculator for a 2-qubit system. This involved writing a method to find the tensor product matrix, a method to calculate Expectation Values for different combinations of I, x, y, and z, and a method to ultimately use the expectation values and tensor product matrices to find the final density matrix. \n"
   ]
  },
  {
   "cell_type": "code",
   "execution_count": 12,
   "metadata": {},
   "outputs": [],
   "source": [
    "def getDensityMatrix(quantumcircuit, quantumRegister, classicalRegister) : \n",
    "    matrixX = ([0, 1],[1, 0])\n",
    "    matrixZ = ([1, 0], [0,-1])\n",
    "    matrixY = ([0, -1j],[1j, 0])\n",
    "    matrixI = ([1,0],[0,1])\n",
    "  \n",
    "    newxx = deepcopy(quantumcircuit)\n",
    "    newyy = deepcopy(quantumcircuit)\n",
    "    newzz = deepcopy(quantumcircuit)\n",
    "    newxz = deepcopy(quantumcircuit)\n",
    "    newxy = deepcopy(quantumcircuit)\n",
    "    newyz = deepcopy(quantumcircuit)\n",
    "    newyx = deepcopy(quantumcircuit)\n",
    "    newzx = deepcopy(quantumcircuit)\n",
    "    newzy = deepcopy(quantumcircuit)\n",
    "    \n",
    "    #Find the xx part of the density matrix \n",
    "    dictionaryExpectationValue = {}\n",
    "    \n",
    "    newxx.ry(math.pi/2, quantumRegister)\n",
    "    counts = getCounts(newxx, quantumRegister, classicalRegister)\n",
    "    dictionaryExpectationValue[\"xx\"] = getExpectationValue(counts)    \n",
    "    dictionaryExpectationValue[\"xi\"] = getExpectationValueFirst(counts) \n",
    "    dictionaryExpectationValue[\"ix\"] = getExpectationValueSecond(counts)\n",
    "    \n",
    "    newyy.rx(math.pi/2,quantumRegister) \n",
    "    counts = getCounts(newyy, quantumRegister, classicalRegister)\n",
    "    dictionaryExpectationValue[\"yy\"] = getExpectationValue(counts)\n",
    "    dictionaryExpectationValue[\"yi\"] = getExpectationValueFirst(counts) \n",
    "    dictionaryExpectationValue[\"iy\"] = getExpectationValueSecond(counts)\n",
    "    \n",
    "    counts = getCounts(newzz, quantumRegister, classicalRegister)\n",
    "    dictionaryExpectationValue[\"zz\"] = getExpectationValue(counts) \n",
    "    dictionaryExpectationValue[\"zi\"] = getExpectationValueFirst(counts) \n",
    "    dictionaryExpectationValue[\"iz\"] = getExpectationValueSecond(counts)\n",
    "    \n",
    "    newxz.ry(math.pi/2, quantumRegister[0])\n",
    "    counts = getCounts(newxz, quantumRegister, classicalRegister)\n",
    "    dictionaryExpectationValue[\"xz\"] = getExpectationValue(counts)\n",
    "    \n",
    "    newxy.ry(math.pi/2, quantumRegister[0])\n",
    "    newxy.rx(math.pi/2, quantumRegister[1])\n",
    "    counts = getCounts(newxy, quantumRegister, classicalRegister)\n",
    "    dictionaryExpectationValue[\"xy\"] = getExpectationValue(counts)\n",
    "    \n",
    "    newyz.rx(math.pi/2, quantumRegister[0])\n",
    "    counts = getCounts(newyz, quantumRegister, classicalRegister)\n",
    "    dictionaryExpectationValue[\"yz\"] = getExpectationValue(counts)\n",
    "    \n",
    "    newyx.rx(math.pi/2, quantumRegister[0])\n",
    "    newyx.ry(math.pi/2, quantumRegister[1])\n",
    "    counts = getCounts(newyx, quantumRegister, classicalRegister)\n",
    "    dictionaryExpectationValue[\"yx\"] = getExpectationValue(counts)\n",
    "    \n",
    "    newzx.ry(math.pi/2, quantumRegister[1])\n",
    "    counts = getCounts(newzx, quantumRegister, classicalRegister)\n",
    "    dictionaryExpectationValue[\"zx\"] = getExpectationValue(counts)\n",
    "    \n",
    "    newzy.rx(math.pi/2, quantumRegister[1])\n",
    "    counts = getCounts(newzy, quantumRegister, classicalRegister)\n",
    "    dictionaryExpectationValue[\"zy\"] = getExpectationValue(counts)\n",
    "    \n",
    "    resultantMatrix = [[0,0,0,0],[0,0,0,0],[0,0,0,0],[0,0,0,0]] \n",
    "    \n",
    "    print(dictionaryExpectationValue)\n",
    "    for i in range(0, 4):\n",
    "        for j in range(0, 4):\n",
    "            resultantMatrix[i][j] = ((dictionaryExpectationValue.get(\"xx\") * kronecker(matrixX, matrixX)[i][j]) + (dictionaryExpectationValue.get(\"yy\") \n",
    "            * kronecker(matrixY, matrixY)[i][j]) + (dictionaryExpectationValue.get(\"zz\") * kronecker(matrixZ, matrixZ)[i][j])\n",
    "            + kronecker(matrixI, matrixI)[i][j] + (dictionaryExpectationValue.get(\"xy\") * kronecker(matrixX, matrixY)[i][j]) + (dictionaryExpectationValue.get(\"xz\") * kronecker(matrixX, matrixZ)[i][j])\n",
    "            + (dictionaryExpectationValue.get(\"yz\") * kronecker(matrixY, matrixZ)[i][j]) + (dictionaryExpectationValue.get(\"yx\") * kronecker(matrixY, matrixX)[i][j])\n",
    "            + (dictionaryExpectationValue.get(\"zx\") * kronecker(matrixZ, matrixX)[i][j]) + (dictionaryExpectationValue.get(\"zy\") * kronecker(matrixZ, matrixY)[i][j])\n",
    "            + (dictionaryExpectationValue.get(\"xi\") * kronecker(matrixX, matrixI)[i][j]) + (dictionaryExpectationValue.get(\"yi\") * kronecker(matrixY, matrixI)[i][j]) \n",
    "            + (dictionaryExpectationValue.get(\"zi\") * kronecker(matrixZ, matrixI)[i][j]) + (dictionaryExpectationValue.get(\"ix\") * kronecker(matrixI, matrixX)[i][j])\n",
    "            + (dictionaryExpectationValue.get(\"iy\") * kronecker(matrixI, matrixY)[i][j]) + (dictionaryExpectationValue.get(\"iz\") * kronecker(matrixI, matrixZ)[i][j]))\n",
    "            resultantMatrix[i][j] = resultantMatrix[i][j]/4\n",
    "            resultantMatrix[i][j] = round(resultantMatrix[i][j].real, 3) + round(resultantMatrix[i][j].imag, 3)\n",
    "           \n",
    "        \n",
    "    return resultantMatrix "
   ]
  },
  {
   "cell_type": "code",
   "execution_count": 13,
   "metadata": {},
   "outputs": [],
   "source": [
    "def getExpectationValueFirst(counts) : \n",
    "    expectationValue = (1 * counts.get('00',0) + -1 * counts.get('11',0) + -1 * counts.get('10',0) + 1 * counts.get('01',0))/100000\n",
    "    return expectationValue "
   ]
  },
  {
   "cell_type": "code",
   "execution_count": 14,
   "metadata": {},
   "outputs": [],
   "source": [
    "def getExpectationValueSecond(counts) : \n",
    "    expectationValue = (1 * counts.get('00',0) + -1 * counts.get('11',0) + 1 * counts.get('10',0) + -1 * counts.get('01',0))/100000\n",
    "    return expectationValue "
   ]
  },
  {
   "cell_type": "code",
   "execution_count": 15,
   "metadata": {},
   "outputs": [],
   "source": [
    "def getExpectationValue(counts) : \n",
    "    expectationValue = (1 * counts.get('00', 0) + 1 * counts.get('11',0) + -1 * counts.get('10', 0) + -1 * counts.get('01',0))/100000\n",
    "    return expectationValue"
   ]
  },
  {
   "cell_type": "code",
   "execution_count": 16,
   "metadata": {},
   "outputs": [],
   "source": [
    "def getCounts(circuit, quantumRegister, classicalRegister) :\n",
    "    simulator = Aer.get_backend('qasm_simulator') \n",
    "    newCircuit = deepcopy(circuit)\n",
    "    newCircuit.measure(quantumRegister, classicalRegister)\n",
    "    job = execute(newCircuit, simulator, shots=100000)\n",
    "    result = job.result()\n",
    "    counts = result.get_counts(circuit)    \n",
    "    return counts "
   ]
  },
  {
   "cell_type": "code",
   "execution_count": 17,
   "metadata": {},
   "outputs": [],
   "source": [
    "def kronecker(a, b): \n",
    "    r = [[0,0,0,0] , [0,0,0,0], [0,0,0,0], [0,0,0,0]]\n",
    "    r[0][0] = a[0][0] * b[0][0]\n",
    "    r[0][1] = a[0][0] * b[0][1]\n",
    "    r[1][0] = a[0][0] * b[1][0]\n",
    "    r[1][1] = a[0][0] * b[1][1]\n",
    "    \n",
    "    r[0][2] = a[0][1] * b[0][0]\n",
    "    r[0][3] = a[0][1] * b[0][1]\n",
    "    r[1][2] = a[0][1] * b[1][0]\n",
    "    r[1][3] = a[0][1] * b[1][1]\n",
    "    \n",
    "    \n",
    "    r[2][0] = a[1][0] * b[0][0]\n",
    "    r[2][1] = a[1][0] * b[0][1]\n",
    "    r[3][0] = a[1][0] * b[1][0]\n",
    "    r[3][1] = a[1][0] * b[1][1]\n",
    "    \n",
    "    r[2][2] = a[1][1] * b[0][0]\n",
    "    r[2][3] = a[1][1] * b[0][1]\n",
    "    r[3][2] = a[1][1] * b[1][0]\n",
    "    r[3][3] = a[1][1] * b[1][1]\n",
    "    \n",
    "    return r "
   ]
  },
  {
   "cell_type": "code",
   "execution_count": 18,
   "metadata": {},
   "outputs": [
    {
     "name": "stdout",
     "output_type": "stream",
     "text": [
      "         ┌───┐     \n",
      "q4_0: |0>┤ H ├──■──\n",
      "         └───┘┌─┴─┐\n",
      "q4_1: |0>─────┤ X ├\n",
      "              └───┘\n",
      " c3_0: 0 ══════════\n",
      "                   \n",
      " c3_1: 0 ══════════\n",
      "                   \n",
      "{'xx': 1.0, 'xi': 0.0006, 'ix': 0.0006, 'yy': -1.0, 'yi': 0.00626, 'iy': -0.00626, 'zz': 1.0, 'zi': 0.00188, 'iz': 0.00188, 'xz': -0.00554, 'xy': 0.00274, 'yz': -0.00182, 'yx': 0.00202, 'zx': 0.002, 'zy': -0.00096}\n",
      "[[0.501, 0.003, -0.002, 0.499], [-0.001, 0.0, 0.0, 0.0], [0.0, 0.0, 0.0, 0.001], [0.501, 0.004, -0.001, 0.499]]\n"
     ]
    }
   ],
   "source": [
    "qr = QuantumRegister(2)\n",
    "cr = ClassicalRegister(2)\n",
    "\n",
    "circ = QuantumCircuit(qr, cr)\n",
    "circ.h(qr[0])\n",
    "circ.cx(qr[0], qr[1])\n",
    "\n",
    "#Triplet State 1 with a 0.5 in each corner of the density matrix and a zero in every other space. \n",
    "\n",
    "print(circ)\n",
    "\n",
    "print(getDensityMatrix(circ, qr, cr))"
   ]
  },
  {
   "cell_type": "markdown",
   "metadata": {},
   "source": [
    "The density matrix matches that of the expected calculated density matrix for a triplet state 1. "
   ]
  }
 ],
 "metadata": {
  "kernelspec": {
   "display_name": "Python 3",
   "language": "python",
   "name": "python3"
  },
  "language_info": {
   "codemirror_mode": {
    "name": "ipython",
    "version": 3
   },
   "file_extension": ".py",
   "mimetype": "text/x-python",
   "name": "python",
   "nbconvert_exporter": "python",
   "pygments_lexer": "ipython3",
   "version": "3.7.3"
  }
 },
 "nbformat": 4,
 "nbformat_minor": 2
}
