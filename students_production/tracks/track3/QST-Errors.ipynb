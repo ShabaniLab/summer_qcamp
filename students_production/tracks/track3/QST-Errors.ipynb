{
 "cells": [
  {
   "cell_type": "code",
   "execution_count": 1,
   "metadata": {},
   "outputs": [],
   "source": [
    "import numpy as np\n",
    "import matplotlib.pyplot as plt\n",
    "\n",
    "from qiskit import *\n",
    "# Tomography functions\n",
    "from qiskit.ignis.verification.tomography import state_tomography_circuits, StateTomographyFitter\n",
    "import qiskit.ignis.mitigation.measurement as mc\n",
    "from qiskit.quantum_info import state_fidelity\n",
    "\n",
    "\n",
    "#Noise\n",
    "from qiskit.providers.aer.noise import NoiseModel\n",
    "from qiskit.providers.aer.noise.errors import QuantumError, ReadoutError\n",
    "from qiskit.providers.aer.noise.errors import pauli_error, amplitude_damping_error\n",
    "from qiskit.providers.aer.noise.errors import depolarizing_error, phase_damping_error\n",
    "from qiskit.providers.aer.noise.errors import thermal_relaxation_error\n",
    "\n",
    "from qiskit.ignis.characterization.coherence import T1Fitter, T2StarFitter, T2Fitter\n",
    "from qiskit.ignis.characterization.coherence import t1_circuits, t2_circuits, t2star_circuits"
   ]
  },
  {
   "cell_type": "code",
   "execution_count": 3,
   "metadata": {},
   "outputs": [
    {
     "name": "stdout",
     "output_type": "stream",
     "text": [
      "              ┌───┐     ┌───┐\n",
      "q1_0: |0>─────┤ X ├─────┤ X ├\n",
      "         ┌────┴───┴────┐└─┬─┘\n",
      "q1_1: |0>┤ Ry(-1.5708) ├──■──\n",
      "         └─────────────┘     \n",
      "[ 0.        +0.j  0.70710678+0.j -0.70710678+0.j  0.        +0.j]\n"
     ]
    }
   ],
   "source": [
    "# Create the expected density matrix\n",
    "q2 = QuantumRegister(2)\n",
    "bell = QuantumCircuit(q2)\n",
    "bell.x(q2[0])\n",
    "bell.ry(-np.pi/2,q2[1])\n",
    "bell.cx(q2[1], q2[0])\n",
    "print(bell)\n",
    "\n",
    "job = qiskit.execute(bell, Aer.get_backend('statevector_simulator'))\n",
    "psi_bell = job.result().get_statevector(bell)\n",
    "print(psi_bell)"
   ]
  },
  {
   "cell_type": "markdown",
   "metadata": {},
   "source": [
    "**Bit Flip:**"
   ]
  },
  {
   "cell_type": "code",
   "execution_count": 7,
   "metadata": {},
   "outputs": [],
   "source": [
    "#Actual Circuit\n",
    "q2 = QuantumRegister(2)\n",
    "bell = QuantumCircuit(q2)\n",
    "bell.x(q2[0])\n",
    "bell.ry(-np.pi/2,q2[1])\n",
    "bell.cx(q2[1], q2[0])\n",
    "\n",
    "# Generate the state tomography circuits.\n",
    "qst_bell = state_tomography_circuits(bell, [q2[0],q2[1]])\n",
    "job = qiskit.execute(qst_bell, Aer.get_backend('qasm_simulator'), shots=5000)\n",
    "tomo_bell = StateTomographyFitter(job.result(), qst_bell)\n",
    "\n",
    "# Perform the tomography fit\n",
    "# which outputs a density matrix\n",
    "rho_bell = tomo_bell.fit()\n",
    "F_bell = state_fidelity(psi_bell, rho_bell)"
   ]
  },
  {
   "cell_type": "code",
   "execution_count": 10,
   "metadata": {},
   "outputs": [
    {
     "name": "stdout",
     "output_type": "stream",
     "text": [
      "Fit Fidelity (no correction) = 0.6136155314392271\n",
      "[[ 0.14798657+0.j          0.00264287-0.00092474j  0.00082503+0.0022418j\n",
      "  -0.05543277-0.00427123j]\n",
      " [ 0.00264287+0.00092474j  0.35581423+0.j         -0.26138121-0.00400399j\n",
      "  -0.00058057+0.00125377j]\n",
      " [ 0.00082503-0.0022418j  -0.26138121+0.00400399j  0.34865442+0.j\n",
      "  -0.00342533-0.00311451j]\n",
      " [-0.05543277+0.00427123j -0.00058057-0.00125377j -0.00342533+0.00311451j\n",
      "   0.14754479+0.j        ]]\n"
     ]
    }
   ],
   "source": [
    "p_meas = 0.1\n",
    "p_gate1 = 0.1\n",
    "\n",
    "# QuantumError objects\n",
    "##error_reset = pauli_error([('X', p_reset), ('I', 1 - p_reset)])\n",
    "error_meas = pauli_error([('X',p_meas), ('I', 1 - p_meas)])\n",
    "error_gate1 = pauli_error([('X',p_gate1), ('I', 1 - p_gate1)])\n",
    "error_gate2 = error_gate1.tensor(error_gate1)\n",
    "\n",
    "# Add errors to noise model\n",
    "noise_bit_flip = NoiseModel()\n",
    "##noise_bit_flip.add_all_qubit_quantum_error(error_reset, \"reset\")\n",
    "noise_bit_flip.add_all_qubit_quantum_error(error_meas, \"measure\")\n",
    "noise_bit_flip.add_all_qubit_quantum_error(error_gate1, [\"u1\", \"u2\", \"u3\"])\n",
    "noise_bit_flip.add_all_qubit_quantum_error(error_gate2, [\"cx\"])\n",
    "\n",
    "meas_calibs, state_labels = mc.complete_meas_cal(qubit_list=[0,1])\n",
    "\n",
    "backend = Aer.get_backend('qasm_simulator')\n",
    "job_cal = qiskit.execute(meas_calibs, backend=backend, shots=15000, noise_model=noise_bit_flip)\n",
    "job_tomo = qiskit.execute(qst_bell, backend=backend, shots=15000, noise_model=noise_bit_flip)\n",
    "\n",
    "meas_fitter = mc.CompleteMeasFitter(job_cal.result(),state_labels)\n",
    "\n",
    "tomo_bell = StateTomographyFitter(job_tomo.result(), qst_bell)\n",
    "\n",
    "#no correction\n",
    "rho_bell1 = tomo_bell.fit()\n",
    "F_bell = state_fidelity(psi_bell, rho_bell1)\n",
    "print('Fit Fidelity (no correction) =', F_bell)\n",
    "print(rho_bell1)\n"
   ]
  },
  {
   "cell_type": "markdown",
   "metadata": {},
   "source": [
    "**Phase Flip:**"
   ]
  },
  {
   "cell_type": "code",
   "execution_count": 18,
   "metadata": {},
   "outputs": [],
   "source": [
    "#Actual Circuit\n",
    "q2 = QuantumRegister(2)\n",
    "bell = QuantumCircuit(q2)\n",
    "bell.x(q2[0])\n",
    "bell.ry(-np.pi/2,q2[1])\n",
    "bell.cx(q2[1], q2[0])\n",
    "#bell.ry(-np.pi/2,q2[1])\n",
    "#bell.ry(-np.pi/2,q2[0])\n",
    "\n",
    "# Generate the state tomography circuits.\n",
    "qst_bell = state_tomography_circuits(bell, [q2[0],q2[1]])\n",
    "job = qiskit.execute(qst_bell, Aer.get_backend('qasm_simulator'), shots=5000)\n",
    "tomo_bell = StateTomographyFitter(job.result(), qst_bell)\n",
    "\n",
    "# Perform the tomography fit\n",
    "# which outputs a density matrix\n",
    "rho_bell = tomo_bell.fit()\n",
    "F_bell = state_fidelity(psi_bell, rho_bell)"
   ]
  },
  {
   "cell_type": "code",
   "execution_count": 19,
   "metadata": {},
   "outputs": [
    {
     "name": "stdout",
     "output_type": "stream",
     "text": [
      "Fit Fidelity (no correction) = 0.7551108526360641\n",
      "[[ 8.51212493e-04+0.j         -2.79746633e-03+0.00121475j\n",
      "   7.32668691e-04+0.00186112j -2.08997091e-04+0.00080622j]\n",
      " [-2.79746633e-03-0.00121475j  5.00120198e-01+0.j\n",
      "  -2.55982498e-01+0.00278092j -3.59325560e-03-0.00140815j]\n",
      " [ 7.32668691e-04-0.00186112j -2.55982498e-01-0.00278092j\n",
      "   4.98136511e-01+0.j          6.76080871e-03+0.00098111j]\n",
      " [-2.08997091e-04-0.00080622j -3.59325560e-03+0.00140815j\n",
      "   6.76080871e-03-0.00098111j  8.92077809e-04+0.j        ]]\n"
     ]
    }
   ],
   "source": [
    "p_meas = 0.1\n",
    "p_gate1 = 0.1\n",
    "\n",
    "# QuantumError objects\n",
    "##error_reset = pauli_error([('X', p_reset), ('I', 1 - p_reset)])\n",
    "error_meas = pauli_error([('Z',p_meas), ('I', 1 - p_meas)])\n",
    "error_gate1 = pauli_error([('Z',p_gate1), ('I', 1 - p_gate1)])\n",
    "error_gate2 = error_gate1.tensor(error_gate1)\n",
    "\n",
    "# Add errors to noise model\n",
    "noise_phase_flip = NoiseModel()\n",
    "##noise_bit_flip.add_all_qubit_quantum_error(error_reset, \"reset\")\n",
    "noise_phase_flip.add_all_qubit_quantum_error(error_meas, \"measure\")\n",
    "noise_phase_flip.add_all_qubit_quantum_error(error_gate1, [\"u1\", \"u2\", \"u3\"])\n",
    "noise_phase_flip.add_all_qubit_quantum_error(error_gate2, [\"cx\"])\n",
    "\n",
    "meas_calibs, state_labels = mc.complete_meas_cal(qubit_list=[0,1])\n",
    "\n",
    "backend = Aer.get_backend('qasm_simulator')\n",
    "job_cal = qiskit.execute(meas_calibs, backend=backend, shots=15000, noise_model=noise_phase_flip)\n",
    "job_tomo = qiskit.execute(qst_bell, backend=backend, shots=15000, noise_model=noise_phase_flip)\n",
    "\n",
    "meas_fitter = mc.CompleteMeasFitter(job_cal.result(),state_labels)\n",
    "\n",
    "tomo_bell = StateTomographyFitter(job_tomo.result(), qst_bell)\n",
    "\n",
    "#no correction\n",
    "rho_bell1 = tomo_bell.fit()\n",
    "F_bell = state_fidelity(psi_bell, rho_bell1)\n",
    "print('Fit Fidelity (no correction) =', F_bell)\n",
    "print(rho_bell1)\n"
   ]
  },
  {
   "cell_type": "markdown",
   "metadata": {},
   "source": [
    "**Depolarization:**"
   ]
  },
  {
   "cell_type": "code",
   "execution_count": 12,
   "metadata": {},
   "outputs": [],
   "source": [
    "#Actual Circuit\n",
    "q2 = QuantumRegister(2)\n",
    "bell = QuantumCircuit(q2)\n",
    "bell.x(q2[0])\n",
    "bell.ry(-np.pi/2,q2[1])\n",
    "bell.cx(q2[1], q2[0])\n",
    "\n",
    "# Generate the state tomography circuits.\n",
    "qst_bell = state_tomography_circuits(bell, [q2[0],q2[1]])\n",
    "job = qiskit.execute(qst_bell, Aer.get_backend('qasm_simulator'), shots=5000)\n",
    "tomo_bell = StateTomographyFitter(job.result(), qst_bell)\n",
    "\n",
    "# Perform the tomography fit\n",
    "# which outputs a density matrix\n",
    "rho_bell = tomo_bell.fit()\n",
    "F_bell = state_fidelity(psi_bell, rho_bell)"
   ]
  },
  {
   "cell_type": "code",
   "execution_count": 13,
   "metadata": {},
   "outputs": [
    {
     "name": "stdout",
     "output_type": "stream",
     "text": [
      "Fit Fidelity (no correction) = 0.8180798369511377\n",
      "[[ 0.04601994+0.j         -0.00098213-0.00063986j -0.00332285-0.00380295j\n",
      "  -0.00174105+0.00569184j]\n",
      " [-0.00098213+0.00063986j  0.45394486+0.j         -0.3631825 -0.00063966j\n",
      "   0.00460348-0.00091826j]\n",
      " [-0.00332285+0.00380295j -0.3631825 +0.00063966j  0.4558498 +0.j\n",
      "  -0.00189922-0.00010738j]\n",
      " [-0.00174105-0.00569184j  0.00460348+0.00091826j -0.00189922+0.00010738j\n",
      "   0.0441854 +0.j        ]]\n"
     ]
    }
   ],
   "source": [
    "noise_model = NoiseModel()\n",
    "\n",
    "error = depolarizing_error(0.1, 1)\n",
    "error2 = error.tensor(error)\n",
    "noise_model.add_all_qubit_quantum_error(error, ['u1', 'u2', 'u3'])\n",
    "noise_model.add_all_qubit_quantum_error(error2, [\"cx\"])\n",
    "    \n",
    "#generate the calibration circuits\n",
    "meas_calibs, state_labels = mc.complete_meas_cal(qubit_list=[0,1])\n",
    "\n",
    "backend = Aer.get_backend('qasm_simulator')\n",
    "job_cal = qiskit.execute(meas_calibs, backend=backend, shots=15000, noise_model=noise_model)\n",
    "job_tomo = qiskit.execute(qst_bell, backend=backend, shots=15000, noise_model=noise_model)\n",
    "\n",
    "meas_fitter = mc.CompleteMeasFitter(job_cal.result(),state_labels)\n",
    "\n",
    "tomo_bell = StateTomographyFitter(job_tomo.result(), qst_bell)\n",
    "\n",
    "#no correction\n",
    "rho_bell1 = tomo_bell.fit()\n",
    "F_bell = state_fidelity(psi_bell, rho_bell1)\n",
    "print('Fit Fidelity (no correction) =', F_bell)\n",
    "print(rho_bell1)"
   ]
  },
  {
   "cell_type": "markdown",
   "metadata": {},
   "source": [
    "**Phase Damping:**"
   ]
  },
  {
   "cell_type": "code",
   "execution_count": 20,
   "metadata": {},
   "outputs": [],
   "source": [
    "#Actual Circuit\n",
    "q2 = QuantumRegister(2)\n",
    "bell = QuantumCircuit(q2)\n",
    "bell.x(q2[0])\n",
    "bell.ry(-np.pi/2,q2[1])\n",
    "bell.cx(q2[1], q2[0])\n",
    "\n",
    "# Generate the state tomography circuits.\n",
    "qst_bell = state_tomography_circuits(bell, [q2[0],q2[1]])\n",
    "job = qiskit.execute(qst_bell, Aer.get_backend('qasm_simulator'), shots=5000)\n",
    "tomo_bell = StateTomographyFitter(job.result(), qst_bell)\n",
    "\n",
    "# Perform the tomography fit\n",
    "# which outputs a density matrix\n",
    "rho_bell = tomo_bell.fit()\n",
    "F_bell = state_fidelity(psi_bell, rho_bell)"
   ]
  },
  {
   "cell_type": "code",
   "execution_count": 21,
   "metadata": {},
   "outputs": [
    {
     "name": "stdout",
     "output_type": "stream",
     "text": [
      "Fit Fidelity (no correction) = 0.9228707235340919\n",
      "[[ 8.18365448e-04+0.j         -8.37148347e-04+0.00032572j\n",
      "  -2.39954029e-03-0.00311354j  3.05217930e-04+0.00051583j]\n",
      " [-8.37148347e-04-0.00032572j  5.00712818e-01+0.j\n",
      "  -4.23671910e-01+0.00067098j  7.21743692e-04+0.00039469j]\n",
      " [-2.39954029e-03+0.00311354j -4.23671910e-01-0.00067098j\n",
      "   4.97684809e-01+0.j          2.15605945e-03+0.00147846j]\n",
      " [ 3.05217930e-04-0.00051583j  7.21743692e-04-0.00039469j\n",
      "   2.15605945e-03-0.00147846j  7.84008193e-04+0.j        ]]\n"
     ]
    }
   ],
   "source": [
    "noise_model = NoiseModel()\n",
    "\n",
    "error = phase_damping_error(0.1, 1)\n",
    "error2 = error.tensor(error)\n",
    "noise_model.add_all_qubit_quantum_error(error, ['u1', 'u2', 'u3'])\n",
    "noise_model.add_all_qubit_quantum_error(error2, [\"cx\"])\n",
    "    \n",
    "#generate the calibration circuits\n",
    "meas_calibs, state_labels = mc.complete_meas_cal(qubit_list=[0,1])\n",
    "\n",
    "backend = Aer.get_backend('qasm_simulator')\n",
    "job_cal = qiskit.execute(meas_calibs, backend=backend, shots=15000, noise_model=noise_model)\n",
    "job_tomo = qiskit.execute(qst_bell, backend=backend, shots=15000, noise_model=noise_model)\n",
    "\n",
    "meas_fitter = mc.CompleteMeasFitter(job_cal.result(),state_labels)\n",
    "\n",
    "tomo_bell = StateTomographyFitter(job_tomo.result(), qst_bell)\n",
    "\n",
    "#no correction\n",
    "rho_bell = tomo_bell.fit()\n",
    "F_bell = state_fidelity(psi_bell, rho_bell)\n",
    "print('Fit Fidelity (no correction) =', F_bell)\n",
    "print(rho_bell)"
   ]
  },
  {
   "cell_type": "markdown",
   "metadata": {},
   "source": [
    "**Amplitude Damping:**"
   ]
  },
  {
   "cell_type": "code",
   "execution_count": 22,
   "metadata": {},
   "outputs": [],
   "source": [
    "#Actual Circuit\n",
    "q2 = QuantumRegister(2)\n",
    "bell = QuantumCircuit(q2)\n",
    "bell.x(q2[0])\n",
    "bell.ry(-np.pi/2,q2[1])\n",
    "bell.cx(q2[1], q2[0])\n",
    "\n",
    "# Generate the state tomography circuits.\n",
    "qst_bell = state_tomography_circuits(bell, [q2[0],q2[1]])\n",
    "job = qiskit.execute(qst_bell, Aer.get_backend('qasm_simulator'), shots=5000)\n",
    "tomo_bell = StateTomographyFitter(job.result(), qst_bell)\n",
    "\n",
    "# Perform the tomography fit\n",
    "# which outputs a density matrix\n",
    "rho_bell = tomo_bell.fit()\n",
    "F_bell = state_fidelity(psi_bell, rho_bell)"
   ]
  },
  {
   "cell_type": "code",
   "execution_count": 23,
   "metadata": {},
   "outputs": [
    {
     "name": "stdout",
     "output_type": "stream",
     "text": [
      "Fit Fidelity (no correction) = 0.8764231778333289\n",
      "[[ 9.91726908e-02+0.00000000e+00j -3.33443861e-03+3.17957807e-03j\n",
      "   3.70137348e-05+5.13825444e-05j  2.12698460e-04+3.00937656e-03j]\n",
      " [-3.33443861e-03-3.17957807e-03j  4.94596059e-01+0.00000000e+00j\n",
      "  -4.26273874e-01+2.56098899e-03j -4.20785050e-04-2.38455039e-03j]\n",
      " [ 3.70137348e-05-5.13825444e-05j -4.26273874e-01-2.56098899e-03j\n",
      "   4.05702550e-01+0.00000000e+00j  3.33042011e-03-8.31645648e-04j]\n",
      " [ 2.12698460e-04-3.00937656e-03j -4.20785050e-04+2.38455039e-03j\n",
      "   3.33042011e-03+8.31645648e-04j  5.28700729e-04+0.00000000e+00j]]\n"
     ]
    }
   ],
   "source": [
    "noise_model = NoiseModel()\n",
    "\n",
    "error = amplitude_damping_error(0.1, 0, True)\n",
    "error2 = error.tensor(error)\n",
    "noise_model.add_all_qubit_quantum_error(error, ['u1', 'u2', 'u3'])\n",
    "noise_model.add_all_qubit_quantum_error(error2, [\"cx\"])\n",
    "    \n",
    "#generate the calibration circuits\n",
    "meas_calibs, state_labels = mc.complete_meas_cal(qubit_list=[0,1])\n",
    "\n",
    "backend = Aer.get_backend('qasm_simulator')\n",
    "job_cal = qiskit.execute(meas_calibs, backend=backend, shots=15000, noise_model=noise_model)\n",
    "job_tomo = qiskit.execute(qst_bell, backend=backend, shots=15000, noise_model=noise_model)\n",
    "\n",
    "meas_fitter = mc.CompleteMeasFitter(job_cal.result(),state_labels)\n",
    "\n",
    "tomo_bell = StateTomographyFitter(job_tomo.result(), qst_bell)\n",
    "\n",
    "#no correction\n",
    "rho_bell = tomo_bell.fit()\n",
    "F_bell = state_fidelity(psi_bell, rho_bell)\n",
    "print('Fit Fidelity (no correction) =', F_bell)\n",
    "print(rho_bell)\n"
   ]
  },
  {
   "cell_type": "markdown",
   "metadata": {},
   "source": [
    "**Thermal Relaxation:**"
   ]
  },
  {
   "cell_type": "code",
   "execution_count": 25,
   "metadata": {},
   "outputs": [],
   "source": [
    "#Actual Circuit\n",
    "q2 = QuantumRegister(2)\n",
    "bell = QuantumCircuit(q2)\n",
    "bell.x(q2[0])\n",
    "bell.ry(-np.pi/2,q2[1])\n",
    "bell.cx(q2[1], q2[0])\n",
    "\n",
    "# Generate the state tomography circuits.\n",
    "qst_bell = state_tomography_circuits(bell, [q2[0],q2[1]])\n",
    "job = qiskit.execute(qst_bell, Aer.get_backend('qasm_simulator'), shots=5000)\n",
    "tomo_bell = StateTomographyFitter(job.result(), qst_bell)\n",
    "\n",
    "# Perform the tomography fit\n",
    "# which outputs a density matrix\n",
    "rho_bell = tomo_bell.fit()\n",
    "F_bell = state_fidelity(psi_bell, rho_bell)"
   ]
  },
  {
   "cell_type": "code",
   "execution_count": 26,
   "metadata": {},
   "outputs": [
    {
     "name": "stdout",
     "output_type": "stream",
     "text": [
      "Fit Fidelity (no correction) = 0.8777335180304411\n",
      "[[ 9.87709363e-02+0.j          1.00102830e-03+0.0017422j\n",
      "  -1.43075238e-03-0.00044185j  1.27080066e-03-0.00305389j]\n",
      " [ 1.00102830e-03-0.0017422j   4.97769847e-01+0.j\n",
      "  -4.27212580e-01-0.00259983j -8.22112351e-04+0.00043435j]\n",
      " [-1.43075238e-03+0.00044185j -4.27212580e-01+0.00259983j\n",
      "   4.03272028e-01+0.j          6.87070353e-04+0.00128036j]\n",
      " [ 1.27080066e-03+0.00305389j -8.22112351e-04-0.00043435j\n",
      "   6.87070353e-04-0.00128036j  1.87188587e-04+0.j        ]]\n"
     ]
    }
   ],
   "source": [
    "# T1 and T2 values for qubits 0-3\n",
    "T1s = np.random.normal(50e3, 10e3, 4) # Sampled from normal distribution mean 50 microsec\n",
    "T2s = np.random.normal(70e3, 10e3, 4)  # Sampled from normal distribution mean 50 microsec\n",
    "\n",
    "# Truncate random T2s <= T1s\n",
    "T2s = np.array([min(T2s[j], 2 * T1s[j]) for j in range(4)])\n",
    "\n",
    "# Instruction times (in nanoseconds)\n",
    "time_u1 = 0   # virtual gate\n",
    "time_u2 = 50  # (single X90 pulse)\n",
    "time_u3 = 100 # (two X90 pulses)\n",
    "time_cx = 300\n",
    "time_reset = 1000  # 1 microsecond\n",
    "time_measure = 1000 # 1 microsecond\n",
    "\n",
    "# QuantumError objects\n",
    "errors_reset = [thermal_relaxation_error(t1, t2, time_reset)\n",
    "                for t1, t2 in zip(T1s, T2s)]\n",
    "errors_measure = [thermal_relaxation_error(t1, t2, time_measure)\n",
    "                  for t1, t2 in zip(T1s, T2s)]\n",
    "errors_u1  = [thermal_relaxation_error(t1, t2, time_u1)\n",
    "              for t1, t2 in zip(T1s, T2s)]\n",
    "errors_u2  = [thermal_relaxation_error(t1, t2, time_u2)\n",
    "              for t1, t2 in zip(T1s, T2s)]\n",
    "errors_u3  = [thermal_relaxation_error(t1, t2, time_u3)\n",
    "              for t1, t2 in zip(T1s, T2s)]\n",
    "errors_cx = [[thermal_relaxation_error(t1a, t2a, time_cx).expand(\n",
    "             thermal_relaxation_error(t1b, t2b, time_cx))\n",
    "              for t1a, t2a in zip(T1s, T2s)]\n",
    "               for t1b, t2b in zip(T1s, T2s)]\n",
    "\n",
    "# Add errors to noise model\n",
    "noise_thermal = NoiseModel()\n",
    "for j in range(4):\n",
    "    noise_thermal.add_quantum_error(errors_reset[j], \"reset\", [j])\n",
    "    noise_thermal.add_quantum_error(errors_measure[j], \"measure\", [j])\n",
    "    noise_thermal.add_quantum_error(errors_u1[j], \"u1\", [j])\n",
    "    noise_thermal.add_quantum_error(errors_u2[j], \"u2\", [j])\n",
    "    noise_thermal.add_quantum_error(errors_u3[j], \"u3\", [j])\n",
    "    for k in range(4):\n",
    "        noise_thermal.add_quantum_error(errors_cx[j][k], \"cx\", [j, k])\n",
    "\n",
    "#generate the calibration circuits\n",
    "meas_calibs, state_labels = mc.complete_meas_cal(qubit_list=[0,1])\n",
    "\n",
    "backend = Aer.get_backend('qasm_simulator')\n",
    "job_cal = qiskit.execute(meas_calibs, backend=backend, shots=15000, noise_model=noise_model)\n",
    "job_tomo = qiskit.execute(qst_bell, backend=backend, shots=15000, noise_model=noise_model)\n",
    "\n",
    "meas_fitter = mc.CompleteMeasFitter(job_cal.result(),state_labels)\n",
    "\n",
    "tomo_bell = StateTomographyFitter(job_tomo.result(), qst_bell)\n",
    "\n",
    "#no correction\n",
    "rho_bell = tomo_bell.fit()\n",
    "F_bell = state_fidelity(psi_bell, rho_bell)\n",
    "print('Fit Fidelity (no correction) =', F_bell)\n",
    "print(rho_bell)\n"
   ]
  },
  {
   "cell_type": "code",
   "execution_count": null,
   "metadata": {},
   "outputs": [],
   "source": []
  }
 ],
 "metadata": {
  "kernelspec": {
   "display_name": "Python 3",
   "language": "python",
   "name": "python3"
  },
  "language_info": {
   "codemirror_mode": {
    "name": "ipython",
    "version": 3
   },
   "file_extension": ".py",
   "mimetype": "text/x-python",
   "name": "python",
   "nbconvert_exporter": "python",
   "pygments_lexer": "ipython3",
   "version": "3.7.3"
  }
 },
 "nbformat": 4,
 "nbformat_minor": 2
}
