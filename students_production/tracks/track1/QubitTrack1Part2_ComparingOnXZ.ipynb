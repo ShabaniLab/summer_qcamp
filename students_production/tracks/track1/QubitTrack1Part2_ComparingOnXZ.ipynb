{
 "cells": [
  {
   "cell_type": "code",
   "execution_count": null,
   "metadata": {},
   "outputs": [],
   "source": [
    "import numpy as np\n",
    "from qiskit import *\n",
    "from qiskit.visualization import plot_histogram\n",
    "from math import pi\n",
    "from qiskit.quantum_info import Pauli, state_fidelity, basis_state, process_fidelity\n",
    "from qiskit.visualization import plot_bloch_vector\n",
    "%matplotlib inline"
   ]
  },
  {
   "cell_type": "code",
   "execution_count": null,
   "metadata": {},
   "outputs": [],
   "source": [
    "def stater(qc):\n",
    "    backend_sim = BasicAer.get_backend('statevector_simulator')\n",
    "    result = execute(qc, backend_sim).result()\n",
    "    state = result.get_statevector(qc)\n",
    "    print(state)"
   ]
  },
  {
   "cell_type": "code",
   "execution_count": null,
   "metadata": {
    "scrolled": true
   },
   "outputs": [],
   "source": [
    "q = QuantumRegister(1, 'q')\n",
    "c = ClassicalRegister(1, 'c')\n",
    "qc = QuantumCircuit(q, c)\n",
    "print(\"original\")\n",
    "stater(qc)\n",
    "print(\"insert h gate\")\n",
    "qc.h(q)\n",
    "stater(qc)\n",
    "print(\"insert ry gate\")\n",
    "qc.ry(pi/6,q)\n",
    "stater(qc)\n",
    "qc.draw(output='mpl')"
   ]
  },
  {
   "cell_type": "code",
   "execution_count": null,
   "metadata": {},
   "outputs": [],
   "source": [
    "meas = QuantumCircuit(q,c)\n",
    "meas.measure(q, c)\n",
    "\n",
    "# execute the quantum circuit \n",
    "backend = BasicAer.get_backend('qasm_simulator') # the device to run on\n",
    "circ = qc+meas\n",
    "result = execute(circ, backend, shots=10000).result()\n",
    "counts  = result.get_counts(circ)\n",
    "print(counts)"
   ]
  },
  {
   "cell_type": "code",
   "execution_count": null,
   "metadata": {},
   "outputs": [],
   "source": [
    "# from https://quantumexperience.ng.bluemix.net/proxy/tutorial/full-user-guide/002-The_Weird_and_Wonderful_World_of_the_Qubit/005-The_Bloch_Sphere.html\n",
    "meas_x = QuantumCircuit(q, c)\n",
    "meas_x.h(q)\n",
    "meas_x.measure(q, c)\n",
    "\n",
    "meas_y = QuantumCircuit(q, c)\n",
    "meas_y.s(q).inverse()\n",
    "meas_y.h(q)\n",
    "meas_y.measure(q, c)\n",
    "\n",
    "meas_z = QuantumCircuit(q, c)\n",
    "meas_z.measure(q, c)\n",
    "\n",
    "bloch_vector = ['x', 'y', 'z']\n",
    "exp_vector = range(0, 21)\n",
    "circuits = []\n",
    "\n",
    "for exp_index in exp_vector:\n",
    "    middle = QuantumCircuit(q, c)\n",
    "    phase = 2*np.pi*exp_index/(len(exp_vector)-1)\n",
    "    middle.u1(phase, q)\n",
    "    circuits.append(qc + middle + meas_x)\n",
    "    circuits.append(qc + middle + meas_y)\n",
    "    circuits.append(qc + middle + meas_z)\n",
    "    \n",
    "job = execute(circuits,\n",
    "              backend = Aer.get_backend('qasm_simulator'),\n",
    "              shots=1024)\n",
    "result = job.result()\n",
    "\n",
    "for exp_index in exp_vector:\n",
    "    bloch = [0, 0, 0]\n",
    "    for bloch_index in range(len(bloch_vector)):\n",
    "        data = result.get_counts(circuits[3*exp_index+bloch_index])\n",
    "        try:\n",
    "            p0 = data['0']/1024.0\n",
    "        except KeyError:\n",
    "            p0 = 0\n",
    "        try:\n",
    "            p1 = data['1']/1024.0\n",
    "        except KeyError:\n",
    "            p1 = 0\n",
    "        bloch[bloch_index] = p0-p1"
   ]
  },
  {
   "cell_type": "code",
   "execution_count": null,
   "metadata": {},
   "outputs": [],
   "source": [
    "plot_bloch_vector(bloch, title='qc Bloch Sphere Test')\n",
    "#this graph is the result of the qc circuit of one qubit"
   ]
  },
  {
   "cell_type": "code",
   "execution_count": null,
   "metadata": {},
   "outputs": [],
   "source": [
    "plot_histogram(counts)"
   ]
  },
  {
   "cell_type": "code",
   "execution_count": null,
   "metadata": {},
   "outputs": [],
   "source": [
    "q = QuantumRegister(1, 'q')\n",
    "c = ClassicalRegister(1, 'c')\n",
    "qc = QuantumCircuit(q, c)\n",
    "print(\"original\")\n",
    "stater(qc)\n",
    "print(\"insert h gate\")\n",
    "qc.h(q)\n",
    "stater(qc)\n",
    "print(\"insert rz gate\")\n",
    "qc.ry(-pi/6,q)\n",
    "stater(qc)\n",
    "qc.draw(output='mpl')"
   ]
  },
  {
   "cell_type": "code",
   "execution_count": null,
   "metadata": {},
   "outputs": [],
   "source": [
    "meas = QuantumCircuit(q,c)\n",
    "meas.measure(q, c)\n",
    "\n",
    "# execute the quantum circuit \n",
    "backend = BasicAer.get_backend('qasm_simulator') # the device to run on\n",
    "circ = qc+meas\n",
    "result = execute(circ, backend, shots=10000).result()\n",
    "counts  = result.get_counts(circ)\n",
    "print(counts)"
   ]
  },
  {
   "cell_type": "code",
   "execution_count": null,
   "metadata": {},
   "outputs": [],
   "source": [
    "# from https://quantumexperience.ng.bluemix.net/proxy/tutorial/full-user-guide/002-The_Weird_and_Wonderful_World_of_the_Qubit/005-The_Bloch_Sphere.html\n",
    "meas_x = QuantumCircuit(q, c)\n",
    "meas_x.h(q)\n",
    "meas_x.measure(q, c)\n",
    "\n",
    "meas_y = QuantumCircuit(q, c)\n",
    "meas_y.s(q).inverse()\n",
    "meas_y.h(q)\n",
    "meas_y.measure(q, c)\n",
    "\n",
    "meas_z = QuantumCircuit(q, c)\n",
    "meas_z.measure(q, c)\n",
    "\n",
    "bloch_vector = ['x', 'y', 'z']\n",
    "exp_vector = range(0, 21)\n",
    "circuits = []\n",
    "\n",
    "for exp_index in exp_vector:\n",
    "    middle = QuantumCircuit(q, c)\n",
    "    phase = 2*np.pi*exp_index/(len(exp_vector)-1)\n",
    "    middle.u1(phase, q)\n",
    "    circuits.append(qc + middle + meas_x)\n",
    "    circuits.append(qc + middle + meas_y)\n",
    "    circuits.append(qc + middle + meas_z)\n",
    "    \n",
    "job = execute(circuits,\n",
    "              backend = Aer.get_backend('qasm_simulator'),\n",
    "              shots=1024)\n",
    "result = job.result()\n",
    "\n",
    "for exp_index in exp_vector:\n",
    "    bloch = [0, 0, 0]\n",
    "    for bloch_index in range(len(bloch_vector)):\n",
    "        data = result.get_counts(circuits[3*exp_index+bloch_index])\n",
    "        try:\n",
    "            p0 = data['0']/1024.0\n",
    "        except KeyError:\n",
    "            p0 = 0\n",
    "        try:\n",
    "            p1 = data['1']/1024.0\n",
    "        except KeyError:\n",
    "            p1 = 0\n",
    "        bloch[bloch_index] = p0-p1"
   ]
  },
  {
   "cell_type": "code",
   "execution_count": null,
   "metadata": {},
   "outputs": [],
   "source": [
    "plot_bloch_vector(bloch, title='qc Bloch Sphere Test')\n",
    "#this graph is the result of the qc circuit of one qubit"
   ]
  },
  {
   "cell_type": "code",
   "execution_count": null,
   "metadata": {},
   "outputs": [],
   "source": [
    "plot_histogram(counts)"
   ]
  }
 ],
 "metadata": {
  "kernelspec": {
   "display_name": "Python 3",
   "language": "python",
   "name": "python3"
  },
  "language_info": {
   "codemirror_mode": {
    "name": "ipython",
    "version": 3
   },
   "file_extension": ".py",
   "mimetype": "text/x-python",
   "name": "python",
   "nbconvert_exporter": "python",
   "pygments_lexer": "ipython3",
   "version": "3.7.3"
  }
 },
 "nbformat": 4,
 "nbformat_minor": 2
}
